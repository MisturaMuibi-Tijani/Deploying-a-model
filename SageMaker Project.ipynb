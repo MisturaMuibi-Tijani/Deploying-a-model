{
 "cells": [
  {
   "cell_type": "markdown",
   "metadata": {},
   "source": [
    "# Creating a Sentiment Analysis Web App\n",
    "## Using PyTorch and SageMaker\n",
    "\n",
    "_Deep Learning Nanodegree Program | Deployment_\n",
    "\n",
    "---\n",
    "\n",
    "Now that we have a basic understanding of how SageMaker works we will try to use it to construct a complete project from end to end. Our goal will be to have a simple web page which a user can use to enter a movie review. The web page will then send the review off to our deployed model which will predict the sentiment of the entered review.\n",
    "\n",
    "## Instructions\n",
    "\n",
    "Some template code has already been provided for you, and you will need to implement additional functionality to successfully complete this notebook. You will not need to modify the included code beyond what is requested. Sections that begin with '**TODO**' in the header indicate that you need to complete or implement some portion within them. Instructions will be provided for each section and the specifics of the implementation are marked in the code block with a `# TODO: ...` comment. Please be sure to read the instructions carefully!\n",
    "\n",
    "In addition to implementing code, there will be questions for you to answer which relate to the task and your implementation. Each section where you will answer a question is preceded by a '**Question:**' header. Carefully read each question and provide your answer below the '**Answer:**' header by editing the Markdown cell.\n",
    "\n",
    "> **Note**: Code and Markdown cells can be executed using the **Shift+Enter** keyboard shortcut. In addition, a cell can be edited by typically clicking it (double-click for Markdown cells) or by pressing **Enter** while it is highlighted.\n",
    "\n",
    "## General Outline\n",
    "\n",
    "Recall the general outline for SageMaker projects using a notebook instance.\n",
    "\n",
    "1. Download or otherwise retrieve the data.\n",
    "2. Process / Prepare the data.\n",
    "3. Upload the processed data to S3.\n",
    "4. Train a chosen model.\n",
    "5. Test the trained model (typically using a batch transform job).\n",
    "6. Deploy the trained model.\n",
    "7. Use the deployed model.\n",
    "\n",
    "For this project, you will be following the steps in the general outline with some modifications. \n",
    "\n",
    "First, you will not be testing the model in its own step. You will still be testing the model, however, you will do it by deploying your model and then using the deployed model by sending the test data to it. One of the reasons for doing this is so that you can make sure that your deployed model is working correctly before moving forward.\n",
    "\n",
    "In addition, you will deploy and use your trained model a second time. In the second iteration you will customize the way that your trained model is deployed by including some of your own code. In addition, your newly deployed model will be used in the sentiment analysis web app."
   ]
  },
  {
   "cell_type": "markdown",
   "metadata": {},
   "source": [
    "## Step 1: Downloading the data\n",
    "\n",
    "As in the XGBoost in SageMaker notebook, we will be using the [IMDb dataset](http://ai.stanford.edu/~amaas/data/sentiment/)\n",
    "\n",
    "> Maas, Andrew L., et al. [Learning Word Vectors for Sentiment Analysis](http://ai.stanford.edu/~amaas/data/sentiment/). In _Proceedings of the 49th Annual Meeting of the Association for Computational Linguistics: Human Language Technologies_. Association for Computational Linguistics, 2011."
   ]
  },
  {
   "cell_type": "code",
   "execution_count": 1,
   "metadata": {},
   "outputs": [
    {
     "name": "stdout",
     "output_type": "stream",
     "text": [
      "mkdir: cannot create directory ‘../data’: File exists\n",
      "--2020-07-30 20:21:11--  http://ai.stanford.edu/~amaas/data/sentiment/aclImdb_v1.tar.gz\n",
      "Resolving ai.stanford.edu (ai.stanford.edu)... 171.64.68.10\n",
      "Connecting to ai.stanford.edu (ai.stanford.edu)|171.64.68.10|:80... connected.\n",
      "HTTP request sent, awaiting response... 200 OK\n",
      "Length: 84125825 (80M) [application/x-gzip]\n",
      "Saving to: ‘../data/aclImdb_v1.tar.gz’\n",
      "\n",
      "../data/aclImdb_v1. 100%[===================>]  80.23M  24.9MB/s    in 4.6s    \n",
      "\n",
      "2020-07-30 20:21:15 (17.6 MB/s) - ‘../data/aclImdb_v1.tar.gz’ saved [84125825/84125825]\n",
      "\n"
     ]
    }
   ],
   "source": [
    "%mkdir ../data\n",
    "!wget -O ../data/aclImdb_v1.tar.gz http://ai.stanford.edu/~amaas/data/sentiment/aclImdb_v1.tar.gz\n",
    "!tar -zxf ../data/aclImdb_v1.tar.gz -C ../data"
   ]
  },
  {
   "cell_type": "markdown",
   "metadata": {},
   "source": [
    "## Step 2: Preparing and Processing the data\n",
    "\n",
    "Also, as in the XGBoost notebook, we will be doing some initial data processing. The first few steps are the same as in the XGBoost example. To begin with, we will read in each of the reviews and combine them into a single input structure. Then, we will split the dataset into a training set and a testing set."
   ]
  },
  {
   "cell_type": "code",
   "execution_count": 2,
   "metadata": {},
   "outputs": [],
   "source": [
    "import os\n",
    "import glob\n",
    "\n",
    "def read_imdb_data(data_dir='../data/aclImdb'):\n",
    "    data = {}\n",
    "    labels = {}\n",
    "    \n",
    "    for data_type in ['train', 'test']:\n",
    "        data[data_type] = {}\n",
    "        labels[data_type] = {}\n",
    "        \n",
    "        for sentiment in ['pos', 'neg']:\n",
    "            data[data_type][sentiment] = []\n",
    "            labels[data_type][sentiment] = []\n",
    "            \n",
    "            path = os.path.join(data_dir, data_type, sentiment, '*.txt')\n",
    "            files = glob.glob(path)\n",
    "            \n",
    "            for f in files:\n",
    "                with open(f) as review:\n",
    "                    data[data_type][sentiment].append(review.read())\n",
    "                    # Here we represent a positive review by '1' and a negative review by '0'\n",
    "                    labels[data_type][sentiment].append(1 if sentiment == 'pos' else 0)\n",
    "                    \n",
    "            assert len(data[data_type][sentiment]) == len(labels[data_type][sentiment]), \\\n",
    "                    \"{}/{} data size does not match labels size\".format(data_type, sentiment)\n",
    "                \n",
    "    return data, labels"
   ]
  },
  {
   "cell_type": "code",
   "execution_count": 3,
   "metadata": {},
   "outputs": [
    {
     "name": "stdout",
     "output_type": "stream",
     "text": [
      "IMDB reviews: train = 12500 pos / 12500 neg, test = 12500 pos / 12500 neg\n"
     ]
    }
   ],
   "source": [
    "data, labels = read_imdb_data()\n",
    "print(\"IMDB reviews: train = {} pos / {} neg, test = {} pos / {} neg\".format(\n",
    "            len(data['train']['pos']), len(data['train']['neg']),\n",
    "            len(data['test']['pos']), len(data['test']['neg'])))"
   ]
  },
  {
   "cell_type": "markdown",
   "metadata": {},
   "source": [
    "Now that we've read the raw training and testing data from the downloaded dataset, we will combine the positive and negative reviews and shuffle the resulting records."
   ]
  },
  {
   "cell_type": "code",
   "execution_count": 4,
   "metadata": {},
   "outputs": [],
   "source": [
    "from sklearn.utils import shuffle\n",
    "\n",
    "def prepare_imdb_data(data, labels):\n",
    "    \"\"\"Prepare training and test sets from IMDb movie reviews.\"\"\"\n",
    "    \n",
    "    #Combine positive and negative reviews and labels\n",
    "    data_train = data['train']['pos'] + data['train']['neg']\n",
    "    data_test = data['test']['pos'] + data['test']['neg']\n",
    "    labels_train = labels['train']['pos'] + labels['train']['neg']\n",
    "    labels_test = labels['test']['pos'] + labels['test']['neg']\n",
    "    \n",
    "    #Shuffle reviews and corresponding labels within training and test sets\n",
    "    data_train, labels_train = shuffle(data_train, labels_train)\n",
    "    data_test, labels_test = shuffle(data_test, labels_test)\n",
    "    \n",
    "    # Return a unified training data, test data, training labels, test labets\n",
    "    return data_train, data_test, labels_train, labels_test"
   ]
  },
  {
   "cell_type": "code",
   "execution_count": 5,
   "metadata": {},
   "outputs": [
    {
     "name": "stdout",
     "output_type": "stream",
     "text": [
      "IMDb reviews (combined): train = 25000, test = 25000\n"
     ]
    }
   ],
   "source": [
    "train_X, test_X, train_y, test_y = prepare_imdb_data(data, labels)\n",
    "print(\"IMDb reviews (combined): train = {}, test = {}\".format(len(train_X), len(test_X)))"
   ]
  },
  {
   "cell_type": "markdown",
   "metadata": {},
   "source": [
    "Now that we have our training and testing sets unified and prepared, we should do a quick check and see an example of the data our model will be trained on. This is generally a good idea as it allows you to see how each of the further processing steps affects the reviews and it also ensures that the data has been loaded correctly."
   ]
  },
  {
   "cell_type": "code",
   "execution_count": 6,
   "metadata": {},
   "outputs": [
    {
     "name": "stdout",
     "output_type": "stream",
     "text": [
      "I wanted to give Drawing Blood the benefit of the initial doubt. The opening moments, with a naked woman sprawled out and an painter, Diana, about to paint her and then sucking her blood to drain out so she can use it for her art, give the impression that this could be a kick-ass artsy-vampire flick. Turns out this initial impression turns out false. Oh, Troma, the mark of some kind of lack of quality: sometimes they'll offer up something that is trash but funny and with at least some competence to the junk-food craft (or, sometimes not). This is a case where it's not even a whole lot of fun to watch since its attempts at humor (i.e. the protagonist's father is an old vaudevillian who does Jimmy Durante impressions?) are weak at best, and any unintentional laughs are undercut by Sergio Lapel's bargain basement direction.<br /><br />And it's not without him trying, oh Lord no. He does try a lot, which is a big part of the problem. He and his producers had money for lights, sure, but the way they're used in the movie made I, a former student filmmaker and aspiring director, sulking in my seat: if I saw this in a theater I would have to blind my eyes in many instances, and would wonder whether or not his DP understood really the basic 3-point lighting set-up. While this, along with a very lackluster sound design (or just lots of random loud humming like in the art gallery scene), shouldn't be something that comes to attention during a Troma release, it should be something *basic* that a filmmaker can tackle even if the script isn't very funny or scary (and it isn't) or if Lapel does a weird mixture of songs placed at bizarre moments.<br /><br />It's not a good movie by any stretch, and perhaps if you're a vampire die-hard (or just a vampire period) it might have some appeal as a low-rent bargain basement alternative to Near Dark, or as a slight improvement over, say, 1972's Blood Freak. You have better ways to waste your time, overall.\n",
      "0\n"
     ]
    }
   ],
   "source": [
    "print(train_X[100])\n",
    "print(train_y[100])"
   ]
  },
  {
   "cell_type": "markdown",
   "metadata": {},
   "source": [
    "The first step in processing the reviews is to make sure that any html tags that appear should be removed. In addition we wish to tokenize our input, that way words such as *entertained* and *entertaining* are considered the same with regard to sentiment analysis."
   ]
  },
  {
   "cell_type": "code",
   "execution_count": 7,
   "metadata": {},
   "outputs": [],
   "source": [
    "import nltk\n",
    "from nltk.corpus import stopwords\n",
    "from nltk.stem.porter import *\n",
    "\n",
    "import re\n",
    "from bs4 import BeautifulSoup\n",
    "\n",
    "def review_to_words(review):\n",
    "    nltk.download(\"stopwords\", quiet=True)\n",
    "    stemmer = PorterStemmer()\n",
    "    \n",
    "    text = BeautifulSoup(review, \"html.parser\").get_text() # Remove HTML tags\n",
    "    text = re.sub(r\"[^a-zA-Z0-9]\", \" \", text.lower()) # Convert to lower case\n",
    "    words = text.split() # Split string into words\n",
    "    words = [w for w in words if w not in stopwords.words(\"english\")] # Remove stopwords\n",
    "    words = [PorterStemmer().stem(w) for w in words] # stem\n",
    "    \n",
    "    return words"
   ]
  },
  {
   "cell_type": "markdown",
   "metadata": {},
   "source": [
    "The `review_to_words` method defined above uses `BeautifulSoup` to remove any html tags that appear and uses the `nltk` package to tokenize the reviews. As a check to ensure we know how everything is working, try applying `review_to_words` to one of the reviews in the training set."
   ]
  },
  {
   "cell_type": "code",
   "execution_count": 8,
   "metadata": {},
   "outputs": [
    {
     "data": {
      "text/plain": [
       "['want',\n",
       " 'give',\n",
       " 'draw',\n",
       " 'blood',\n",
       " 'benefit',\n",
       " 'initi',\n",
       " 'doubt',\n",
       " 'open',\n",
       " 'moment',\n",
       " 'nake',\n",
       " 'woman',\n",
       " 'sprawl',\n",
       " 'painter',\n",
       " 'diana',\n",
       " 'paint',\n",
       " 'suck',\n",
       " 'blood',\n",
       " 'drain',\n",
       " 'use',\n",
       " 'art',\n",
       " 'give',\n",
       " 'impress',\n",
       " 'could',\n",
       " 'kick',\n",
       " 'ass',\n",
       " 'artsi',\n",
       " 'vampir',\n",
       " 'flick',\n",
       " 'turn',\n",
       " 'initi',\n",
       " 'impress',\n",
       " 'turn',\n",
       " 'fals',\n",
       " 'oh',\n",
       " 'troma',\n",
       " 'mark',\n",
       " 'kind',\n",
       " 'lack',\n",
       " 'qualiti',\n",
       " 'sometim',\n",
       " 'offer',\n",
       " 'someth',\n",
       " 'trash',\n",
       " 'funni',\n",
       " 'least',\n",
       " 'compet',\n",
       " 'junk',\n",
       " 'food',\n",
       " 'craft',\n",
       " 'sometim',\n",
       " 'case',\n",
       " 'even',\n",
       " 'whole',\n",
       " 'lot',\n",
       " 'fun',\n",
       " 'watch',\n",
       " 'sinc',\n",
       " 'attempt',\n",
       " 'humor',\n",
       " 'e',\n",
       " 'protagonist',\n",
       " 'father',\n",
       " 'old',\n",
       " 'vaudevillian',\n",
       " 'jimmi',\n",
       " 'durant',\n",
       " 'impress',\n",
       " 'weak',\n",
       " 'best',\n",
       " 'unintent',\n",
       " 'laugh',\n",
       " 'undercut',\n",
       " 'sergio',\n",
       " 'lapel',\n",
       " 'bargain',\n",
       " 'basement',\n",
       " 'direct',\n",
       " 'without',\n",
       " 'tri',\n",
       " 'oh',\n",
       " 'lord',\n",
       " 'tri',\n",
       " 'lot',\n",
       " 'big',\n",
       " 'part',\n",
       " 'problem',\n",
       " 'produc',\n",
       " 'money',\n",
       " 'light',\n",
       " 'sure',\n",
       " 'way',\n",
       " 'use',\n",
       " 'movi',\n",
       " 'made',\n",
       " 'former',\n",
       " 'student',\n",
       " 'filmmak',\n",
       " 'aspir',\n",
       " 'director',\n",
       " 'sulk',\n",
       " 'seat',\n",
       " 'saw',\n",
       " 'theater',\n",
       " 'would',\n",
       " 'blind',\n",
       " 'eye',\n",
       " 'mani',\n",
       " 'instanc',\n",
       " 'would',\n",
       " 'wonder',\n",
       " 'whether',\n",
       " 'dp',\n",
       " 'understood',\n",
       " 'realli',\n",
       " 'basic',\n",
       " '3',\n",
       " 'point',\n",
       " 'light',\n",
       " 'set',\n",
       " 'along',\n",
       " 'lacklust',\n",
       " 'sound',\n",
       " 'design',\n",
       " 'lot',\n",
       " 'random',\n",
       " 'loud',\n",
       " 'hum',\n",
       " 'like',\n",
       " 'art',\n",
       " 'galleri',\n",
       " 'scene',\n",
       " 'someth',\n",
       " 'come',\n",
       " 'attent',\n",
       " 'troma',\n",
       " 'releas',\n",
       " 'someth',\n",
       " 'basic',\n",
       " 'filmmak',\n",
       " 'tackl',\n",
       " 'even',\n",
       " 'script',\n",
       " 'funni',\n",
       " 'scari',\n",
       " 'lapel',\n",
       " 'weird',\n",
       " 'mixtur',\n",
       " 'song',\n",
       " 'place',\n",
       " 'bizarr',\n",
       " 'moment',\n",
       " 'good',\n",
       " 'movi',\n",
       " 'stretch',\n",
       " 'perhap',\n",
       " 'vampir',\n",
       " 'die',\n",
       " 'hard',\n",
       " 'vampir',\n",
       " 'period',\n",
       " 'might',\n",
       " 'appeal',\n",
       " 'low',\n",
       " 'rent',\n",
       " 'bargain',\n",
       " 'basement',\n",
       " 'altern',\n",
       " 'near',\n",
       " 'dark',\n",
       " 'slight',\n",
       " 'improv',\n",
       " 'say',\n",
       " '1972',\n",
       " 'blood',\n",
       " 'freak',\n",
       " 'better',\n",
       " 'way',\n",
       " 'wast',\n",
       " 'time',\n",
       " 'overal']"
      ]
     },
     "execution_count": 8,
     "metadata": {},
     "output_type": "execute_result"
    }
   ],
   "source": [
    "# TODO: Apply review_to_words to a review (train_X[100] or any other review)\n",
    "review_to_words(train_X[100])"
   ]
  },
  {
   "cell_type": "markdown",
   "metadata": {},
   "source": [
    "**Question:** Above we mentioned that `review_to_words` method removes html formatting and allows us to tokenize the words found in a review, for example, converting *entertained* and *entertaining* into *entertain* so that they are treated as though they are the same word. What else, if anything, does this method do to the input?"
   ]
  },
  {
   "cell_type": "markdown",
   "metadata": {},
   "source": [
    "**Answer:**\n",
    "it remooved punctuations too and convert all to lowercase."
   ]
  },
  {
   "cell_type": "markdown",
   "metadata": {},
   "source": [
    "The method below applies the `review_to_words` method to each of the reviews in the training and testing datasets. In addition it caches the results. This is because performing this processing step can take a long time. This way if you are unable to complete the notebook in the current session, you can come back without needing to process the data a second time."
   ]
  },
  {
   "cell_type": "code",
   "execution_count": 9,
   "metadata": {},
   "outputs": [],
   "source": [
    "import pickle\n",
    "\n",
    "cache_dir = os.path.join(\"../cache\", \"sentiment_analysis\")  # where to store cache files\n",
    "os.makedirs(cache_dir, exist_ok=True)  # ensure cache directory exists\n",
    "\n",
    "def preprocess_data(data_train, data_test, labels_train, labels_test,\n",
    "                    cache_dir=cache_dir, cache_file=\"preprocessed_data.pkl\"):\n",
    "    \"\"\"Convert each review to words; read from cache if available.\"\"\"\n",
    "\n",
    "    # If cache_file is not None, try to read from it first\n",
    "    cache_data = None\n",
    "    if cache_file is not None:\n",
    "        try:\n",
    "            with open(os.path.join(cache_dir, cache_file), \"rb\") as f:\n",
    "                cache_data = pickle.load(f)\n",
    "            print(\"Read preprocessed data from cache file:\", cache_file)\n",
    "        except:\n",
    "            pass  # unable to read from cache, but that's okay\n",
    "    \n",
    "    # If cache is missing, then do the heavy lifting\n",
    "    if cache_data is None:\n",
    "        # Preprocess training and test data to obtain words for each review\n",
    "        #words_train = list(map(review_to_words, data_train))\n",
    "        #words_test = list(map(review_to_words, data_test))\n",
    "        words_train = [review_to_words(review) for review in data_train]\n",
    "        words_test = [review_to_words(review) for review in data_test]\n",
    "        \n",
    "        # Write to cache file for future runs\n",
    "        if cache_file is not None:\n",
    "            cache_data = dict(words_train=words_train, words_test=words_test,\n",
    "                              labels_train=labels_train, labels_test=labels_test)\n",
    "            with open(os.path.join(cache_dir, cache_file), \"wb\") as f:\n",
    "                pickle.dump(cache_data, f)\n",
    "            print(\"Wrote preprocessed data to cache file:\", cache_file)\n",
    "    else:\n",
    "        # Unpack data loaded from cache file\n",
    "        words_train, words_test, labels_train, labels_test = (cache_data['words_train'],\n",
    "                cache_data['words_test'], cache_data['labels_train'], cache_data['labels_test'])\n",
    "    \n",
    "    return words_train, words_test, labels_train, labels_test"
   ]
  },
  {
   "cell_type": "code",
   "execution_count": 10,
   "metadata": {},
   "outputs": [
    {
     "name": "stdout",
     "output_type": "stream",
     "text": [
      "Read preprocessed data from cache file: preprocessed_data.pkl\n"
     ]
    }
   ],
   "source": [
    "# Preprocess data\n",
    "train_X, test_X, train_y, test_y = preprocess_data(train_X, test_X, train_y, test_y)"
   ]
  },
  {
   "cell_type": "markdown",
   "metadata": {},
   "source": [
    "## Transform the data\n",
    "\n",
    "In the XGBoost notebook we transformed the data from its word representation to a bag-of-words feature representation. For the model we are going to construct in this notebook we will construct a feature representation which is very similar. To start, we will represent each word as an integer. Of course, some of the words that appear in the reviews occur very infrequently and so likely don't contain much information for the purposes of sentiment analysis. The way we will deal with this problem is that we will fix the size of our working vocabulary and we will only include the words that appear most frequently. We will then combine all of the infrequent words into a single category and, in our case, we will label it as `1`.\n",
    "\n",
    "Since we will be using a recurrent neural network, it will be convenient if the length of each review is the same. To do this, we will fix a size for our reviews and then pad short reviews with the category 'no word' (which we will label `0`) and truncate long reviews."
   ]
  },
  {
   "cell_type": "markdown",
   "metadata": {},
   "source": [
    "### (TODO) Create a word dictionary\n",
    "\n",
    "To begin with, we need to construct a way to map words that appear in the reviews to integers. Here we fix the size of our vocabulary (including the 'no word' and 'infrequent' categories) to be `5000` but you may wish to change this to see how it affects the model.\n",
    "\n",
    "> **TODO:** Complete the implementation for the `build_dict()` method below. Note that even though the vocab_size is set to `5000`, we only want to construct a mapping for the most frequently appearing `4998` words. This is because we want to reserve the special labels `0` for 'no word' and `1` for 'infrequent word'."
   ]
  },
  {
   "cell_type": "code",
   "execution_count": 11,
   "metadata": {},
   "outputs": [],
   "source": [
    "import numpy as np\n",
    "def build_dict(data, vocab_size = 5000):\n",
    "    \"\"\"Construct and return a dictionary mapping each of the most frequently appearing words to a unique integer.\"\"\"\n",
    "    \n",
    "    # TODO: Determine how often each word appears in `data`. Note that `data` is a list of sentences and that a\n",
    "    #       sentence is a list of words.\n",
    "    \n",
    "    word_count = {} # A dict storing the words that appear in the reviews along with how often they occur\n",
    "    \n",
    "    for words in data:\n",
    "        for word in words:\n",
    "            if word in word_count:\n",
    "                word_count[word] += 1\n",
    "            else:\n",
    "                word_count[word] = 1\n",
    "    \n",
    "    # TODO: Sort the words found in `data` so that sorted_words[0] is the most frequently appearing word and\n",
    "    #       sorted_words[-1] is the least frequently appearing word.\n",
    "    \n",
    "    sorted_words = [item[0] for item in sorted(word_count.items(), key=lambda x: x[1], reverse=True)]\n",
    "    \n",
    "    word_dict = {} # This is what we are building, a dictionary that translates words into integers\n",
    "    for idx, word in enumerate(sorted_words[:vocab_size - 2]): # The -2 is so that we save room for the 'no word'\n",
    "        word_dict[word] = idx + 2                              # 'infrequent' labels\n",
    "        \n",
    "    return word_dict"
   ]
  },
  {
   "cell_type": "code",
   "execution_count": 12,
   "metadata": {},
   "outputs": [],
   "source": [
    "word_dict = build_dict(train_X)"
   ]
  },
  {
   "cell_type": "code",
   "execution_count": 13,
   "metadata": {},
   "outputs": [
    {
     "name": "stdout",
     "output_type": "stream",
     "text": [
      "{'movi': 2, 'film': 3, 'one': 4, 'like': 5, 'time': 6, 'good': 7, 'make': 8, 'charact': 9, 'get': 10, 'see': 11, 'watch': 12, 'stori': 13, 'even': 14, 'would': 15, 'realli': 16, 'well': 17, 'scene': 18, 'look': 19, 'show': 20, 'much': 21, 'end': 22, 'peopl': 23, 'bad': 24, 'go': 25, 'great': 26, 'also': 27, 'first': 28, 'love': 29, 'think': 30, 'way': 31, 'act': 32, 'play': 33, 'made': 34, 'thing': 35, 'could': 36, 'know': 37, 'say': 38, 'seem': 39, 'work': 40, 'plot': 41, 'two': 42, 'actor': 43, 'year': 44, 'come': 45, 'mani': 46, 'seen': 47, 'take': 48, 'life': 49, 'want': 50, 'never': 51, 'littl': 52, 'best': 53, 'tri': 54, 'man': 55, 'ever': 56, 'give': 57, 'better': 58, 'still': 59, 'perform': 60, 'find': 61, 'feel': 62, 'part': 63, 'back': 64, 'use': 65, 'someth': 66, 'director': 67, 'actual': 68, 'interest': 69, 'lot': 70, 'real': 71, 'old': 72, 'cast': 73, 'though': 74, 'live': 75, 'star': 76, 'enjoy': 77, 'guy': 78, 'anoth': 79, 'new': 80, 'role': 81, 'noth': 82, '10': 83, 'funni': 84, 'music': 85, 'point': 86, 'start': 87, 'set': 88, 'girl': 89, 'origin': 90, 'day': 91, 'world': 92, 'everi': 93, 'believ': 94, 'turn': 95, 'quit': 96, 'us': 97, 'direct': 98, 'thought': 99, 'fact': 100, 'minut': 101, 'horror': 102, 'kill': 103, 'action': 104, 'comedi': 105, 'pretti': 106, 'young': 107, 'wonder': 108, 'happen': 109, 'around': 110, 'got': 111, 'effect': 112, 'right': 113, 'long': 114, 'howev': 115, 'big': 116, 'line': 117, 'famili': 118, 'enough': 119, 'seri': 120, 'may': 121, 'need': 122, 'fan': 123, 'bit': 124, 'script': 125, 'beauti': 126, 'person': 127, 'becom': 128, 'without': 129, 'must': 130, 'alway': 131, 'friend': 132, 'tell': 133, 'reason': 134, 'saw': 135, 'last': 136, 'final': 137, 'kid': 138, 'almost': 139, 'put': 140, 'least': 141, 'sure': 142, 'done': 143, 'whole': 144, 'place': 145, 'complet': 146, 'kind': 147, 'differ': 148, 'expect': 149, 'shot': 150, 'far': 151, 'mean': 152, 'anyth': 153, 'book': 154, 'laugh': 155, 'might': 156, 'name': 157, 'sinc': 158, 'begin': 159, '2': 160, 'probabl': 161, 'woman': 162, 'help': 163, 'entertain': 164, 'let': 165, 'screen': 166, 'call': 167, 'tv': 168, 'moment': 169, 'away': 170, 'read': 171, 'yet': 172, 'rather': 173, 'worst': 174, 'run': 175, 'fun': 176, 'lead': 177, 'hard': 178, 'audienc': 179, 'idea': 180, 'anyon': 181, 'episod': 182, 'american': 183, 'found': 184, 'appear': 185, 'bore': 186, 'especi': 187, 'although': 188, 'hope': 189, 'cours': 190, 'keep': 191, 'anim': 192, 'job': 193, 'goe': 194, 'move': 195, 'sens': 196, 'dvd': 197, 'version': 198, 'war': 199, 'money': 200, 'someon': 201, 'mind': 202, 'mayb': 203, 'problem': 204, 'true': 205, 'hous': 206, 'everyth': 207, 'nice': 208, 'second': 209, 'rate': 210, 'three': 211, 'night': 212, 'follow': 213, 'face': 214, 'recommend': 215, 'product': 216, 'main': 217, 'worth': 218, 'leav': 219, 'human': 220, 'special': 221, 'excel': 222, 'togeth': 223, 'wast': 224, 'sound': 225, 'everyon': 226, 'john': 227, 'hand': 228, '1': 229, 'father': 230, 'later': 231, 'eye': 232, 'said': 233, 'view': 234, 'instead': 235, 'review': 236, 'boy': 237, 'high': 238, 'hour': 239, 'miss': 240, 'talk': 241, 'classic': 242, 'wife': 243, 'understand': 244, 'left': 245, 'care': 246, 'black': 247, 'death': 248, 'open': 249, 'murder': 250, 'write': 251, 'half': 252, 'head': 253, 'rememb': 254, 'chang': 255, 'viewer': 256, 'fight': 257, 'gener': 258, 'surpris': 259, 'includ': 260, 'short': 261, 'die': 262, 'fall': 263, 'less': 264, 'els': 265, 'entir': 266, 'piec': 267, 'involv': 268, 'pictur': 269, 'simpli': 270, 'home': 271, 'power': 272, 'top': 273, 'total': 274, 'usual': 275, 'budget': 276, 'attempt': 277, 'suppos': 278, 'releas': 279, 'hollywood': 280, 'terribl': 281, 'song': 282, 'men': 283, 'possibl': 284, 'featur': 285, 'portray': 286, 'disappoint': 287, '3': 288, 'poor': 289, 'coupl': 290, 'camera': 291, 'stupid': 292, 'dead': 293, 'wrong': 294, 'produc': 295, 'low': 296, 'video': 297, 'either': 298, 'aw': 299, 'definit': 300, 'except': 301, 'rest': 302, 'given': 303, 'absolut': 304, 'women': 305, 'lack': 306, 'word': 307, 'writer': 308, 'titl': 309, 'talent': 310, 'decid': 311, 'full': 312, 'perfect': 313, 'along': 314, 'style': 315, 'close': 316, 'truli': 317, 'school': 318, 'emot': 319, 'save': 320, 'sex': 321, 'age': 322, 'next': 323, 'bring': 324, 'mr': 325, 'case': 326, 'killer': 327, 'heart': 328, 'comment': 329, 'sort': 330, 'creat': 331, 'perhap': 332, 'came': 333, 'brother': 334, 'sever': 335, 'joke': 336, 'art': 337, 'dialogu': 338, 'game': 339, 'small': 340, 'base': 341, 'flick': 342, 'written': 343, 'sequenc': 344, 'meet': 345, 'earli': 346, 'often': 347, 'other': 348, 'mother': 349, 'develop': 350, 'humor': 351, 'actress': 352, 'consid': 353, 'dark': 354, 'guess': 355, 'amaz': 356, 'unfortun': 357, 'light': 358, 'lost': 359, 'exampl': 360, 'cinema': 361, 'drama': 362, 'ye': 363, 'white': 364, 'experi': 365, 'imagin': 366, 'mention': 367, 'stop': 368, 'natur': 369, 'forc': 370, 'manag': 371, 'felt': 372, 'cut': 373, 'present': 374, 'children': 375, 'fail': 376, 'son': 377, 'qualiti': 378, 'support': 379, 'car': 380, 'ask': 381, 'hit': 382, 'side': 383, 'voic': 384, 'extrem': 385, 'impress': 386, 'evil': 387, 'wors': 388, 'stand': 389, 'went': 390, 'certainli': 391, 'basic': 392, 'oh': 393, 'overal': 394, 'favorit': 395, 'horribl': 396, 'mysteri': 397, 'number': 398, 'type': 399, 'danc': 400, 'wait': 401, 'hero': 402, 'alreadi': 403, '5': 404, 'learn': 405, 'matter': 406, '4': 407, 'michael': 408, 'genr': 409, 'fine': 410, 'despit': 411, 'throughout': 412, 'walk': 413, 'success': 414, 'histori': 415, 'question': 416, 'zombi': 417, 'town': 418, 'relationship': 419, 'realiz': 420, 'past': 421, 'child': 422, 'daughter': 423, 'late': 424, 'b': 425, 'wish': 426, 'credit': 427, 'hate': 428, 'event': 429, 'theme': 430, 'touch': 431, 'citi': 432, 'today': 433, 'sometim': 434, 'behind': 435, 'god': 436, 'twist': 437, 'sit': 438, 'stay': 439, 'annoy': 440, 'deal': 441, 'abl': 442, 'rent': 443, 'pleas': 444, 'edit': 445, 'blood': 446, 'deserv': 447, 'comic': 448, 'anyway': 449, 'appar': 450, 'soon': 451, 'gave': 452, 'etc': 453, 'level': 454, 'slow': 455, 'chanc': 456, 'score': 457, 'bodi': 458, 'brilliant': 459, 'incred': 460, 'figur': 461, 'situat': 462, 'major': 463, 'self': 464, 'stuff': 465, 'decent': 466, 'element': 467, 'return': 468, 'dream': 469, 'obvious': 470, 'continu': 471, 'order': 472, 'pace': 473, 'ridicul': 474, 'happi': 475, 'group': 476, 'add': 477, 'highli': 478, 'thank': 479, 'ladi': 480, 'novel': 481, 'speak': 482, 'pain': 483, 'career': 484, 'shoot': 485, 'strang': 486, 'heard': 487, 'sad': 488, 'husband': 489, 'polic': 490, 'import': 491, 'break': 492, 'took': 493, 'cannot': 494, 'strong': 495, 'predict': 496, 'robert': 497, 'violenc': 498, 'hilari': 499, 'recent': 500, 'countri': 501, 'known': 502, 'particularli': 503, 'pick': 504, 'documentari': 505, 'season': 506, 'critic': 507, 'jame': 508, 'compar': 509, 'obviou': 510, 'alon': 511, 'told': 512, 'state': 513, 'visual': 514, 'rock': 515, 'exist': 516, 'theater': 517, 'offer': 518, 'opinion': 519, 'gore': 520, 'hold': 521, 'crap': 522, 'result': 523, 'room': 524, 'realiti': 525, 'hear': 526, 'effort': 527, 'clich': 528, 'thriller': 529, 'caus': 530, 'sequel': 531, 'explain': 532, 'serious': 533, 'king': 534, 'local': 535, 'ago': 536, 'none': 537, 'hell': 538, 'note': 539, 'allow': 540, 'david': 541, 'sister': 542, 'simpl': 543, 'femal': 544, 'deliv': 545, 'ok': 546, 'class': 547, 'convinc': 548, 'check': 549, 'suspens': 550, 'win': 551, 'buy': 552, 'oscar': 553, 'huge': 554, 'valu': 555, 'sexual': 556, 'cool': 557, 'scari': 558, 'excit': 559, 'similar': 560, 'apart': 561, 'exactli': 562, 'provid': 563, 'shown': 564, 'avoid': 565, 'seriou': 566, 'english': 567, 'whose': 568, 'taken': 569, 'cinematographi': 570, 'shock': 571, 'polit': 572, 'spoiler': 573, 'offic': 574, 'across': 575, 'middl': 576, 'pass': 577, 'street': 578, 'messag': 579, 'silli': 580, 'charm': 581, 'somewhat': 582, 'modern': 583, 'confus': 584, 'filmmak': 585, 'form': 586, 'tale': 587, 'singl': 588, 'jack': 589, 'mostli': 590, 'william': 591, 'carri': 592, 'attent': 593, 'sing': 594, 'five': 595, 'subject': 596, 'richard': 597, 'prove': 598, 'stage': 599, 'team': 600, 'unlik': 601, 'cop': 602, 'georg': 603, 'televis': 604, 'monster': 605, 'earth': 606, 'villain': 607, 'cover': 608, 'pay': 609, 'marri': 610, 'toward': 611, 'build': 612, 'parent': 613, 'pull': 614, 'due': 615, 'fill': 616, 'respect': 617, 'four': 618, 'dialog': 619, 'remind': 620, 'futur': 621, 'typic': 622, 'weak': 623, '7': 624, 'cheap': 625, 'intellig': 626, 'british': 627, 'atmospher': 628, '80': 629, 'clearli': 630, 'non': 631, 'paul': 632, 'dog': 633, 'artist': 634, 'fast': 635, 'knew': 636, '8': 637, 'crime': 638, 'easili': 639, 'escap': 640, 'adult': 641, 'doubt': 642, 'detail': 643, 'date': 644, 'fire': 645, 'romant': 646, 'member': 647, 'gun': 648, 'drive': 649, 'straight': 650, 'beyond': 651, 'fit': 652, 'attack': 653, 'imag': 654, 'upon': 655, 'posit': 656, 'whether': 657, 'peter': 658, 'fantast': 659, 'aspect': 660, 'captur': 661, 'appreci': 662, 'ten': 663, 'plan': 664, 'discov': 665, 'remain': 666, 'period': 667, 'near': 668, 'air': 669, 'realist': 670, 'mark': 671, 'red': 672, 'dull': 673, 'adapt': 674, 'within': 675, 'lose': 676, 'spend': 677, 'color': 678, 'materi': 679, 'chase': 680, 'mari': 681, 'storylin': 682, 'forget': 683, 'bunch': 684, 'clear': 685, 'lee': 686, 'victim': 687, 'nearli': 688, 'box': 689, 'york': 690, 'inspir': 691, 'match': 692, 'finish': 693, 'mess': 694, 'standard': 695, 'easi': 696, 'truth': 697, 'busi': 698, 'suffer': 699, 'space': 700, 'dramat': 701, 'bill': 702, 'western': 703, 'e': 704, 'list': 705, 'battl': 706, 'notic': 707, 'de': 708, 'french': 709, 'ad': 710, '9': 711, 'tom': 712, 'larg': 713, 'among': 714, 'eventu': 715, 'train': 716, 'accept': 717, 'agre': 718, 'soundtrack': 719, 'spirit': 720, 'third': 721, 'teenag': 722, 'adventur': 723, 'soldier': 724, 'sorri': 725, 'suggest': 726, 'famou': 727, 'drug': 728, 'cri': 729, 'babi': 730, 'normal': 731, 'ultim': 732, 'troubl': 733, 'contain': 734, 'certain': 735, 'cultur': 736, 'romanc': 737, 'rare': 738, 'lame': 739, 'somehow': 740, 'mix': 741, 'disney': 742, 'gone': 743, 'cartoon': 744, 'student': 745, 'reveal': 746, 'fear': 747, 'kept': 748, 'suck': 749, 'attract': 750, 'appeal': 751, 'premis': 752, 'greatest': 753, 'design': 754, 'secret': 755, 'shame': 756, 'throw': 757, 'scare': 758, 'copi': 759, 'wit': 760, 'america': 761, 'admit': 762, 'brought': 763, 'particular': 764, 'relat': 765, 'screenplay': 766, 'whatev': 767, 'pure': 768, '70': 769, 'averag': 770, 'harri': 771, 'master': 772, 'describ': 773, 'treat': 774, 'male': 775, '20': 776, 'fantasi': 777, 'issu': 778, 'warn': 779, 'inde': 780, 'forward': 781, 'background': 782, 'free': 783, 'project': 784, 'memor': 785, 'japanes': 786, 'poorli': 787, 'award': 788, 'locat': 789, 'amus': 790, 'potenti': 791, 'struggl': 792, 'weird': 793, 'magic': 794, 'societi': 795, 'okay': 796, 'accent': 797, 'imdb': 798, 'doctor': 799, 'hot': 800, 'water': 801, '30': 802, 'alien': 803, 'dr': 804, 'express': 805, 'odd': 806, 'crazi': 807, 'choic': 808, 'studio': 809, 'fiction': 810, 'control': 811, 'becam': 812, 'masterpiec': 813, 'fli': 814, 'difficult': 815, 'joe': 816, 'scream': 817, 'costum': 818, 'lover': 819, 'refer': 820, 'uniqu': 821, 'remak': 822, 'vampir': 823, 'girlfriend': 824, 'prison': 825, 'execut': 826, 'wear': 827, 'jump': 828, 'wood': 829, 'unless': 830, 'creepi': 831, 'cheesi': 832, 'superb': 833, 'otherwis': 834, 'parti': 835, 'roll': 836, 'ghost': 837, 'public': 838, 'mad': 839, 'depict': 840, 'jane': 841, 'moral': 842, 'badli': 843, 'week': 844, 'earlier': 845, 'dumb': 846, 'fi': 847, 'grow': 848, 'flaw': 849, 'sci': 850, 'deep': 851, 'maker': 852, 'cat': 853, 'footag': 854, 'connect': 855, 'older': 856, 'bother': 857, 'plenti': 858, 'outsid': 859, 'stick': 860, 'gay': 861, 'catch': 862, 'co': 863, 'plu': 864, 'popular': 865, 'equal': 866, 'social': 867, 'quickli': 868, 'disturb': 869, 'perfectli': 870, 'dress': 871, '90': 872, 'era': 873, 'mistak': 874, 'lie': 875, 'previou': 876, 'ride': 877, 'combin': 878, 'band': 879, 'concept': 880, 'rich': 881, 'answer': 882, 'surviv': 883, 'front': 884, 'christma': 885, 'sweet': 886, 'insid': 887, 'bare': 888, 'concern': 889, 'eat': 890, 'ben': 891, 'listen': 892, 'beat': 893, 'c': 894, 'serv': 895, 'term': 896, 'la': 897, 'meant': 898, 'german': 899, 'hardli': 900, 'stereotyp': 901, 'innoc': 902, 'law': 903, 'desper': 904, 'promis': 905, 'memori': 906, 'intent': 907, 'cute': 908, 'variou': 909, 'inform': 910, 'steal': 911, 'brain': 912, 'post': 913, 'tone': 914, 'island': 915, 'amount': 916, 'compani': 917, 'track': 918, 'nuditi': 919, 'store': 920, 'claim': 921, 'hair': 922, '50': 923, 'flat': 924, 'land': 925, 'univers': 926, 'fairli': 927, 'danger': 928, 'kick': 929, 'scott': 930, 'player': 931, 'step': 932, 'crew': 933, 'plain': 934, 'toni': 935, 'share': 936, 'tast': 937, 'centuri': 938, 'achiev': 939, 'engag': 940, 'travel': 941, 'cold': 942, 'record': 943, 'suit': 944, 'rip': 945, 'manner': 946, 'sadli': 947, 'tension': 948, 'spot': 949, 'wrote': 950, 'fascin': 951, 'intens': 952, 'familiar': 953, 'remark': 954, 'depth': 955, 'burn': 956, 'destroy': 957, 'histor': 958, 'sleep': 959, 'purpos': 960, 'languag': 961, 'ruin': 962, 'ignor': 963, 'delight': 964, 'italian': 965, 'unbeliev': 966, 'abil': 967, 'collect': 968, 'soul': 969, 'clever': 970, 'detect': 971, 'violent': 972, 'rape': 973, 'reach': 974, 'door': 975, 'trash': 976, 'scienc': 977, 'liter': 978, 'caught': 979, 'reveng': 980, 'commun': 981, 'creatur': 982, 'trip': 983, 'approach': 984, 'fashion': 985, 'intrigu': 986, 'paint': 987, 'skill': 988, 'introduc': 989, 'complex': 990, 'channel': 991, 'camp': 992, 'christian': 993, 'extra': 994, 'hole': 995, 'ann': 996, 'immedi': 997, 'limit': 998, 'mental': 999, 'mere': 1000, 'comput': 1001, 'million': 1002, '6': 1003, 'slightli': 1004, 'conclus': 1005, 'slasher': 1006, 'imposs': 1007, 'suddenli': 1008, 'teen': 1009, 'crimin': 1010, 'neither': 1011, 'spent': 1012, 'physic': 1013, 'nation': 1014, 'respons': 1015, 'planet': 1016, 'receiv': 1017, 'fake': 1018, 'sick': 1019, 'blue': 1020, 'bizarr': 1021, 'embarrass': 1022, 'indian': 1023, '15': 1024, 'ring': 1025, 'drop': 1026, 'pop': 1027, 'drag': 1028, 'haunt': 1029, 'suspect': 1030, 'pointless': 1031, 'edg': 1032, 'search': 1033, 'handl': 1034, 'biggest': 1035, 'common': 1036, 'arriv': 1037, 'hurt': 1038, 'faith': 1039, 'technic': 1040, 'angel': 1041, 'dad': 1042, 'genuin': 1043, 'solid': 1044, 'awesom': 1045, 'f': 1046, 'former': 1047, 'van': 1048, 'colleg': 1049, 'focu': 1050, 'count': 1051, 'tear': 1052, 'heavi': 1053, 'wall': 1054, 'rais': 1055, 'visit': 1056, 'younger': 1057, 'laughabl': 1058, 'sign': 1059, 'excus': 1060, 'fair': 1061, 'cult': 1062, 'key': 1063, 'motion': 1064, 'tough': 1065, 'super': 1066, 'desir': 1067, 'stun': 1068, 'addit': 1069, 'exploit': 1070, 'cloth': 1071, 'tortur': 1072, 'smith': 1073, 'race': 1074, 'davi': 1075, 'cross': 1076, 'author': 1077, 'jim': 1078, 'minor': 1079, 'compel': 1080, 'consist': 1081, 'focus': 1082, 'chemistri': 1083, 'pathet': 1084, 'commit': 1085, 'park': 1086, 'obsess': 1087, 'frank': 1088, 'tradit': 1089, 'grade': 1090, '60': 1091, 'asid': 1092, 'brutal': 1093, 'steve': 1094, 'somewher': 1095, 'u': 1096, 'explor': 1097, 'rule': 1098, 'opportun': 1099, 'depress': 1100, 'grant': 1101, 'besid': 1102, 'honest': 1103, 'dub': 1104, 'anti': 1105, 'trailer': 1106, 'intend': 1107, 'bar': 1108, 'longer': 1109, 'west': 1110, 'regard': 1111, 'scientist': 1112, 'decad': 1113, 'judg': 1114, 'silent': 1115, 'armi': 1116, 'creativ': 1117, 'wild': 1118, 'g': 1119, 'south': 1120, 'stewart': 1121, 'draw': 1122, 'road': 1123, 'govern': 1124, 'boss': 1125, 'ex': 1126, 'practic': 1127, 'gang': 1128, 'surprisingli': 1129, 'festiv': 1130, 'motiv': 1131, 'club': 1132, 'redeem': 1133, 'green': 1134, 'london': 1135, 'page': 1136, 'militari': 1137, 'machin': 1138, 'idiot': 1139, 'display': 1140, 'aliv': 1141, 'thrill': 1142, 'repeat': 1143, 'folk': 1144, '100': 1145, 'yeah': 1146, 'nobodi': 1147, '40': 1148, 'journey': 1149, 'garbag': 1150, 'ground': 1151, 'tire': 1152, 'smile': 1153, 'mood': 1154, 'bought': 1155, 'stone': 1156, 'cost': 1157, 'sam': 1158, 'mouth': 1159, 'noir': 1160, 'agent': 1161, 'terrif': 1162, 'utterli': 1163, 'requir': 1164, 'area': 1165, 'honestli': 1166, 'sexi': 1167, 'geniu': 1168, 'report': 1169, 'glad': 1170, 'humour': 1171, 'enter': 1172, 'investig': 1173, 'serial': 1174, 'passion': 1175, 'narr': 1176, 'occasion': 1177, 'climax': 1178, 'marriag': 1179, 'studi': 1180, 'industri': 1181, 'charli': 1182, 'demon': 1183, 'nowher': 1184, 'center': 1185, 'ship': 1186, 'loos': 1187, 'bear': 1188, 'hors': 1189, 'wow': 1190, 'hang': 1191, 'graphic': 1192, 'admir': 1193, 'giant': 1194, 'send': 1195, 'loud': 1196, 'damn': 1197, 'rel': 1198, 'subtl': 1199, 'profession': 1200, 'nake': 1201, 'blow': 1202, 'bottom': 1203, 'batman': 1204, 'insult': 1205, 'doubl': 1206, 'kelli': 1207, 'r': 1208, 'boyfriend': 1209, 'initi': 1210, 'frame': 1211, 'gem': 1212, 'opera': 1213, 'church': 1214, 'drawn': 1215, 'challeng': 1216, 'cinemat': 1217, 'affect': 1218, 'j': 1219, 'l': 1220, 'nightmar': 1221, 'seek': 1222, 'evid': 1223, 'fulli': 1224, 'conflict': 1225, 'essenti': 1226, 'arm': 1227, 'christoph': 1228, 'grace': 1229, 'wind': 1230, 'henri': 1231, 'narrat': 1232, 'witch': 1233, 'assum': 1234, 'push': 1235, 'hunt': 1236, 'wise': 1237, 'chri': 1238, 'month': 1239, 'nomin': 1240, 'repres': 1241, 'sceneri': 1242, 'hide': 1243, 'avail': 1244, 'affair': 1245, 'bond': 1246, 'justic': 1247, 'smart': 1248, 'thu': 1249, 'flashback': 1250, 'outstand': 1251, 'interview': 1252, 'constantli': 1253, 'presenc': 1254, 'satisfi': 1255, 'bed': 1256, 'central': 1257, 'content': 1258, 'iron': 1259, 'sell': 1260, 'gag': 1261, 'everybodi': 1262, 'slowli': 1263, 'hotel': 1264, 'hire': 1265, 'system': 1266, 'charl': 1267, 'adam': 1268, 'thrown': 1269, 'hey': 1270, 'individu': 1271, 'jone': 1272, 'allen': 1273, 'mediocr': 1274, 'ray': 1275, 'billi': 1276, 'lesson': 1277, 'cameo': 1278, 'photographi': 1279, 'fellow': 1280, 'pari': 1281, 'strike': 1282, 'rise': 1283, 'absurd': 1284, 'brief': 1285, 'independ': 1286, 'neg': 1287, 'phone': 1288, 'impact': 1289, 'ill': 1290, 'model': 1291, 'born': 1292, 'fresh': 1293, 'angl': 1294, 'spoil': 1295, 'likabl': 1296, 'abus': 1297, 'hill': 1298, 'discuss': 1299, 'ahead': 1300, 'sight': 1301, 'sent': 1302, 'photograph': 1303, 'logic': 1304, 'blame': 1305, 'occur': 1306, 'shine': 1307, 'mainli': 1308, 'bruce': 1309, 'commerci': 1310, 'forev': 1311, 'skip': 1312, 'surround': 1313, 'segment': 1314, 'held': 1315, 'teacher': 1316, 'blond': 1317, 'zero': 1318, 'resembl': 1319, 'summer': 1320, 'trap': 1321, 'satir': 1322, 'fool': 1323, 'queen': 1324, 'six': 1325, 'ball': 1326, 'twice': 1327, 'sub': 1328, 'tragedi': 1329, 'reaction': 1330, 'pack': 1331, 'bomb': 1332, 'will': 1333, 'protagonist': 1334, 'hospit': 1335, 'mile': 1336, 'sport': 1337, 'jerri': 1338, 'mom': 1339, 'vote': 1340, 'drink': 1341, 'trust': 1342, 'encount': 1343, 'plane': 1344, 'program': 1345, 'station': 1346, 'current': 1347, 'al': 1348, 'choos': 1349, 'martin': 1350, 'celebr': 1351, 'join': 1352, 'lord': 1353, 'round': 1354, 'field': 1355, 'favourit': 1356, 'tragic': 1357, 'vision': 1358, 'robot': 1359, 'jean': 1360, 'arthur': 1361, 'tie': 1362, 'fortun': 1363, 'random': 1364, 'roger': 1365, 'dread': 1366, 'intern': 1367, 'psycholog': 1368, 'improv': 1369, 'epic': 1370, 'prefer': 1371, 'nonsens': 1372, 'legend': 1373, 'highlight': 1374, 'formula': 1375, 'pleasur': 1376, 'tape': 1377, 'dollar': 1378, '11': 1379, 'thin': 1380, 'gorgeou': 1381, 'object': 1382, 'wide': 1383, 'fox': 1384, 'porn': 1385, 'influenc': 1386, 'ugli': 1387, 'buddi': 1388, 'prepar': 1389, 'ii': 1390, 'nasti': 1391, 'progress': 1392, 'supposedli': 1393, 'warm': 1394, 'reflect': 1395, 'youth': 1396, 'worthi': 1397, 'length': 1398, 'unusu': 1399, 'latter': 1400, 'crash': 1401, 'childhood': 1402, 'shop': 1403, 'superior': 1404, 'seven': 1405, 'theatr': 1406, 'remot': 1407, 'pilot': 1408, 'paid': 1409, 'disgust': 1410, 'funniest': 1411, 'trick': 1412, 'convers': 1413, 'fell': 1414, 'castl': 1415, 'rob': 1416, 'establish': 1417, 'disast': 1418, 'gangster': 1419, 'mine': 1420, 'heaven': 1421, 'ident': 1422, 'suicid': 1423, 'disappear': 1424, 'decis': 1425, 'singer': 1426, 'heroin': 1427, 'tend': 1428, 'forgotten': 1429, 'mask': 1430, 'brian': 1431, 'partner': 1432, 'recogn': 1433, 'alan': 1434, 'desert': 1435, 'stuck': 1436, 'sky': 1437, 'thoroughli': 1438, 'ms': 1439, 'p': 1440, 'replac': 1441, 'accur': 1442, 'market': 1443, 'eddi': 1444, 'clue': 1445, 'danni': 1446, 'uncl': 1447, 'andi': 1448, 'seemingli': 1449, 'commentari': 1450, 'jackson': 1451, 'devil': 1452, 'refus': 1453, 'therefor': 1454, 'pair': 1455, 'that': 1456, 'unit': 1457, 'ed': 1458, 'accid': 1459, 'fault': 1460, 'fate': 1461, 'river': 1462, 'tune': 1463, 'afraid': 1464, 'hidden': 1465, 'clean': 1466, 'russian': 1467, 'stephen': 1468, 'captain': 1469, 'quick': 1470, 'instanc': 1471, 'irrit': 1472, 'convey': 1473, 'readi': 1474, 'test': 1475, 'european': 1476, 'frustrat': 1477, 'daniel': 1478, 'insan': 1479, 'rescu': 1480, '1950': 1481, 'wed': 1482, 'food': 1483, 'chines': 1484, 'dirti': 1485, 'lock': 1486, 'angri': 1487, 'joy': 1488, 'steven': 1489, 'price': 1490, 'cage': 1491, 'bland': 1492, 'rang': 1493, 'anymor': 1494, 'wooden': 1495, 'jason': 1496, 'news': 1497, 'rush': 1498, 'n': 1499, 'board': 1500, 'led': 1501, '12': 1502, 'worri': 1503, 'martial': 1504, 'twenti': 1505, 'cgi': 1506, 'hunter': 1507, 'transform': 1508, 'symbol': 1509, 'x': 1510, 'invent': 1511, 'johnni': 1512, 'piti': 1513, 'sentiment': 1514, 'onto': 1515, 'explan': 1516, 'process': 1517, 'attitud': 1518, 'awar': 1519, 'owner': 1520, 'aim': 1521, 'necessari': 1522, 'floor': 1523, 'target': 1524, 'favor': 1525, 'energi': 1526, 'religi': 1527, 'opposit': 1528, 'blind': 1529, 'chick': 1530, 'insight': 1531, 'window': 1532, 'movement': 1533, 'comparison': 1534, 'deepli': 1535, 'possess': 1536, 'research': 1537, 'mountain': 1538, 'rain': 1539, 'grand': 1540, 'comed': 1541, 'whatsoev': 1542, 'mid': 1543, 'bank': 1544, 'shadow': 1545, 'began': 1546, 'princ': 1547, 'parodi': 1548, 'friendship': 1549, 'pre': 1550, 'weapon': 1551, 'credibl': 1552, 'taylor': 1553, 'dougla': 1554, 'flesh': 1555, 'teach': 1556, 'hint': 1557, 'terror': 1558, 'bloodi': 1559, 'protect': 1560, 'marvel': 1561, 'leader': 1562, 'watchabl': 1563, 'anybodi': 1564, 'load': 1565, 'drunk': 1566, 'accord': 1567, 'superman': 1568, 'brown': 1569, 'freddi': 1570, 'seat': 1571, 'tim': 1572, 'appropri': 1573, 'jeff': 1574, 'hitler': 1575, 'villag': 1576, 'charg': 1577, 'unknown': 1578, 'keaton': 1579, 'knock': 1580, 'enemi': 1581, 'england': 1582, 'empti': 1583, 'media': 1584, 'unnecessari': 1585, 'dare': 1586, 'utter': 1587, 'perspect': 1588, 'strength': 1589, 'buck': 1590, 'craft': 1591, 'wave': 1592, 'correct': 1593, 'nativ': 1594, 'kiss': 1595, 'contrast': 1596, 'ford': 1597, 'magnific': 1598, 'chill': 1599, 'speed': 1600, 'knowledg': 1601, 'soap': 1602, 'anywher': 1603, 'distract': 1604, 'nazi': 1605, 'ice': 1606, '1980': 1607, 'mission': 1608, 'breath': 1609, 'fred': 1610, 'moon': 1611, 'jr': 1612, 'crowd': 1613, 'joan': 1614, 'frighten': 1615, '000': 1616, 'kate': 1617, 'soft': 1618, 'dick': 1619, 'hundr': 1620, 'nick': 1621, 'dan': 1622, 'somebodi': 1623, 'radio': 1624, 'simon': 1625, 'dozen': 1626, 'thousand': 1627, 'loss': 1628, 'andrew': 1629, 'academi': 1630, 'shakespear': 1631, 'quot': 1632, 'root': 1633, 'account': 1634, 'sum': 1635, 'vehicl': 1636, '1970': 1637, 'behavior': 1638, 'leg': 1639, 'convent': 1640, 'regular': 1641, 'gold': 1642, 'pretenti': 1643, 'demand': 1644, 'worker': 1645, 'compet': 1646, 'explos': 1647, 'stretch': 1648, 'privat': 1649, 'interpret': 1650, 'candi': 1651, 'notabl': 1652, 'japan': 1653, 'lynch': 1654, 'constant': 1655, 'tarzan': 1656, 'debut': 1657, 'prais': 1658, 'spi': 1659, 'revolv': 1660, 'translat': 1661, 'sea': 1662, 'failur': 1663, 'threaten': 1664, 'quiet': 1665, 'technolog': 1666, 'franc': 1667, 'ass': 1668, 'sat': 1669, 'jesu': 1670, 'aid': 1671, 'higher': 1672, 'kevin': 1673, 'punch': 1674, 'met': 1675, 'toy': 1676, 'abandon': 1677, 'vh': 1678, 'interact': 1679, 'mike': 1680, 'command': 1681, 'separ': 1682, 'bet': 1683, 'confront': 1684, 'techniqu': 1685, 'belong': 1686, 'gotten': 1687, 'recal': 1688, 'site': 1689, 'servic': 1690, 'stunt': 1691, 'foot': 1692, 'cabl': 1693, 'freak': 1694, 'bug': 1695, 'fu': 1696, 'capabl': 1697, 'african': 1698, 'bright': 1699, 'jimmi': 1700, 'stock': 1701, 'succeed': 1702, 'presid': 1703, 'boat': 1704, 'fat': 1705, 'clark': 1706, 'spanish': 1707, 'structur': 1708, 'gene': 1709, 'kidnap': 1710, 'paper': 1711, 'factor': 1712, 'whilst': 1713, 'belief': 1714, 'realism': 1715, 'tree': 1716, 'complic': 1717, 'realis': 1718, 'bob': 1719, 'educ': 1720, 'attend': 1721, 'witti': 1722, 'assist': 1723, 'finest': 1724, 'santa': 1725, 'broken': 1726, 'up': 1727, 'determin': 1728, 'smoke': 1729, 'depart': 1730, 'observ': 1731, 'v': 1732, 'oper': 1733, 'routin': 1734, 'hat': 1735, 'domin': 1736, 'fame': 1737, 'rubbish': 1738, 'lewi': 1739, 'lone': 1740, 'hook': 1741, 'morgan': 1742, 'kinda': 1743, 'safe': 1744, 'advanc': 1745, 'foreign': 1746, 'rank': 1747, 'numer': 1748, 'civil': 1749, 'werewolf': 1750, 'rose': 1751, 'vs': 1752, 'washington': 1753, 'shallow': 1754, 'shape': 1755, 'gari': 1756, 'morn': 1757, 'kong': 1758, 'ordinari': 1759, 'winner': 1760, 'accomplish': 1761, 'grab': 1762, 'peac': 1763, 'whenev': 1764, 'virtual': 1765, 'luck': 1766, 'offens': 1767, 'h': 1768, 'activ': 1769, 'bigger': 1770, 'welcom': 1771, 'complain': 1772, 'patient': 1773, 'unfunni': 1774, 'contriv': 1775, 'dimension': 1776, 'con': 1777, 'pretend': 1778, 'trek': 1779, 'eric': 1780, 'dri': 1781, 'code': 1782, 'lesbian': 1783, 'flash': 1784, 'wake': 1785, 'cain': 1786, 'guard': 1787, 'albert': 1788, 'dancer': 1789, 'statu': 1790, 'corrupt': 1791, 'manipul': 1792, 'sourc': 1793, 'awkward': 1794, 'speech': 1795, 'signific': 1796, 'gain': 1797, 'context': 1798, '13': 1799, 'clip': 1800, 'corni': 1801, 'sean': 1802, 'psycho': 1803, 'anthoni': 1804, 'reli': 1805, 'w': 1806, 'advic': 1807, 'religion': 1808, 'curiou': 1809, 'theatric': 1810, 'priest': 1811, 'addict': 1812, 'flow': 1813, 'secur': 1814, 'specif': 1815, 'asian': 1816, 'skin': 1817, 'howard': 1818, 'jennif': 1819, 'golden': 1820, 'comfort': 1821, 'promot': 1822, 'organ': 1823, 'luke': 1824, 'core': 1825, 'lucki': 1826, 'cash': 1827, 'cheat': 1828, 'lower': 1829, 'dislik': 1830, 'associ': 1831, 'degre': 1832, 'spell': 1833, 'frequent': 1834, 'frankli': 1835, 'regret': 1836, 'balanc': 1837, 'contribut': 1838, 'devic': 1839, 'wing': 1840, 'forgiv': 1841, 'sake': 1842, 'print': 1843, 'lake': 1844, 'betti': 1845, 'mass': 1846, 'thoma': 1847, 'crack': 1848, 'unexpect': 1849, 'gordon': 1850, 'unfold': 1851, 'amateur': 1852, 'depend': 1853, 'construct': 1854, 'grown': 1855, 'invit': 1856, 'categori': 1857, 'intellectu': 1858, 'honor': 1859, 'matur': 1860, 'grew': 1861, 'anna': 1862, 'walter': 1863, 'condit': 1864, 'spectacular': 1865, 'sudden': 1866, 'sole': 1867, 'veteran': 1868, 'mirror': 1869, 'overli': 1870, 'freedom': 1871, 'robin': 1872, 'meanwhil': 1873, 'demonstr': 1874, 'grip': 1875, 'liner': 1876, 'experienc': 1877, 'gift': 1878, 'card': 1879, 'crappi': 1880, 'oliv': 1881, 'drew': 1882, 'subtitl': 1883, 'unabl': 1884, 'colour': 1885, 'brilliantli': 1886, 'theori': 1887, 'circumst': 1888, 'sheriff': 1889, 'section': 1890, 'pile': 1891, 'laughter': 1892, 'path': 1893, 'matt': 1894, 'sheer': 1895, 'altern': 1896, 'parker': 1897, 'cook': 1898, 'defin': 1899, 'wander': 1900, 'sinatra': 1901, 'lawyer': 1902, 'relief': 1903, 'treatment': 1904, 'hall': 1905, 'accident': 1906, 'captiv': 1907, 'dragon': 1908, 'hank': 1909, 'gratuit': 1910, 'halloween': 1911, 'moor': 1912, 'kung': 1913, 'cowboy': 1914, 'wound': 1915, 'unintent': 1916, 'wayn': 1917, 'barbara': 1918, 'k': 1919, 'jacki': 1920, 'broadway': 1921, 'surreal': 1922, 'statement': 1923, 'spoof': 1924, 'canadian': 1925, 'winter': 1926, 'treasur': 1927, 'cheer': 1928, 'fish': 1929, 'gonna': 1930, 'fare': 1931, 'compos': 1932, 'sensit': 1933, 'unrealist': 1934, 'emerg': 1935, 'woodi': 1936, 'victor': 1937, 'sympathet': 1938, 'driven': 1939, 'ran': 1940, 'neighbor': 1941, 'expos': 1942, 'glass': 1943, 'menac': 1944, 'overlook': 1945, 'authent': 1946, 'topic': 1947, 'chief': 1948, 'michel': 1949, 'ancient': 1950, 'handsom': 1951, 'gross': 1952, 'russel': 1953, 'contemporari': 1954, 'nevertheless': 1955, 'feet': 1956, 'network': 1957, 'built': 1958, 'comedian': 1959, 'pleasant': 1960, 'cinderella': 1961, 'stranger': 1962, 'miser': 1963, 'blockbust': 1964, 'earn': 1965, 'underr': 1966, 'consider': 1967, 'gori': 1968, 'endless': 1969, 'letter': 1970, 'solv': 1971, 'brook': 1972, 'switch': 1973, 'edward': 1974, 'victoria': 1975, 'virgin': 1976, 'convict': 1977, 'bullet': 1978, 'joseph': 1979, 'scale': 1980, 'chosen': 1981, 'cynic': 1982, 'alex': 1983, '0': 1984, 'scenario': 1985, 'sword': 1986, 'curs': 1987, 'gut': 1988, 'outrag': 1989, 'com': 1990, 'screenwrit': 1991, 'driver': 1992, 'monkey': 1993, 'juli': 1994, 'proper': 1995, 'wrap': 1996, 'uk': 1997, 'substanc': 1998, 'court': 1999, 'remov': 2000, 'bird': 2001, 'indic': 2002, 'par': 2003, 'advertis': 2004, 'nanci': 2005, 'consequ': 2006, 'rental': 2007, 'loser': 2008, 'inevit': 2009, 'grave': 2010, 'naiv': 2011, 'roy': 2012, 'bridg': 2013, 'fatal': 2014, 'brave': 2015, 'germani': 2016, 'le': 2017, 'slap': 2018, 'invis': 2019, 'ador': 2020, 'footbal': 2021, 'anger': 2022, 'provok': 2023, 'loui': 2024, 'alcohol': 2025, 'anderson': 2026, 'chan': 2027, 'willi': 2028, 'stumbl': 2029, 'professor': 2030, 'ryan': 2031, 'assassin': 2032, '1930': 2033, 'sharp': 2034, 'patrick': 2035, 'bat': 2036, 'australian': 2037, 'ape': 2038, 'trilog': 2039, 'liber': 2040, 'saturday': 2041, 'refresh': 2042, 'lousi': 2043, 'deni': 2044, 'heck': 2045, 'eight': 2046, 'amateurish': 2047, 'cell': 2048, 'strongli': 2049, 'sin': 2050, 'san': 2051, 'resid': 2052, 'justifi': 2053, 'vagu': 2054, 'mini': 2055, 'defeat': 2056, 'sympathi': 2057, 'reput': 2058, 'indi': 2059, 'creator': 2060, 'terrifi': 2061, 'expert': 2062, 'tabl': 2063, 'task': 2064, 'tediou': 2065, 'prevent': 2066, 'endur': 2067, 'imit': 2068, 'trial': 2069, 'rival': 2070, 'offend': 2071, 'basebal': 2072, 'employ': 2073, 'che': 2074, 'dig': 2075, 'max': 2076, 'complaint': 2077, 'pitch': 2078, 'fairi': 2079, 'europ': 2080, 'weekend': 2081, 'beach': 2082, 'murphi': 2083, 'purchas': 2084, 'risk': 2085, 'format': 2086, 'tini': 2087, 'powel': 2088, 'bite': 2089, 'nois': 2090, 'reminisc': 2091, 'hype': 2092, 'glimps': 2093, 'harsh': 2094, 'titan': 2095, '14': 2096, 'north': 2097, 'asleep': 2098, 'fals': 2099, 'prime': 2100, 'till': 2101, 'strip': 2102, 'descript': 2103, 'texa': 2104, 'africa': 2105, 'revel': 2106, 'destruct': 2107, 'spin': 2108, 'sitcom': 2109, 'uninterest': 2110, 'semi': 2111, 'arrest': 2112, 'excess': 2113, 'surfac': 2114, 'inner': 2115, 'argu': 2116, 'massiv': 2117, 'twin': 2118, 'hitchcock': 2119, 'makeup': 2120, 'controversi': 2121, 'dinosaur': 2122, 'maintain': 2123, 'insist': 2124, 'ideal': 2125, 'expens': 2126, 'melodrama': 2127, 'kim': 2128, 'stare': 2129, 'ludicr': 2130, 'reject': 2131, 'supernatur': 2132, 'ga': 2133, 'erot': 2134, 'ala': 2135, 'forest': 2136, 'nail': 2137, 'press': 2138, 'subplot': 2139, 'host': 2140, 'columbo': 2141, 'atroci': 2142, 'dude': 2143, 'notch': 2144, 'cant': 2145, 'identifi': 2146, 'presum': 2147, 'character': 2148, 'crude': 2149, 'closer': 2150, 'guest': 2151, 'method': 2152, 'forgett': 2153, 'plagu': 2154, 'ear': 2155, 'landscap': 2156, 'princess': 2157, 'border': 2158, 'lion': 2159, 'beast': 2160, 'foster': 2161, 'damag': 2162, 'pacino': 2163, 'urban': 2164, 'accus': 2165, 'aunt': 2166, 'bound': 2167, 'birth': 2168, 'storytel': 2169, 'previous': 2170, 'jungl': 2171, 'doll': 2172, 'jess': 2173, 'thirti': 2174, 'nude': 2175, 'emma': 2176, 'chose': 2177, 'guid': 2178, 'propaganda': 2179, 'whoever': 2180, 'mate': 2181, 'warrior': 2182, 'mainstream': 2183, '25': 2184, 'pet': 2185, 'poster': 2186, 'size': 2187, 'latest': 2188, 'friday': 2189, 'deadli': 2190, 'upset': 2191, 'gritti': 2192, 'merit': 2193, 'exact': 2194, 'cooper': 2195, 'settl': 2196, 'blend': 2197, 'citizen': 2198, 'sun': 2199, 'buff': 2200, 'corps': 2201, '1990': 2202, 'rough': 2203, 'wilson': 2204, 'ton': 2205, 'popul': 2206, 'contact': 2207, 'warner': 2208, 'contest': 2209, 'environ': 2210, 'select': 2211, 'widow': 2212, 'overcom': 2213, 'mgm': 2214, 'bu': 2215, 'rat': 2216, 'metal': 2217, 'alic': 2218, 'pitt': 2219, 'lift': 2220, 'revolut': 2221, 'link': 2222, 'ted': 2223, 'guilti': 2224, 'particip': 2225, 'moron': 2226, 'johnson': 2227, 'afternoon': 2228, 'matrix': 2229, 'exagger': 2230, 'accompani': 2231, '1960': 2232, 'corner': 2233, 'prostitut': 2234, 'corpor': 2235, 'leagu': 2236, 'clair': 2237, 'multipl': 2238, 'instal': 2239, 'holm': 2240, 'hood': 2241, 'sincer': 2242, 'friendli': 2243, 'doom': 2244, 'sunday': 2245, 'advis': 2246, 'blah': 2247, 'aka': 2248, 'junk': 2249, 'campi': 2250, 'grim': 2251, 'examin': 2252, 'string': 2253, 'irish': 2254, 'hip': 2255, 'defend': 2256, 'lugosi': 2257, 'rachel': 2258, 'icon': 2259, 'pro': 2260, 'varieti': 2261, 'shake': 2262, 'shut': 2263, 'confid': 2264, 'tight': 2265, 'directli': 2266, 'jaw': 2267, 'mexican': 2268, 'medic': 2269, 'attach': 2270, 'denni': 2271, 'goal': 2272, 'sullivan': 2273, 'terrorist': 2274, 'dean': 2275, 'sarah': 2276, 'courag': 2277, 'legendari': 2278, 'vietnam': 2279, 'truck': 2280, 'breast': 2281, 'duke': 2282, 'prior': 2283, 'sentenc': 2284, 'bourn': 2285, 'hong': 2286, 'yell': 2287, 'split': 2288, 'entri': 2289, 'donald': 2290, 'un': 2291, 'proceed': 2292, 'behav': 2293, 'nose': 2294, 'everywher': 2295, 'jerk': 2296, 'confess': 2297, 'gather': 2298, 'crush': 2299, 'swim': 2300, 'borrow': 2301, 'unconvinc': 2302, 'concentr': 2303, 'lifetim': 2304, 'buri': 2305, 'forth': 2306, 'stolen': 2307, 'spite': 2308, 'pan': 2309, 'deliveri': 2310, 'turkey': 2311, 'julia': 2312, 'california': 2313, 'lip': 2314, 'hoffman': 2315, 'quest': 2316, 'freeman': 2317, 'flight': 2318, 'reward': 2319, 'offici': 2320, 'proud': 2321, 'downright': 2322, 'china': 2323, 'inept': 2324, 'betray': 2325, 'fade': 2326, 'worthwhil': 2327, 'sir': 2328, 'encourag': 2329, 'sink': 2330, 'fabul': 2331, 'jon': 2332, 'jail': 2333, 'lazi': 2334, 'notori': 2335, 'survivor': 2336, 'susan': 2337, 'retard': 2338, 'storm': 2339, 'teeth': 2340, 'bag': 2341, 'shower': 2342, 'bell': 2343, 'branagh': 2344, 'cousin': 2345, 'lisa': 2346, 'relev': 2347, 'imageri': 2348, 'quirki': 2349, 'summari': 2350, 'bride': 2351, 'trade': 2352, 'tremend': 2353, 'stab': 2354, 'facial': 2355, 'shark': 2356, 'finger': 2357, 'toler': 2358, 'hugh': 2359, 'mexico': 2360, 'alright': 2361, 'pose': 2362, 'bitter': 2363, 'ha': 2364, 'blown': 2365, 'hyster': 2366, 'von': 2367, 'afterward': 2368, 'scheme': 2369, 'cruel': 2370, 'ron': 2371, 'address': 2372, 'ned': 2373, 'bone': 2374, 'larri': 2375, 'christ': 2376, 'traci': 2377, 'thumb': 2378, 'swear': 2379, 'feed': 2380, 'beg': 2381, 'screw': 2382, 'tour': 2383, 'pursu': 2384, 'distinct': 2385, 'snake': 2386, 'raw': 2387, 'occas': 2388, 'photo': 2389, 'mechan': 2390, 'obscur': 2391, 'chair': 2392, 'stomach': 2393, 'chain': 2394, 'cabin': 2395, 'gruesom': 2396, 'hardi': 2397, 'heavili': 2398, 'necessarili': 2399, 'holiday': 2400, 'render': 2401, 'resist': 2402, 'argument': 2403, 'southern': 2404, 'sidney': 2405, 'philip': 2406, 'racist': 2407, 'satan': 2408, 'indulg': 2409, 'india': 2410, 'understood': 2411, 'pregnant': 2412, 'tongu': 2413, 'lay': 2414, 'outfit': 2415, 'belov': 2416, 'obnoxi': 2417, 'integr': 2418, 'midnight': 2419, 'fourth': 2420, 'forgot': 2421, 'stalk': 2422, 'inhabit': 2423, 'magazin': 2424, 'slapstick': 2425, '17': 2426, 'restor': 2427, 'carol': 2428, 'deeper': 2429, 'garden': 2430, 'ticket': 2431, 'incid': 2432, 'devot': 2433, 'lincoln': 2434, 'shoe': 2435, 'brad': 2436, 'anticip': 2437, 'benefit': 2438, 'disbelief': 2439, 'underground': 2440, 'lili': 2441, 'divorc': 2442, 'sandler': 2443, 'maria': 2444, 'guarante': 2445, 'elizabeth': 2446, 'bbc': 2447, 'creation': 2448, 'explod': 2449, 'slave': 2450, 'cring': 2451, 'amazingli': 2452, 'capit': 2453, 'princip': 2454, 'mildli': 2455, 'greater': 2456, 'introduct': 2457, 'extraordinari': 2458, 'funnier': 2459, 'lesli': 2460, 'halfway': 2461, 'punish': 2462, 'extent': 2463, 'enhanc': 2464, 'overwhelm': 2465, 'advantag': 2466, 'wreck': 2467, 'tap': 2468, 'transfer': 2469, 'text': 2470, 'jessica': 2471, 'plant': 2472, 'lo': 2473, 'preview': 2474, 'error': 2475, 'horrif': 2476, 'deliber': 2477, 'lane': 2478, 'east': 2479, 'dynam': 2480, 'miller': 2481, 'appli': 2482, 'sophist': 2483, 'vacat': 2484, 'vincent': 2485, 'homosexu': 2486, '2000': 2487, 'ensu': 2488, 'miscast': 2489, 'basi': 2490, 'extend': 2491, 'spoken': 2492, 'sleazi': 2493, 'steel': 2494, 'measur': 2495, 'reed': 2496, 'mansion': 2497, 'uncomfort': 2498, 'via': 2499, 'elev': 2500, 'bollywood': 2501, 'stanley': 2502, 'goofi': 2503, 'conceiv': 2504, 'savag': 2505, 'blair': 2506, 'alter': 2507, 'daili': 2508, 'fix': 2509, 'beer': 2510, 'assign': 2511, 'hippi': 2512, 'breathtak': 2513, 'mous': 2514, 'cathol': 2515, 'dentist': 2516, 'melt': 2517, 'overact': 2518, 'properli': 2519, 'subsequ': 2520, 'carpent': 2521, 'succe': 2522, 'nowaday': 2523, 'everyday': 2524, 'oppos': 2525, 'burt': 2526, 'sacrific': 2527, 'inspector': 2528, 'neck': 2529, 'block': 2530, 'circl': 2531, 'massacr': 2532, 'laura': 2533, 'seagal': 2534, 'fallen': 2535, 'lesser': 2536, 'christi': 2537, 'grey': 2538, 'pool': 2539, 'access': 2540, 'portrait': 2541, 'mob': 2542, 'concert': 2543, 'fay': 2544, 'react': 2545, 'competit': 2546, 'isol': 2547, 'chees': 2548, 'jewish': 2549, 'sinist': 2550, 'usa': 2551, 'relax': 2552, 'jake': 2553, 'suitabl': 2554, 'nine': 2555, 'spiritu': 2556, 'ironi': 2557, 'nonetheless': 2558, 'creep': 2559, 'chop': 2560, 'appal': 2561, 'stink': 2562, 'lyric': 2563, 'immens': 2564, '2006': 2565, 'navi': 2566, 'showcas': 2567, 'spring': 2568, 'rage': 2569, 'adopt': 2570, 'luci': 2571, 'retir': 2572, 'shirt': 2573, 'sold': 2574, 'reduc': 2575, 'nut': 2576, 'franchis': 2577, 'needless': 2578, 'user': 2579, 'bulli': 2580, 'uninspir': 2581, 'bath': 2582, 'per': 2583, 'nurs': 2584, 'zone': 2585, 'jay': 2586, 'digit': 2587, 'asham': 2588, 'stanwyck': 2589, 'broadcast': 2590, '2001': 2591, 'amongst': 2592, 'illustr': 2593, 'oddli': 2594, 'upper': 2595, 'sutherland': 2596, '1940': 2597, 'laid': 2598, 'throat': 2599, 'stylish': 2600, 'disguis': 2601, 'aspir': 2602, 'baker': 2603, 'fulfil': 2604, 'brando': 2605, '18': 2606, 'pride': 2607, 'endear': 2608, 'neighborhood': 2609, 'pound': 2610, 'em': 2611, 'wanna': 2612, 'thief': 2613, 'nobl': 2614, 'wwii': 2615, 'impli': 2616, 'bo': 2617, 'cinematograph': 2618, '16': 2619, 'tens': 2620, 'distribut': 2621, 'dinner': 2622, 'dawn': 2623, 'diseas': 2624, 'prop': 2625, 'coher': 2626, 'shift': 2627, 'shoulder': 2628, 'albeit': 2629, 'rochest': 2630, 'bett': 2631, 'forti': 2632, 'shout': 2633, 'wash': 2634, 'surf': 2635, 'function': 2636, 'contract': 2637, 'knife': 2638, 'poignant': 2639, 'snow': 2640, 'rebel': 2641, 'silenc': 2642, 'matthau': 2643, 'cancel': 2644, 'derek': 2645, 'silver': 2646, 'proof': 2647, 'mindless': 2648, 'heat': 2649, 'horrend': 2650, 'chuck': 2651, 'height': 2652, 'internet': 2653, 'reunion': 2654, 'elvira': 2655, 'henc': 2656, 'eeri': 2657, 'duti': 2658, 'widmark': 2659, 'cannib': 2660, 'instinct': 2661, 'mill': 2662, 'innov': 2663, 'pie': 2664, 'alik': 2665, 'absorb': 2666, 'elvi': 2667, 'musician': 2668, 'neat': 2669, 'repetit': 2670, 'greatli': 2671, 'glori': 2672, 'torn': 2673, 'incoher': 2674, 'premier': 2675, 'spielberg': 2676, 'etern': 2677, 'precis': 2678, 'nelson': 2679, 'burton': 2680, 'crisi': 2681, 'redempt': 2682, 'announc': 2683, 'itali': 2684, 'fbi': 2685, 'britain': 2686, 'homag': 2687, 'lovabl': 2688, 'horrifi': 2689, 'trite': 2690, 'racism': 2691, 'blank': 2692, 'infam': 2693, 'bang': 2694, 'wealthi': 2695, 'diamond': 2696, 'resolut': 2697, 'ensembl': 2698, 'chaplin': 2699, 'flop': 2700, 'wilder': 2701, 'happili': 2702, 'dedic': 2703, 'hammer': 2704, 'streisand': 2705, 'pat': 2706, 'helen': 2707, 'parallel': 2708, 'disagre': 2709, 'triumph': 2710, 'conclud': 2711, 'cube': 2712, 'broke': 2713, 'mar': 2714, 'factori': 2715, 'plastic': 2716, 'st': 2717, 'oil': 2718, 'carter': 2719, 'weight': 2720, 'fighter': 2721, 'climb': 2722, 'row': 2723, 'rocket': 2724, 'chuckl': 2725, 'own': 2726, 'bush': 2727, 'march': 2728, 'vega': 2729, 'enorm': 2730, 'dane': 2731, 'wherea': 2732, 'meaning': 2733, 'dump': 2734, 'kurt': 2735, 'thug': 2736, 'unforgett': 2737, 'spare': 2738, 'lust': 2739, 'boot': 2740, 'mst3k': 2741, 'sensibl': 2742, 'luca': 2743, 'difficulti': 2744, 'fifti': 2745, 'arnold': 2746, 'rap': 2747, 'caricatur': 2748, 'adequ': 2749, 'engin': 2750, 'threat': 2751, 'butt': 2752, 'dear': 2753, 'brand': 2754, 'bobbi': 2755, 'stress': 2756, 'karloff': 2757, 'secretari': 2758, 'ralph': 2759, 'fest': 2760, 'ego': 2761, 'journalist': 2762, 'flynn': 2763, 'homeless': 2764, 'elabor': 2765, 'arrog': 2766, 'swing': 2767, 'hamlet': 2768, 'barri': 2769, 'polish': 2770, 'tool': 2771, 'grate': 2772, 'fanci': 2773, 'float': 2774, 'simpson': 2775, 'unbear': 2776, 'arrang': 2777, 'spike': 2778, 'induc': 2779, 'puppet': 2780, 'resort': 2781, 'conspiraci': 2782, 'choreograph': 2783, 'tribut': 2784, 'cruis': 2785, 'muppet': 2786, 'guilt': 2787, 'basement': 2788, 'pig': 2789, 'phillip': 2790, 'boll': 2791, 'exercis': 2792, 'file': 2793, 'layer': 2794, '24': 2795, 'scarecrow': 2796, 'ham': 2797, 'puzzl': 2798, 'editor': 2799, 'document': 2800, 'babe': 2801, 'slip': 2802, 'item': 2803, 'korean': 2804, 'toilet': 2805, 'ward': 2806, 'fianc': 2807, 'tower': 2808, 'stan': 2809, 'medium': 2810, 'territori': 2811, 'slaughter': 2812, 'transit': 2813, 'minim': 2814, 'doc': 2815, 'orient': 2816, 'larger': 2817, 'catherin': 2818, 'philosoph': 2819, 'inexplic': 2820, 'glover': 2821, 'portion': 2822, 'superfici': 2823, 'denzel': 2824, 'librari': 2825, 'assur': 2826, 'persona': 2827, 'spark': 2828, 'pg': 2829, 'shi': 2830, 'wolf': 2831, 'ban': 2832, 'walken': 2833, 'jeremi': 2834, 'dorothi': 2835, 'boredom': 2836, 'owe': 2837, 'sneak': 2838, 'financi': 2839, 'jet': 2840, 'curti': 2841, 'metaphor': 2842, 'profound': 2843, 'backdrop': 2844, 'cusack': 2845, 'multi': 2846, 'ambigu': 2847, 'eleph': 2848, 'hudson': 2849, 'whale': 2850, 'gadget': 2851, 'hack': 2852, 'elsewher': 2853, 'implaus': 2854, '2005': 2855, 'rave': 2856, 'stiff': 2857, 'viru': 2858, 'ultra': 2859, 'union': 2860, 'notion': 2861, 'birthday': 2862, '1st': 2863, 'reader': 2864, 'slight': 2865, 'bibl': 2866, 'newspap': 2867, 'squar': 2868, 'distanc': 2869, 'urg': 2870, 'eva': 2871, 'poison': 2872, 'pad': 2873, 'lloyd': 2874, 'canada': 2875, 'deriv': 2876, 'superhero': 2877, 'eastwood': 2878, 'afford': 2879, 'disc': 2880, 'hawk': 2881, 'sadist': 2882, 'essenc': 2883, 'heston': 2884, 'restaur': 2885, 'montag': 2886, 'charisma': 2887, 'drown': 2888, 'spread': 2889, 'huh': 2890, 'skit': 2891, 'health': 2892, 'cure': 2893, 'button': 2894, 'invest': 2895, 'companion': 2896, 'muslim': 2897, 'fetch': 2898, 'maniac': 2899, 'dealt': 2900, 'godfath': 2901, 'gradual': 2902, 'peak': 2903, 'lab': 2904, 'estat': 2905, 'scoobi': 2906, 'kane': 2907, 'miik': 2908, 'servant': 2909, 'subtleti': 2910, 'alli': 2911, 'ritter': 2912, 'cup': 2913, 'tea': 2914, 'gothic': 2915, 'countless': 2916, 'briefli': 2917, 'heroic': 2918, 'charismat': 2919, 'iii': 2920, 'elect': 2921, 'salli': 2922, 'electr': 2923, 'toss': 2924, 'resourc': 2925, 'bud': 2926, 'nuanc': 2927, 'ingredi': 2928, 'tender': 2929, 'wannab': 2930, 'admittedli': 2931, 'reel': 2932, 'cole': 2933, 'grandmoth': 2934, 'neil': 2935, 'shall': 2936, 'mild': 2937, 'gate': 2938, 'reev': 2939, 'dawson': 2940, 'mafia': 2941, 'stronger': 2942, 'pit': 2943, 'label': 2944, 'punk': 2945, 'kubrick': 2946, 'carrey': 2947, 'poverti': 2948, 'stood': 2949, 'pauli': 2950, 'tag': 2951, 'fond': 2952, 'cox': 2953, 'easier': 2954, 'ian': 2955, 'outcom': 2956, 'useless': 2957, 'burst': 2958, 'cardboard': 2959, 'terri': 2960, 'smash': 2961, 'smooth': 2962, 'updat': 2963, 'assault': 2964, 'bakshi': 2965, 'astair': 2966, '2002': 2967, 'exchang': 2968, 'coincid': 2969, 'vulner': 2970, 'fist': 2971, 'divers': 2972, 'melodramat': 2973, 'resolv': 2974, 'rex': 2975, 'increasingli': 2976, 'vari': 2977, 'sketch': 2978, 'qualifi': 2979, 'samurai': 2980, 'conveni': 2981, 'scratch': 2982, 'brillianc': 2983, 'suspend': 2984, 'tame': 2985, 'insert': 2986, 'templ': 2987, 'reynold': 2988, 'luckili': 2989, 'blast': 2990, 'be': 2991, 'matthew': 2992, 'strictli': 2993, 'coach': 2994, 'gotta': 2995, 'meat': 2996, 'ambiti': 2997, 'seventi': 2998, 'soprano': 2999, 'farm': 3000, 'hamilton': 3001, 'fisher': 3002, 'walker': 3003, 'nuclear': 3004, 'jami': 3005, 'pin': 3006, 'timeless': 3007, 'instantli': 3008, 'ninja': 3009, 'convolut': 3010, 'empir': 3011, 'struck': 3012, 'monk': 3013, 'worthless': 3014, 'joey': 3015, 'spooki': 3016, 'kudo': 3017, 'butcher': 3018, 'clock': 3019, 'revers': 3020, 'grasp': 3021, 'eccentr': 3022, 'cave': 3023, 'brosnan': 3024, 'closet': 3025, 'discoveri': 3026, 'recreat': 3027, 'eighti': 3028, 'evok': 3029, 'selfish': 3030, 'bleak': 3031, 'declar': 3032, 'partli': 3033, 'sloppi': 3034, 'pal': 3035, 'clown': 3036, 'norman': 3037, 'inconsist': 3038, 'sidekick': 3039, 'cliff': 3040, 'seller': 3041, 'importantli': 3042, 'communist': 3043, 'mitchel': 3044, 'wipe': 3045, 'fifteen': 3046, 'gray': 3047, 'miracl': 3048, 'enthusiast': 3049, 'chew': 3050, '45': 3051, 'websit': 3052, 'superbl': 3053, 'cheek': 3054, 'lifestyl': 3055, 'aforement': 3056, 'ho': 3057, 'destin': 3058, 'australia': 3059, 'debat': 3060, 'stoog': 3061, 'piano': 3062, 'flawless': 3063, 'psychiatrist': 3064, 'seed': 3065, 'farc': 3066, 'slice': 3067, 'emili': 3068, 'pressur': 3069, 'soviet': 3070, 'anni': 3071, 'incompet': 3072, 'drivel': 3073, 'dire': 3074, 'abc': 3075, 'directori': 3076, 'wrestl': 3077, 'akshay': 3078, 'wick': 3079, 'bash': 3080, 'dash': 3081, 'regardless': 3082, 'kitchen': 3083, 'splatter': 3084, 'pleasantli': 3085, 'beaten': 3086, 'seduc': 3087, 'suppli': 3088, 'glow': 3089, 'prize': 3090, 'doo': 3091, 'boil': 3092, 'judi': 3093, 'recov': 3094, 'distant': 3095, 'cameron': 3096, 'ken': 3097, 'flower': 3098, 'artifici': 3099, 'dave': 3100, 'lou': 3101, 'curios': 3102, 'cia': 3103, 'jar': 3104, 'blob': 3105, 'duo': 3106, 'helicopt': 3107, 'increas': 3108, 'mann': 3109, 'chapter': 3110, 'cagney': 3111, 'combat': 3112, 'drunken': 3113, 'goldberg': 3114, 'favour': 3115, 'glenn': 3116, 'perri': 3117, 'francisco': 3118, 'panic': 3119, 'psychot': 3120, 'ellen': 3121, 'web': 3122, 'ranger': 3123, 'splendid': 3124, 'laurel': 3125, 'turner': 3126, 'craven': 3127, 'hop': 3128, 'craig': 3129, 'eleg': 3130, 'alexand': 3131, 'flip': 3132, 'min': 3133, 'graduat': 3134, 'slightest': 3135, 'wizard': 3136, 'rid': 3137, 'gentl': 3138, 'plausibl': 3139, 'falk': 3140, 'shortli': 3141, '20th': 3142, 'hatr': 3143, 'fx': 3144, 'greek': 3145, 'gandhi': 3146, 'ruth': 3147, 'modesti': 3148, 'philosophi': 3149, 'tall': 3150, 'dracula': 3151, 'ocean': 3152, 'jealou': 3153, 'manhattan': 3154, 'knight': 3155, 'holi': 3156, 'preciou': 3157, 'unpleas': 3158, 'legal': 3159, 'lend': 3160, 'harm': 3161, 'we': 3162, 'futurist': 3163, 'felix': 3164, 'fund': 3165, 'scientif': 3166, 'nod': 3167, 'ami': 3168, 'giallo': 3169, 'thread': 3170, 'bless': 3171, 'overdon': 3172, 'forbidden': 3173, 'reviv': 3174, 'digniti': 3175, 'explicit': 3176, 'tank': 3177, 'childish': 3178, 'mock': 3179, 'thick': 3180, 'nerv': 3181, 'pirat': 3182, 'fever': 3183, 'elderli': 3184, 'margaret': 3185, 'awaken': 3186, 'eve': 3187, '99': 3188, 'yesterday': 3189, 'mel': 3190, 'awe': 3191, 'repeatedli': 3192, '2004': 3193, 'torment': 3194, 'broad': 3195, 'unwatch': 3196, 'verhoeven': 3197, 'bin': 3198, 'automat': 3199, 'uniform': 3200, 'lean': 3201, 'ah': 3202, 'kay': 3203, 'royal': 3204, 'custom': 3205, 'griffith': 3206, 'romero': 3207, 'eas': 3208, 'politician': 3209, 'absenc': 3210, 'rivet': 3211, 'acclaim': 3212, 'ambit': 3213, 'timothi': 3214, 'roman': 3215, 'publish': 3216, 'launch': 3217, 'stiller': 3218, 'purpl': 3219, 'warren': 3220, 'tomato': 3221, 'crook': 3222, 'pulp': 3223, 'stinker': 3224, 'pierc': 3225, 'foul': 3226, 'termin': 3227, 'wallac': 3228, 'antic': 3229, 'homicid': 3230, 'phrase': 3231, 'gabriel': 3232, 'transport': 3233, 'bathroom': 3234, 'darker': 3235, 'sunshin': 3236, 'awak': 3237, 'horrid': 3238, 'viciou': 3239, 'kenneth': 3240, 'packag': 3241, 'karen': 3242, 'evolv': 3243, 'choreographi': 3244, 'donna': 3245, 'ought': 3246, 'rambo': 3247, 'q': 3248, 'sixti': 3249, 'coloni': 3250, 'saint': 3251, 'hollow': 3252, 'juvenil': 3253, 'contrari': 3254, 'brazil': 3255, 'prom': 3256, 'revolutionari': 3257, 'li': 3258, 'album': 3259, '2003': 3260, 'pray': 3261, 'marin': 3262, 'eyr': 3263, 'beatti': 3264, 'dose': 3265, 'blade': 3266, 'conserv': 3267, 'twelv': 3268, 'boast': 3269, 'kapoor': 3270, 'nerd': 3271, 'candid': 3272, 'option': 3273, 'ramon': 3274, 'overr': 3275, 'mummi': 3276, 'defi': 3277, 'stole': 3278, 'ireland': 3279, 'mildr': 3280, 'astonish': 3281, 'flame': 3282, 'kirk': 3283, 'funer': 3284, 'natali': 3285, 'protest': 3286, 'altman': 3287, 'collabor': 3288, 'confirm': 3289, 'global': 3290, 'trio': 3291, 'jazz': 3292, 'detract': 3293, 'fulci': 3294, 'enterpris': 3295, 'leap': 3296, 'shade': 3297, 'destini': 3298, 'racial': 3299, 'yellow': 3300, 'tommi': 3301, 'blake': 3302, 'nicholson': 3303, 'spit': 3304, 'bull': 3305, 'bottl': 3306, 'delici': 3307, 'mystic': 3308, 'audio': 3309, 'whip': 3310, 'pseudo': 3311, 'visibl': 3312, 'enchant': 3313, 'merci': 3314, 'inherit': 3315, 'fonda': 3316, 'swedish': 3317, 'meaningless': 3318, 'reunit': 3319, 'altogeth': 3320, 'harder': 3321, 'bedroom': 3322, 'popcorn': 3323, 'neo': 3324, 'todd': 3325, 'adolesc': 3326, 'staff': 3327, 'threw': 3328, 'vivid': 3329, 'madonna': 3330, 'lawrenc': 3331, 'uneven': 3332, 'roommat': 3333, 'synopsi': 3334, 'wire': 3335, 'befriend': 3336, 'atlanti': 3337, 'respond': 3338, 'voight': 3339, 'decor': 3340, 'suspici': 3341, 'fanat': 3342, 'ruthless': 3343, 'reserv': 3344, 'kennedi': 3345, 'await': 3346, 'leonard': 3347, 'bust': 3348, 'edi': 3349, 'lemmon': 3350, 'exhibit': 3351, 'moodi': 3352, 'tip': 3353, 'crocodil': 3354, 'jew': 3355, 'rural': 3356, 'bargain': 3357, 'bradi': 3358, 'unsettl': 3359, '2007': 3360, 'voyag': 3361, 'chao': 3362, 'ventur': 3363, 'holli': 3364, 'abysm': 3365, 'centr': 3366, 'incident': 3367, 'carl': 3368, 'bold': 3369, 'dimens': 3370, 'garner': 3371, 'clint': 3372, 'audit': 3373, 'clumsi': 3374, 'palma': 3375, 'trail': 3376, 'cuba': 3377, 'daddi': 3378, 'cd': 3379, 'echo': 3380, 'immigr': 3381, 'lit': 3382, 'cari': 3383, 'versu': 3384, 'wealth': 3385, 'hart': 3386, 'elimin': 3387, 'nearbi': 3388, 'humili': 3389, 'poetic': 3390, 'neglect': 3391, 'troop': 3392, '2nd': 3393, 'acknowledg': 3394, 'characterist': 3395, 'imperson': 3396, 'tiger': 3397, 'mall': 3398, 'timon': 3399, 'ant': 3400, 'jeffrey': 3401, 'prejudic': 3402, 'infect': 3403, 'repuls': 3404, 'homer': 3405, 'domest': 3406, 'celluloid': 3407, 'mickey': 3408, 'solo': 3409, 'pun': 3410, 'paus': 3411, 'collaps': 3412, 'marshal': 3413, 'saga': 3414, 'mistaken': 3415, 'interrupt': 3416, 'equip': 3417, 'hbo': 3418, 'cake': 3419, 'apolog': 3420, 'sore': 3421, '1996': 3422, 'assembl': 3423, 'inappropri': 3424, 'tribe': 3425, 'harvey': 3426, 'coat': 3427, 'olivi': 3428, 'leon': 3429, 'pant': 3430, 'gear': 3431, 'milk': 3432, 'inan': 3433, 'undoubtedli': 3434, 'promin': 3435, 'coffe': 3436, 'ginger': 3437, 'chest': 3438, 'humbl': 3439, 'furthermor': 3440, 'retain': 3441, 'pot': 3442, 'maggi': 3443, 'embrac': 3444, 'jenni': 3445, 'solut': 3446, 'colonel': 3447, 'devast': 3448, 'florida': 3449, 'airplan': 3450, 'highest': 3451, 'pen': 3452, 'exot': 3453, 'consum': 3454, 'trace': 3455, 'brooklyn': 3456, 'vulgar': 3457, 'institut': 3458, 'colleagu': 3459, 'primari': 3460, 'instant': 3461, 'aveng': 3462, 'polanski': 3463, '3rd': 3464, 'gender': 3465, 'smaller': 3466, 'poke': 3467, 'strain': 3468, 'descend': 3469, 'dian': 3470, 'seduct': 3471, 'rick': 3472, 'godzilla': 3473, 'outer': 3474, '1999': 3475, 'ya': 3476, 'wive': 3477, 'bowl': 3478, 'disabl': 3479, 'illog': 3480, 'principl': 3481, 'cope': 3482, 'linda': 3483, 'dutch': 3484, 'sale': 3485, 'gloriou': 3486, 'vast': 3487, 'lol': 3488, 'predecessor': 3489, 'blatant': 3490, 'primarili': 3491, 'rabbit': 3492, 'inferior': 3493, 'scope': 3494, 'glamor': 3495, 'bubbl': 3496, 'secondli': 3497, 'dive': 3498, 'mixtur': 3499, 'cue': 3500, 'hal': 3501, 'dud': 3502, 'yard': 3503, 'beneath': 3504, 'devoid': 3505, 'gundam': 3506, 'et': 3507, 'arab': 3508, 'april': 3509, 'senseless': 3510, 'simplist': 3511, 'alert': 3512, 'shelf': 3513, 'disjoint': 3514, 'invas': 3515, 'pearl': 3516, 'alfr': 3517, 'breed': 3518, 'domino': 3519, 'hideou': 3520, 'trademark': 3521, 'garbo': 3522, 'grinch': 3523, 'z': 3524, 'casual': 3525, 'talki': 3526, 'aggress': 3527, 'museum': 3528, 'countrysid': 3529, 'streep': 3530, 'myer': 3531, 'shirley': 3532, 'oz': 3533, 'defens': 3534, 'stellar': 3535, 'robberi': 3536, 'obtain': 3537, 'applaud': 3538, 'maci': 3539, 'sh': 3540, 'disgrac': 3541, 'acid': 3542, 'mail': 3543, 'hardcor': 3544, 'hopeless': 3545, 'khan': 3546, 'loyal': 3547, 'unhappi': 3548, 'vanish': 3549, 'illeg': 3550, 'rendit': 3551, 'stir': 3552, 'boom': 3553, 'robinson': 3554, 'experiment': 3555, 'mayor': 3556, 'slide': 3557, 'stack': 3558, 'uwe': 3559, 'blew': 3560, 'hartley': 3561, 'berlin': 3562, 'grandfath': 3563, 'amanda': 3564, 'span': 3565, 'scroog': 3566, 'declin': 3567, 'emphasi': 3568, 'spider': 3569, 'recruit': 3570, 'topless': 3571, 'dismiss': 3572, 'psychic': 3573, 'incomprehens': 3574, 'diana': 3575, 'tempt': 3576, 'craze': 3577, 'rifl': 3578, 'dicken': 3579, 'fri': 3580, 'wont': 3581, 'tenant': 3582, 'counter': 3583, 'soccer': 3584, 'justin': 3585, 'faster': 3586, 'wet': 3587, 'bitch': 3588, 'shed': 3589, 'ration': 3590, 'woo': 3591, 'riot': 3592, 'intim': 3593, 'ethnic': 3594, 'resurrect': 3595, 'sympath': 3596, 'goer': 3597, 'parad': 3598, 'sibl': 3599, 'shaw': 3600, 'niro': 3601, 'porno': 3602, 'trashi': 3603, 'revolt': 3604, 'lumet': 3605, 'steam': 3606, 'jonathan': 3607, 'region': 3608, 'rider': 3609, 'biographi': 3610, 'slick': 3611, '00': 3612, 'mario': 3613, 'dealer': 3614, 'andr': 3615, 'unreal': 3616, 'honesti': 3617, 'ballet': 3618, 'gap': 3619, 'weakest': 3620, 'immort': 3621, 'eager': 3622, 'hesit': 3623, 'wheel': 3624, 'lena': 3625, 'choru': 3626, 'feminist': 3627, 'partial': 3628, 'wendi': 3629, 'commend': 3630, 'farmer': 3631, 'ensur': 3632, 'patriot': 3633, 'worm': 3634, 'enlighten': 3635, 'nephew': 3636, 'hopper': 3637, 'composit': 3638, 'snap': 3639, 'owen': 3640, 'blunt': 3641, 'hung': 3642, 'leo': 3643, 'kingdom': 3644, 'victori': 3645, 'repress': 3646, 'vice': 3647, 'confin': 3648, 'psychopath': 3649, 'morri': 3650, 'similarli': 3651, 'franco': 3652, 'skull': 3653, 'safeti': 3654, 'nostalg': 3655, 'sandra': 3656, 'util': 3657, 'sappi': 3658, 'charlott': 3659, 'prequel': 3660, 'wore': 3661, 'mutant': 3662, 'properti': 3663, 'macarthur': 3664, 'acquir': 3665, 'despair': 3666, 'strand': 3667, 'repli': 3668, 'tail': 3669, 'speci': 3670, 'dust': 3671, 'compass': 3672, 'snl': 3673, 'whoopi': 3674, 'valuabl': 3675, 'thru': 3676, 'miseri': 3677, 'bow': 3678, 'latin': 3679, 'campbel': 3680, 'deed': 3681, 'emperor': 3682, 'bergman': 3683, 'del': 3684, '1972': 3685, 'exit': 3686, 'drum': 3687, 'pattern': 3688, 'farrel': 3689, 'rocki': 3690, 'drain': 3691, 'recycl': 3692, 'kyle': 3693, 'tad': 3694, 'compens': 3695, 'rope': 3696, 'bonu': 3697, 'cg': 3698, 'dalton': 3699, 'nervou': 3700, 'rambl': 3701, 'heartbreak': 3702, 'montana': 3703, 'bumbl': 3704, 'hyde': 3705, 'rotten': 3706, 'percept': 3707, 'pour': 3708, 'airport': 3709, 'gal': 3710, 'wacki': 3711, 'tonight': 3712, 'bleed': 3713, 'romp': 3714, 'rapist': 3715, 'martian': 3716, 'downhil': 3717, 'radic': 3718, 'slug': 3719, 'mistress': 3720, 'chess': 3721, 'oppress': 3722, 'gimmick': 3723, 'da': 3724, 'contempl': 3725, '35': 3726, 'olli': 3727, 'roth': 3728, 'orson': 3729, 'carradin': 3730, 'tackl': 3731, 'champion': 3732, 'mislead': 3733, 'attorney': 3734, 'preach': 3735, 'tooth': 3736, 'melodi': 3737, 'pervert': 3738, 'edgar': 3739, 'heal': 3740, 'banal': 3741, 'dazzl': 3742, 'pursuit': 3743, 'arc': 3744, '1983': 3745, 'unpredict': 3746, 'shelley': 3747, 'paltrow': 3748, 'slash': 3749, 'belt': 3750, 'programm': 3751, 'pervers': 3752, 'stilt': 3753, 'arguabl': 3754, 'taught': 3755, 'orang': 3756, 'rubi': 3757, 'gambl': 3758, 'sensat': 3759, 'conneri': 3760, 'cleverli': 3761, 'passeng': 3762, 'raymond': 3763, 'vocal': 3764, 'uplift': 3765, 'chicken': 3766, 'tiresom': 3767, 'duval': 3768, 'virginia': 3769, 'franki': 3770, 'bela': 3771, 'poem': 3772, 'graham': 3773, 'maid': 3774, 'closest': 3775, 'plight': 3776, 'vengeanc': 3777, 'dixon': 3778, 'mesmer': 3779, 'employe': 3780, 'marti': 3781, 'numb': 3782, 'engross': 3783, 'suffic': 3784, 'quarter': 3785, 'secretli': 3786, 'clone': 3787, '1968': 3788, 'outing': 3789, 'crystal': 3790, 'mute': 3791, 'swallow': 3792, 'volum': 3793, 'climact': 3794, 'calm': 3795, 'pokemon': 3796, 'giggl': 3797, 'monologu': 3798, 'iran': 3799, 'whine': 3800, 'habit': 3801, 'paranoia': 3802, 'inject': 3803, 'convincingli': 3804, 'bay': 3805, 'gerard': 3806, 'profan': 3807, 'extens': 3808, 'abraham': 3809, 'yawn': 3810, 'scottish': 3811, 'tube': 3812, 'lundgren': 3813, 'sirk': 3814, 'amitabh': 3815, 'underst': 3816, 'nichola': 3817, 'dispos': 3818, 'spock': 3819, 'lowest': 3820, 'fed': 3821, 'expand': 3822, 'trend': 3823, 'bend': 3824, 'junior': 3825, 'ethan': 3826, 'im': 3827, 'frankenstein': 3828, 'profess': 3829, 'surpass': 3830, 'abort': 3831, 'plod': 3832, 'earl': 3833, 'septemb': 3834, 'meander': 3835, 'franci': 3836, 'austen': 3837, 'poetri': 3838, 'grotesqu': 3839, 'chicago': 3840, 'linger': 3841, 'backward': 3842, 'taxi': 3843, 'richardson': 3844, 'compliment': 3845, 'sue': 3846, 'econom': 3847, 'myth': 3848, 'simplic': 3849, 'muddl': 3850, 'nostalgia': 3851, 'instrument': 3852, 'mundan': 3853, 'literatur': 3854, 'hum': 3855, 'lure': 3856, 'spoke': 3857, 'household': 3858, 'stallon': 3859, 'greedi': 3860, 'waitress': 3861, 'der': 3862, 'rant': 3863, 'eugen': 3864, 'cannon': 3865, 'catchi': 3866, 'tourist': 3867, 'rubber': 3868, 'dysfunct': 3869, 'descent': 3870, 'june': 3871, 'mankind': 3872, 'occupi': 3873, 'phoni': 3874, 'cent': 3875, 'insur': 3876, 'recognis': 3877, 'dictat': 3878, 'coast': 3879, 'omen': 3880, 'dement': 3881, 'irrelev': 3882, 'firstli': 3883, 'lang': 3884, 'furi': 3885, 'mortal': 3886, 'alongsid': 3887, 'deaf': 3888, 'equival': 3889, 'map': 3890, 'bacal': 3891, 'crucial': 3892, 'hello': 3893, 'louis': 3894, 'eaten': 3895, 'recognit': 3896, 'sissi': 3897, 'molli': 3898, 'stale': 3899, 'randi': 3900, 'carel': 3901, 'flee': 3902, 'phantom': 3903, 'duck': 3904, 'damon': 3905, 'twilight': 3906, 'newli': 3907, 'heel': 3908, 'likewis': 3909, 'bump': 3910, 'rude': 3911, 'daisi': 3912, 'ashley': 3913, 'drake': 3914, 'antwon': 3915, '1973': 3916, 'damm': 3917, 'dreari': 3918, 'wisdom': 3919, 'rooney': 3920, 'reign': 3921, 'labor': 3922, 'blackmail': 3923, 'buffalo': 3924, 'cyborg': 3925, 'grayson': 3926, 'distinguish': 3927, 'onlin': 3928, 'lengthi': 3929, 'bike': 3930, 'freez': 3931, 'biko': 3932, 'loyalti': 3933, 'proce': 3934, 'unorigin': 3935, 'pink': 3936, 'vein': 3937, 'keith': 3938, 'attribut': 3939, 'exposur': 3940, 'emphas': 3941, 'prey': 3942, 'boxer': 3943, 'ridden': 3944, 'provoc': 3945, 'nineti': 3946, 'baddi': 3947, 'inher': 3948, 'basketbal': 3949, 'analysi': 3950, 'interior': 3951, 'worn': 3952, 'incorpor': 3953, 'chronicl': 3954, 'butler': 3955, 'sailor': 3956, 'barrymor': 3957, 'approv': 3958, 'startl': 3959, 'tunnel': 3960, 'julian': 3961, 'meyer': 3962, 'millionair': 3963, 'undeni': 3964, 'elm': 3965, 'walsh': 3966, 'fleet': 3967, 'condemn': 3968, 'unrel': 3969, 'hypnot': 3970, 'er': 3971, 'nicol': 3972, 'improvis': 3973, 'simmon': 3974, 'mormon': 3975, 'mighti': 3976, 'predat': 3977, 'substitut': 3978, 'underli': 3979, 'stalker': 3980, 'carla': 3981, 'indiffer': 3982, 'degrad': 3983, 'drift': 3984, 'belushi': 3985, 'robbin': 3986, 'bunni': 3987, 'meg': 3988, 'barrel': 3989, 'othello': 3990, 'priceless': 3991, '3d': 3992, 'enthusiasm': 3993, 'lampoon': 3994, 'exquisit': 3995, 'marion': 3996, 'roof': 3997, 'shove': 3998, 'errol': 3999, 'nyc': 4000, 'unawar': 4001, 'alarm': 4002, 'novak': 4003, 'agenda': 4004, 'watson': 4005, 'firm': 4006, 'warmth': 4007, 'palac': 4008, 'edgi': 4009, 'hay': 4010, 'disord': 4011, 'reid': 4012, 'mtv': 4013, 'vital': 4014, 'alison': 4015, 'greed': 4016, 'rukh': 4017, 'dolph': 4018, 'what': 4019, 'session': 4020, 'preserv': 4021, 'minimum': 4022, 'campaign': 4023, 'pamela': 4024, 'ponder': 4025, 'distort': 4026, 'petti': 4027, 'cassidi': 4028, 'angela': 4029, 'thompson': 4030, 'spain': 4031, 'unleash': 4032, 'randomli': 4033, 'coup': 4034, 'valentin': 4035, '13th': 4036, 'zizek': 4037, 'testament': 4038, 'profit': 4039, 'peck': 4040, 'eastern': 4041, 'beatl': 4042, 'crown': 4043, 'simultan': 4044, 'showdown': 4045, 'orlean': 4046, 'gestur': 4047, 'peril': 4048, '1933': 4049, 'israel': 4050, 'iraq': 4051, 'sergeant': 4052, 'drip': 4053, 'nun': 4054, 'glanc': 4055, 'championship': 4056, 'shootout': 4057, 'regist': 4058, '1984': 4059, 'represent': 4060, 'rout': 4061, 'bro': 4062, 'travesti': 4063, 'unimagin': 4064, 'kurosawa': 4065, 'valley': 4066, 'jan': 4067, 'gentleman': 4068, 'wig': 4069, 'reson': 4070, 'buster': 4071, 'crawl': 4072, 'brenda': 4073, 'han': 4074, 'climat': 4075, 'stake': 4076, 'cream': 4077, 'restrain': 4078, 'contradict': 4079, 'cooki': 4080, 'perpetu': 4081, 'quinn': 4082, 'realm': 4083, 'din': 4084, 'mon': 4085, 'sabrina': 4086, 'calib': 4087, 'stroke': 4088, 'empathi': 4089, 'scotland': 4090, 'fido': 4091, 'crow': 4092, 'exposit': 4093, 'miyazaki': 4094, '1987': 4095, 'distress': 4096, 'spacey': 4097, 'ustinov': 4098, 'pole': 4099, 'sucker': 4100, 'greg': 4101, 'femm': 4102, 'josh': 4103, 'passabl': 4104, 'abomin': 4105, 'soderbergh': 4106, 'tacki': 4107, 'sammi': 4108, 'stargat': 4109, 'demis': 4110, 'unsatisfi': 4111, 'fuller': 4112, '1997': 4113, 'cloud': 4114, 'warrant': 4115, 'pretens': 4116, 'businessman': 4117, 'geek': 4118, 'delic': 4119, 'mclaglen': 4120, 'ross': 4121, 'absent': 4122, 'painter': 4123, 'compromis': 4124, 'traumat': 4125, 'derang': 4126, 'shaki': 4127, 'unseen': 4128, 'darren': 4129, 'perceiv': 4130, 'monoton': 4131, 'shoddi': 4132, 'meryl': 4133, 'wax': 4134, 'baldwin': 4135, 'dana': 4136, 'censor': 4137, 'crawford': 4138, 'jewel': 4139, 'deniro': 4140, 'unravel': 4141, 'polici': 4142, 'verbal': 4143, 'clash': 4144, 'click': 4145, 'reluct': 4146, 'sid': 4147, 'uncov': 4148, 'antonioni': 4149, 'tarantino': 4150, 'deceas': 4151, 'seal': 4152, 'judgment': 4153, 'wholli': 4154, 'kumar': 4155, 'primit': 4156, 'tech': 4157, 'fog': 4158, 'valid': 4159, 'accuraci': 4160, 'furiou': 4161, 'anchor': 4162, 'dee': 4163, 'exclus': 4164, 'correctli': 4165, 'norm': 4166, 'austin': 4167, '1993': 4168, 'fenc': 4169, 'expedit': 4170, 'nathan': 4171, 'sand': 4172, 'enforc': 4173, 'bake': 4174, 'nicola': 4175, 'unfair': 4176, 'crippl': 4177, 'sunni': 4178, 'wretch': 4179, 'darn': 4180, 'ritual': 4181, 'fought': 4182, '1995': 4183, '1971': 4184, 'clerk': 4185, 'seldom': 4186, 'fabric': 4187, 'vanc': 4188, '2008': 4189, 'patienc': 4190, '3000': 4191, 'temper': 4192, 'sustain': 4193, 'slam': 4194, 'fart': 4195, 'behold': 4196, 'debt': 4197, 'hallucin': 4198, 'joel': 4199, 'mode': 4200, 'murray': 4201, 'trait': 4202, 'roller': 4203, 'shanghai': 4204, 'logan': 4205, 'wang': 4206, 'sheet': 4207, 'alec': 4208, 'tax': 4209, 'pocket': 4210, 'malon': 4211, 'conduct': 4212, 'dreck': 4213, 'robber': 4214, 'sweep': 4215, 'phil': 4216, 'shell': 4217, 'preposter': 4218, 'despis': 4219, 'fundament': 4220, 'bias': 4221, 'tactic': 4222, 'canyon': 4223, 'pete': 4224, 'divid': 4225, 'grief': 4226, 'outlin': 4227, 'runner': 4228, 'stuart': 4229, 'squad': 4230, 'schedul': 4231, 'scriptwrit': 4232, 'conscious': 4233, 'clau': 4234, 'stark': 4235, 'helpless': 4236, 'penni': 4237, 'soup': 4238, 'guitar': 4239, 'critiqu': 4240, 'isabel': 4241, 'exhaust': 4242, 'technicolor': 4243, 'preston': 4244, 'rita': 4245, 'legaci': 4246, 'bridget': 4247, 'delv': 4248, 'kansa': 4249, 'unexpectedli': 4250, 'consciou': 4251, 'vomit': 4252, 'liberti': 4253, 'flair': 4254, 'agenc': 4255, 'restrict': 4256, 'sugar': 4257, 'connor': 4258, 'lacklust': 4259, 'culmin': 4260, 'bloom': 4261, 'rear': 4262, 'sniper': 4263, 'passag': 4264, 'russia': 4265, 'implic': 4266, 'cigarett': 4267, 'marc': 4268, 'downey': 4269, 'gregori': 4270, 'rehash': 4271, 'palanc': 4272, 'boyl': 4273, 'drove': 4274, 'alley': 4275, 'propos': 4276, 'invad': 4277, 'jacket': 4278, 'inabl': 4279, 'jodi': 4280, 'newman': 4281, 'alicia': 4282, 'sentinel': 4283, 'mccoy': 4284, 'karl': 4285, 'cap': 4286, '1936': 4287, 'asylum': 4288, 'feat': 4289, '22': 4290, 'yeti': 4291, 'improb': 4292, 'rampag': 4293, 'rod': 4294, 'vet': 4295, 'chainsaw': 4296, 'behaviour': 4297, 'lush': 4298, 'tendenc': 4299, 'tripe': 4300, 'aesthet': 4301, 'delet': 4302, 'wrench': 4303, 'sharon': 4304, 'rehears': 4305, 'ladder': 4306, 'bacon': 4307, 'pale': 4308, 'awhil': 4309, 'kolchak': 4310, 'foxx': 4311, 'horn': 4312, 'arrow': 4313, 'sung': 4314, 'minu': 4315, 'rhythm': 4316, 'newcom': 4317, 'thunderbird': 4318, 'weav': 4319, 'financ': 4320, 'conscienc': 4321, 'visitor': 4322, 'elit': 4323, '1978': 4324, 'lurk': 4325, 'globe': 4326, 'scoop': 4327, 'tomorrow': 4328, 'hackney': 4329, 'hungri': 4330, 'el': 4331, 'wildli': 4332, 'spice': 4333, 'stream': 4334, 'loneli': 4335, '1988': 4336, 'paradis': 4337, 'amazon': 4338, 'paramount': 4339, 'wagner': 4340, 'suffici': 4341, 'shortcom': 4342, '19th': 4343, 'hulk': 4344, 'fright': 4345, 'tasteless': 4346, 'suspicion': 4347, 'basing': 4348, 'rumor': 4349, 'prank': 4350, 'coaster': 4351, 'underneath': 4352, '1920': 4353, 'aristocrat': 4354, 'filler': 4355, 'immers': 4356, 'entranc': 4357, 'en': 4358, 'worship': 4359, 'rub': 4360, 'literari': 4361, 'counterpart': 4362, '1989': 4363, 'couch': 4364, 'ram': 4365, 'springer': 4366, 'ingeni': 4367, 'curli': 4368, '1939': 4369, 'straightforward': 4370, 'naughti': 4371, 'recogniz': 4372, 'penn': 4373, 'dirt': 4374, 'grudg': 4375, 'minist': 4376, 'cancer': 4377, 'teas': 4378, 'smell': 4379, 'heist': 4380, 'lectur': 4381, 'leigh': 4382, 'secondari': 4383, 'bread': 4384, '75': 4385, 'impos': 4386, 'inmat': 4387, 'choppi': 4388, 'beverli': 4389, 'paxton': 4390, 'chamberlain': 4391, 'quietli': 4392, 'brit': 4393, 'abrupt': 4394, 'posey': 4395, 'atroc': 4396, 'chavez': 4397, 'tierney': 4398, 'standout': 4399, 'hopkin': 4400, 'iv': 4401, 'wwe': 4402, 'heartfelt': 4403, 'esther': 4404, 'missil': 4405, 'moreov': 4406, 'yearn': 4407, 'ace': 4408, 'convert': 4409, 'geni': 4410, 'skeptic': 4411, 'morbid': 4412, 'sassi': 4413, 'enthral': 4414, 'injuri': 4415, 'net': 4416, 'ratso': 4417, 'bernard': 4418, 'clan': 4419, 'laurenc': 4420, 'lindsay': 4421, 'transcend': 4422, 'entitl': 4423, 'attenborough': 4424, 'watcher': 4425, 'quaid': 4426, '1986': 4427, 'duel': 4428, 'nolan': 4429, 'nemesi': 4430, 'cattl': 4431, 'policeman': 4432, 'variat': 4433, 'sublim': 4434, 'misguid': 4435, 'setup': 4436, 'graini': 4437, '1979': 4438, 'grin': 4439, 'obstacl': 4440, 'youngest': 4441, 'out': 4442, 'puppi': 4443, 'kitti': 4444, 'unexplain': 4445, 'moder': 4446, 'brood': 4447, 'dont': 4448, 'cruelti': 4449, 'hopelessli': 4450, 'kidman': 4451, 'reliabl': 4452, 'poe': 4453, 'diari': 4454, 'vader': 4455, 'mytholog': 4456, 'buzz': 4457, 'rosemari': 4458, 'egg': 4459, 'tyler': 4460, 'spiral': 4461, 'bean': 4462, 'hk': 4463, 'bye': 4464, 'uncut': 4465, 'artsi': 4466, 'characteris': 4467, 'steadi': 4468, 'enabl': 4469, 'facil': 4470, 'carlito': 4471, 'preming': 4472, 'fuel': 4473, 'decept': 4474, 'niec': 4475, 'hain': 4476, 'patricia': 4477, 'disastr': 4478, 'hammi': 4479, 'athlet': 4480, 'bounc': 4481, 'effici': 4482, 'gina': 4483, 'brendan': 4484, 'spontan': 4485, 'narrow': 4486, 'martha': 4487, 'exterior': 4488, 'despic': 4489, 'clueless': 4490, 'underworld': 4491, 'oblig': 4492, 'heap': 4493, 'bewar': 4494, '1969': 4495, 'christin': 4496, 'sweat': 4497, 'acquaint': 4498, 'bronson': 4499, 'gillian': 4500, 'baffl': 4501, 'weather': 4502, 'kline': 4503, 'analyz': 4504, 'insipid': 4505, 'astound': 4506, 'headach': 4507, 'lester': 4508, 'rome': 4509, 'trigger': 4510, 'housewif': 4511, 'virtu': 4512, 'circu': 4513, 'angst': 4514, 'loath': 4515, 'sleepwalk': 4516, 'renaiss': 4517, 'preachi': 4518, 'harmless': 4519, 'taboo': 4520, 'suprem': 4521, 'candl': 4522, 'goof': 4523, 'fontain': 4524, 'viewpoint': 4525, 'loi': 4526, 'mayhem': 4527, 'injur': 4528, 'sooner': 4529, 'dilemma': 4530, 'mermaid': 4531, 'uh': 4532, '19': 4533, 'enlist': 4534, '73': 4535, 'outlaw': 4536, 'tick': 4537, 'shatter': 4538, 'hepburn': 4539, 'scar': 4540, 'biker': 4541, 'dandi': 4542, 'whore': 4543, 'gere': 4544, 'bent': 4545, 'oldest': 4546, 'hokey': 4547, 'boston': 4548, 'dismal': 4549, 'filth': 4550, 'phenomenon': 4551, 'scorses': 4552, 'corbett': 4553, 'glorifi': 4554, 'salt': 4555, 'immatur': 4556, 'stimul': 4557, 'spade': 4558, 'redund': 4559, 'surgeri': 4560, 'ebert': 4561, 'intric': 4562, 'claustrophob': 4563, 'slimi': 4564, 'foolish': 4565, 'idol': 4566, 'hostag': 4567, 'zoom': 4568, 'steer': 4569, 'camcord': 4570, 'hooker': 4571, 'stair': 4572, 'cassavet': 4573, 'fluff': 4574, 'overlong': 4575, 'guin': 4576, 'amor': 4577, 'tripl': 4578, 'dish': 4579, 'contempt': 4580, 'macho': 4581, 'ariel': 4582, 'sox': 4583, 'conquer': 4584, 'preced': 4585, 'antagonist': 4586, 'messi': 4587, 'faint': 4588, 'flashi': 4589, 'beard': 4590, '1976': 4591, 'muscl': 4592, 'spinal': 4593, 'schlock': 4594, 'proport': 4595, 'remad': 4596, 'perman': 4597, '1981': 4598, 'keen': 4599, 'mount': 4600, 'corman': 4601, 'trivia': 4602, 'nolt': 4603, 'transplant': 4604, 'mutual': 4605, 'fascist': 4606, 'dwarf': 4607, 'harold': 4608, 'flirt': 4609, 'frantic': 4610, 'gasp': 4611, 'shield': 4612, 'cohen': 4613, 'spree': 4614, 'cow': 4615, 'joker': 4616, 'assert': 4617, 'margin': 4618, 'strongest': 4619, 'shred': 4620, 'cush': 4621, 'alvin': 4622, 'naschi': 4623, 'down': 4624, 'obligatori': 4625, 'widescreen': 4626, 'rhyme': 4627, 'astronaut': 4628, 'zane': 4629, 'gabl': 4630, 'radiat': 4631, 'flag': 4632, 'interestingli': 4633, 'carey': 4634, 'barn': 4635, 'vaniti': 4636, 'sensual': 4637, 'instruct': 4638, 'persuad': 4639, 'claud': 4640, 'www': 4641, 'bachelor': 4642, '28': 4643, 'danish': 4644, 'deer': 4645, 'someday': 4646, 'repris': 4647, 'archiv': 4648, 'mol': 4649, 'departur': 4650, 'scandal': 4651, 'boob': 4652, '95': 4653, 'strive': 4654, 'resum': 4655, '1945': 4656, 'bitten': 4657, 'info': 4658, 'wield': 4659, 'triangl': 4660, 'ritchi': 4661, 'off': 4662, 'fishburn': 4663, 'raj': 4664, 'discern': 4665, 'flock': 4666, 'inflict': 4667, 'divin': 4668, 'mobil': 4669, 'hara': 4670, 'brush': 4671, 'neurot': 4672, 'aborigin': 4673, 'ish': 4674, 'hapless': 4675, 'clad': 4676, 'timberlak': 4677, 'traffic': 4678, 'bate': 4679, 'earnest': 4680, 'cher': 4681, 'loretta': 4682, 'frontier': 4683, 'pixar': 4684, 'proclaim': 4685, 'anton': 4686, 'pacif': 4687, 'artwork': 4688, 'submit': 4689, 'hug': 4690, 'rot': 4691, 'vibrant': 4692, 'undermin': 4693, 'cycl': 4694, 'hilar': 4695, 'prophet': 4696, 'pickford': 4697, 'jade': 4698, 'miracul': 4699, 'cb': 4700, 'parson': 4701, 'banter': 4702, 'heartwarm': 4703, 'dylan': 4704, 'harrison': 4705, 'europa': 4706, 'mobster': 4707, 'senior': 4708, 'fragil': 4709, 'cliffhang': 4710, 'colin': 4711, 'biblic': 4712, 'melissa': 4713, 'recit': 4714, 'kathryn': 4715, 'axe': 4716, 'dim': 4717, 'neill': 4718, 'wendigo': 4719, 'helm': 4720, 'carlo': 4721, 'dame': 4722, 'casino': 4723, 'luka': 4724, 'blatantli': 4725, 'isra': 4726, 'bondag': 4727, 'northern': 4728, 'mason': 4729, 'token': 4730, 'venom': 4731, 'eli': 4732, 'jordan': 4733, 'misfortun': 4734, 'articl': 4735, 'static': 4736, 'aris': 4737, 'electron': 4738, 'lui': 4739, 'feast': 4740, 'vile': 4741, 'razor': 4742, 'jo': 4743, 'choke': 4744, 'redneck': 4745, 'bikini': 4746, 'seedi': 4747, 'flavor': 4748, 'nope': 4749, 'rooki': 4750, 'antholog': 4751, 'illus': 4752, 'http': 4753, 'vanessa': 4754, 'toronto': 4755, 'akin': 4756, 'wardrob': 4757, 'foil': 4758, 'shepherd': 4759, 'marlon': 4760, 'sicken': 4761, 'legitim': 4762, 'cerebr': 4763, 'orphan': 4764, 'alexandr': 4765, 'pc': 4766, 'winchest': 4767, 'estrang': 4768, 'holocaust': 4769, 'uma': 4770, 'breakfast': 4771, 'lucil': 4772, 'mathieu': 4773, 'milo': 4774, 'trier': 4775, 'charlton': 4776, 'retriev': 4777, 'leather': 4778, 'gilbert': 4779, 'affleck': 4780, 'outdat': 4781, 'magician': 4782, 'knightley': 4783, 'howl': 4784, 'smack': 4785, 'psych': 4786, 'audrey': 4787, 'peer': 4788, 'frog': 4789, 'abund': 4790, 'tack': 4791, 'highway': 4792, 'ceremoni': 4793, 'fifth': 4794, 'boyer': 4795, 'cartoonish': 4796, 'disregard': 4797, 'linear': 4798, 'feminin': 4799, 'gunga': 4800, 'huston': 4801, 'wrestler': 4802, 'comprehend': 4803, 'clinic': 4804, 'dudley': 4805, 'turd': 4806, 'ideolog': 4807, 'styliz': 4808, 'oppon': 4809, 'shorter': 4810, 'glare': 4811, 'swept': 4812, 'deem': 4813, 'nightclub': 4814, 'toe': 4815, 'bogu': 4816, 'bastard': 4817, 'cuban': 4818, 'potter': 4819, 'corn': 4820, 'senat': 4821, 'braveheart': 4822, 'uniformli': 4823, 'salman': 4824, 'greet': 4825, 'energet': 4826, 'durat': 4827, 'summar': 4828, 'deliver': 4829, 'monument': 4830, 'lavish': 4831, 'boo': 4832, '1994': 4833, 'tara': 4834, 'mitch': 4835, 'whack': 4836, 'lifeless': 4837, 'collector': 4838, 'compris': 4839, 'newer': 4840, 'evolut': 4841, 'plate': 4842, 'moe': 4843, '1991': 4844, 'chip': 4845, 'goldsworthi': 4846, 'btw': 4847, 'spine': 4848, 'spawn': 4849, 'lighter': 4850, 'cemeteri': 4851, 'breakdown': 4852, '4th': 4853, 'snatch': 4854, 'conrad': 4855, 'sleaz': 4856, 'phenomen': 4857, 'client': 4858, 'einstein': 4859, 'creek': 4860, '1974': 4861, 'cecil': 4862, 'spectacl': 4863, 'occup': 4864, 'belli': 4865, 'liu': 4866, 'gilliam': 4867, 'alleg': 4868, 'bulk': 4869, 'kent': 4870, 'jule': 4871, 'clara': 4872, 'trauma': 4873, 'signal': 4874, 'luxuri': 4875, 'replay': 4876, 'jam': 4877, 'nina': 4878, 'capot': 4879, 'ol': 4880, 'healthi': 4881, 'armstrong': 4882, 'pronounc': 4883, 'judd': 4884, 'outright': 4885, 'jare': 4886, 'kazan': 4887, 'inaccuraci': 4888, 'fluid': 4889, 'wtf': 4890, 'historian': 4891, 'appl': 4892, 'randolph': 4893, 'sorrow': 4894, 'neatli': 4895, 'ie': 4896, 'constitut': 4897, 'embark': 4898, 'bori': 4899, 'undead': 4900, 'jedi': 4901, 'eleven': 4902, 'lex': 4903, 'mcqueen': 4904, 'firmli': 4905, '1977': 4906, 'undertak': 4907, 'evelyn': 4908, 'conan': 4909, 'mum': 4910, 'kiddi': 4911, 'meal': 4912, 'pioneer': 4913, 'pepper': 4914, 'vain': 4915, 'miniseri': 4916, 'propheci': 4917, 'genet': 4918, 'carmen': 4919, 'unsuspect': 4920, 'subtli': 4921, 'porter': 4922, 'congratul': 4923, 'galaxi': 4924, 'relentless': 4925, 'comb': 4926, 'abound': 4927, 'blur': 4928, 'spray': 4929, 'vignett': 4930, 'truman': 4931, 'sidewalk': 4932, 'sacrif': 4933, 'cape': 4934, 'id': 4935, 'roar': 4936, 'goldblum': 4937, 'inaccur': 4938, 'comprehens': 4939, 'lauren': 4940, 'forgiven': 4941, 'palm': 4942, 'decapit': 4943, 'ash': 4944, '1985': 4945, 'aussi': 4946, 'basket': 4947, 'fruit': 4948, 'groan': 4949, 'tokyo': 4950, 'unattract': 4951, 'antonio': 4952, 'knee': 4953, 'curtain': 4954, 'poker': 4955, 'inclus': 4956, 'bait': 4957, 'walt': 4958, 'rosario': 4959, 'paula': 4960, 'lanc': 4961, 'miami': 4962, 'bsg': 4963, 'epitom': 4964, 'victorian': 4965, 'weaker': 4966, 'asset': 4967, 'cypher': 4968, 'ghetto': 4969, 'playboy': 4970, 'motorcycl': 4971, 'rapidli': 4972, 'monti': 4973, 'reincarn': 4974, 'hostil': 4975, 'sparkl': 4976, '21st': 4977, 'detach': 4978, 'scariest': 4979, 'incorrect': 4980, 'profil': 4981, 'hackman': 4982, 'sophi': 4983, 'assort': 4984, 'optimist': 4985, 'drone': 4986, 'jill': 4987, 'growth': 4988, 'vastli': 4989, 'spill': 4990, 'ingrid': 4991, 'weari': 4992, 'substanti': 4993, 'frontal': 4994, 'orchestr': 4995, 'verg': 4996, 'mice': 4997, 'macabr': 4998, 'modest': 4999}\n"
     ]
    }
   ],
   "source": [
    "print(word_dict)"
   ]
  },
  {
   "cell_type": "markdown",
   "metadata": {},
   "source": [
    "**Question:** What are the five most frequently appearing (tokenized) words in the training set? Does it makes sense that these words appear frequently in the training set?"
   ]
  },
  {
   "cell_type": "markdown",
   "metadata": {},
   "source": [
    "**Answer:**\n",
    "they are 'movi', 'film', 'one', 'like', 'time'"
   ]
  },
  {
   "cell_type": "code",
   "execution_count": 14,
   "metadata": {},
   "outputs": [
    {
     "data": {
      "text/plain": [
       "['movi', 'film', 'one', 'like', 'time']"
      ]
     },
     "execution_count": 14,
     "metadata": {},
     "output_type": "execute_result"
    }
   ],
   "source": [
    "# TODO: Use this space to determine the five most frequently appearing words in the training set.\n",
    "list(word_dict.keys())[0:5]"
   ]
  },
  {
   "cell_type": "markdown",
   "metadata": {},
   "source": [
    "### Save `word_dict`\n",
    "\n",
    "Later on when we construct an endpoint which processes a submitted review we will need to make use of the `word_dict` which we have created. As such, we will save it to a file now for future use."
   ]
  },
  {
   "cell_type": "code",
   "execution_count": 15,
   "metadata": {},
   "outputs": [],
   "source": [
    "data_dir = '../data/pytorch' # The folder we will use for storing data\n",
    "if not os.path.exists(data_dir): # Make sure that the folder exists\n",
    "    os.makedirs(data_dir)"
   ]
  },
  {
   "cell_type": "code",
   "execution_count": 16,
   "metadata": {},
   "outputs": [],
   "source": [
    "with open(os.path.join(data_dir, 'word_dict.pkl'), \"wb\") as f:\n",
    "    pickle.dump(word_dict, f)"
   ]
  },
  {
   "cell_type": "markdown",
   "metadata": {},
   "source": [
    "### Transform the reviews\n",
    "\n",
    "Now that we have our word dictionary which allows us to transform the words appearing in the reviews into integers, it is time to make use of it and convert our reviews to their integer sequence representation, making sure to pad or truncate to a fixed length, which in our case is `500`."
   ]
  },
  {
   "cell_type": "code",
   "execution_count": 17,
   "metadata": {},
   "outputs": [],
   "source": [
    "def convert_and_pad(word_dict, sentence, pad=500):\n",
    "    NOWORD = 0 # We will use 0 to represent the 'no word' category\n",
    "    INFREQ = 1 # and we use 1 to represent the infrequent words, i.e., words not appearing in word_dict\n",
    "    \n",
    "    working_sentence = [NOWORD] * pad\n",
    "    \n",
    "    for word_index, word in enumerate(sentence[:pad]):\n",
    "        if word in word_dict:\n",
    "            working_sentence[word_index] = word_dict[word]\n",
    "        else:\n",
    "            working_sentence[word_index] = INFREQ\n",
    "            \n",
    "    return working_sentence, min(len(sentence), pad)\n",
    "\n",
    "def convert_and_pad_data(word_dict, data, pad=500):\n",
    "    result = []\n",
    "    lengths = []\n",
    "    \n",
    "    for sentence in data:\n",
    "        converted, leng = convert_and_pad(word_dict, sentence, pad)\n",
    "        result.append(converted)\n",
    "        lengths.append(leng)\n",
    "        \n",
    "    return np.array(result), np.array(lengths)"
   ]
  },
  {
   "cell_type": "code",
   "execution_count": 18,
   "metadata": {},
   "outputs": [],
   "source": [
    "train_X, train_X_len = convert_and_pad_data(word_dict, train_X)\n",
    "test_X, test_X_len = convert_and_pad_data(word_dict, test_X)"
   ]
  },
  {
   "cell_type": "markdown",
   "metadata": {},
   "source": [
    "As a quick check to make sure that things are working as intended, check to see what one of the reviews in the training set looks like after having been processeed. Does this look reasonable? What is the length of a review in the training set?"
   ]
  },
  {
   "cell_type": "code",
   "execution_count": 19,
   "metadata": {},
   "outputs": [
    {
     "data": {
      "text/plain": [
       "500"
      ]
     },
     "execution_count": 19,
     "metadata": {},
     "output_type": "execute_result"
    }
   ],
   "source": [
    "# Use this cell to examine one of the processed reviews to make sure everything is working as intendedlen.\n",
    "len(train_X[100])"
   ]
  },
  {
   "cell_type": "markdown",
   "metadata": {},
   "source": [
    "**Question:** In the cells above we use the `preprocess_data` and `convert_and_pad_data` methods to process both the training and testing set. Why or why not might this be a problem?"
   ]
  },
  {
   "cell_type": "markdown",
   "metadata": {},
   "source": [
    "**Answer:**\n",
    "preprocess helps us to eliminate punctions on review and to cache it. the convert_and_pad_data helps to make sure that we have a uniform size for each review as people type differnt word lengths."
   ]
  },
  {
   "cell_type": "markdown",
   "metadata": {},
   "source": [
    "## Step 3: Upload the data to S3\n",
    "\n",
    "As in the XGBoost notebook, we will need to upload the training dataset to S3 in order for our training code to access it. For now we will save it locally and we will upload to S3 later on.\n",
    "\n",
    "### Save the processed training dataset locally\n",
    "\n",
    "It is important to note the format of the data that we are saving as we will need to know it when we write the training code. In our case, each row of the dataset has the form `label`, `length`, `review[500]` where `review[500]` is a sequence of `500` integers representing the words in the review."
   ]
  },
  {
   "cell_type": "code",
   "execution_count": 20,
   "metadata": {},
   "outputs": [],
   "source": [
    "import pandas as pd\n",
    "    \n",
    "pd.concat([pd.DataFrame(train_y), pd.DataFrame(train_X_len), pd.DataFrame(train_X)], axis=1) \\\n",
    "        .to_csv(os.path.join(data_dir, 'train.csv'), header=False, index=False)"
   ]
  },
  {
   "cell_type": "markdown",
   "metadata": {},
   "source": [
    "### Uploading the training data\n",
    "\n",
    "\n",
    "Next, we need to upload the training data to the SageMaker default S3 bucket so that we can provide access to it while training our model."
   ]
  },
  {
   "cell_type": "code",
   "execution_count": 21,
   "metadata": {},
   "outputs": [],
   "source": [
    "import sagemaker\n",
    "\n",
    "sagemaker_session = sagemaker.Session()\n",
    "\n",
    "bucket = sagemaker_session.default_bucket()\n",
    "prefix = 'sagemaker/sentiment_rnn'\n",
    "\n",
    "role = sagemaker.get_execution_role()"
   ]
  },
  {
   "cell_type": "code",
   "execution_count": 22,
   "metadata": {},
   "outputs": [],
   "source": [
    "input_data = sagemaker_session.upload_data(path=data_dir, bucket=bucket, key_prefix=prefix)"
   ]
  },
  {
   "cell_type": "markdown",
   "metadata": {},
   "source": [
    "**NOTE:** The cell above uploads the entire contents of our data directory. This includes the `word_dict.pkl` file. This is fortunate as we will need this later on when we create an endpoint that accepts an arbitrary review. For now, we will just take note of the fact that it resides in the data directory (and so also in the S3 training bucket) and that we will need to make sure it gets saved in the model directory."
   ]
  },
  {
   "cell_type": "markdown",
   "metadata": {},
   "source": [
    "## Step 4: Build and Train the PyTorch Model\n",
    "\n",
    "In the XGBoost notebook we discussed what a model is in the SageMaker framework. In particular, a model comprises three objects\n",
    "\n",
    " - Model Artifacts,\n",
    " - Training Code, and\n",
    " - Inference Code,\n",
    " \n",
    "each of which interact with one another. In the XGBoost example we used training and inference code that was provided by Amazon. Here we will still be using containers provided by Amazon with the added benefit of being able to include our own custom code.\n",
    "\n",
    "We will start by implementing our own neural network in PyTorch along with a training script. For the purposes of this project we have provided the necessary model object in the `model.py` file, inside of the `train` folder. You can see the provided implementation by running the cell below."
   ]
  },
  {
   "cell_type": "code",
   "execution_count": 23,
   "metadata": {},
   "outputs": [
    {
     "name": "stdout",
     "output_type": "stream",
     "text": [
      "\u001b[34mimport\u001b[39;49;00m \u001b[04m\u001b[36mtorch\u001b[39;49;00m\u001b[04m\u001b[36m.\u001b[39;49;00m\u001b[04m\u001b[36mnn\u001b[39;49;00m \u001b[34mas\u001b[39;49;00m \u001b[04m\u001b[36mnn\u001b[39;49;00m\r\n",
      "\r\n",
      "\u001b[34mclass\u001b[39;49;00m \u001b[04m\u001b[32mLSTMClassifier\u001b[39;49;00m(nn.Module):\r\n",
      "    \u001b[33m\"\"\"\u001b[39;49;00m\r\n",
      "\u001b[33m    This is the simple RNN model we will be using to perform Sentiment Analysis.\u001b[39;49;00m\r\n",
      "\u001b[33m    \"\"\"\u001b[39;49;00m\r\n",
      "\r\n",
      "    \u001b[34mdef\u001b[39;49;00m \u001b[32m__init__\u001b[39;49;00m(\u001b[36mself\u001b[39;49;00m, embedding_dim, hidden_dim, vocab_size):\r\n",
      "        \u001b[33m\"\"\"\u001b[39;49;00m\r\n",
      "\u001b[33m        Initialize the model by settingg up the various layers.\u001b[39;49;00m\r\n",
      "\u001b[33m        \"\"\"\u001b[39;49;00m\r\n",
      "        \u001b[36msuper\u001b[39;49;00m(LSTMClassifier, \u001b[36mself\u001b[39;49;00m).\u001b[32m__init__\u001b[39;49;00m()\r\n",
      "\r\n",
      "        \u001b[36mself\u001b[39;49;00m.embedding = nn.Embedding(vocab_size, embedding_dim, padding_idx=\u001b[34m0\u001b[39;49;00m)\r\n",
      "        \u001b[36mself\u001b[39;49;00m.lstm = nn.LSTM(embedding_dim, hidden_dim)\r\n",
      "        \u001b[36mself\u001b[39;49;00m.dense = nn.Linear(in_features=hidden_dim, out_features=\u001b[34m1\u001b[39;49;00m)\r\n",
      "        \u001b[36mself\u001b[39;49;00m.sig = nn.Sigmoid()\r\n",
      "        \r\n",
      "        \u001b[36mself\u001b[39;49;00m.word_dict = \u001b[34mNone\u001b[39;49;00m\r\n",
      "\r\n",
      "    \u001b[34mdef\u001b[39;49;00m \u001b[32mforward\u001b[39;49;00m(\u001b[36mself\u001b[39;49;00m, x):\r\n",
      "        \u001b[33m\"\"\"\u001b[39;49;00m\r\n",
      "\u001b[33m        Perform a forward pass of our model on some input.\u001b[39;49;00m\r\n",
      "\u001b[33m        \"\"\"\u001b[39;49;00m\r\n",
      "        x = x.t()\r\n",
      "        lengths = x[\u001b[34m0\u001b[39;49;00m,:]\r\n",
      "        reviews = x[\u001b[34m1\u001b[39;49;00m:,:]\r\n",
      "        embeds = \u001b[36mself\u001b[39;49;00m.embedding(reviews)\r\n",
      "        lstm_out, _ = \u001b[36mself\u001b[39;49;00m.lstm(embeds)\r\n",
      "        out = \u001b[36mself\u001b[39;49;00m.dense(lstm_out)\r\n",
      "        out = out[lengths - \u001b[34m1\u001b[39;49;00m, \u001b[36mrange\u001b[39;49;00m(\u001b[36mlen\u001b[39;49;00m(lengths))]\r\n",
      "        \u001b[34mreturn\u001b[39;49;00m \u001b[36mself\u001b[39;49;00m.sig(out.squeeze())\r\n"
     ]
    }
   ],
   "source": [
    "!pygmentize train/model.py"
   ]
  },
  {
   "cell_type": "markdown",
   "metadata": {},
   "source": [
    "The important takeaway from the implementation provided is that there are three parameters that we may wish to tweak to improve the performance of our model. These are the embedding dimension, the hidden dimension and the size of the vocabulary. We will likely want to make these parameters configurable in the training script so that if we wish to modify them we do not need to modify the script itself. We will see how to do this later on. To start we will write some of the training code in the notebook so that we can more easily diagnose any issues that arise.\n",
    "\n",
    "First we will load a small portion of the training data set to use as a sample. It would be very time consuming to try and train the model completely in the notebook as we do not have access to a gpu and the compute instance that we are using is not particularly powerful. However, we can work on a small bit of the data to get a feel for how our training script is behaving."
   ]
  },
  {
   "cell_type": "code",
   "execution_count": 24,
   "metadata": {},
   "outputs": [],
   "source": [
    "import torch\n",
    "import torch.utils.data\n",
    "\n",
    "# Read in only the first 250 rows\n",
    "train_sample = pd.read_csv(os.path.join(data_dir, 'train.csv'), header=None, names=None, nrows=250)\n",
    "\n",
    "# Turn the input pandas dataframe into tensors\n",
    "train_sample_y = torch.from_numpy(train_sample[[0]].values).float().squeeze()\n",
    "train_sample_X = torch.from_numpy(train_sample.drop([0], axis=1).values).long()\n",
    "\n",
    "# Build the dataset\n",
    "train_sample_ds = torch.utils.data.TensorDataset(train_sample_X, train_sample_y)\n",
    "# Build the dataloader\n",
    "train_sample_dl = torch.utils.data.DataLoader(train_sample_ds, batch_size=50)"
   ]
  },
  {
   "cell_type": "markdown",
   "metadata": {},
   "source": [
    "### (TODO) Writing the training method\n",
    "\n",
    "Next we need to write the training code itself. This should be very similar to training methods that you have written before to train PyTorch models. We will leave any difficult aspects such as model saving / loading and parameter loading until a little later."
   ]
  },
  {
   "cell_type": "code",
   "execution_count": 25,
   "metadata": {},
   "outputs": [],
   "source": [
    "def train(model, train_loader, epochs, optimizer, loss_fn, device):\n",
    "    for epoch in range(1, epochs + 1):\n",
    "        model.train()\n",
    "        total_loss = 0\n",
    "        for batch in train_loader:         \n",
    "            batch_X, batch_y = batch\n",
    "            \n",
    "            batch_X = batch_X.to(device)\n",
    "            batch_y = batch_y.to(device)\n",
    "            \n",
    "            # TODO: Complete this train method to train the model provided.\n",
    "            optimizer.zero_grad()\n",
    "            output = model.forward(batch_X)\n",
    "            loss = loss_fn(output, batch_y)\n",
    "            loss.backward()\n",
    "            optimizer.step()\n",
    "            \n",
    "            total_loss += loss.data.item()\n",
    "        print(\"Epoch: {}, BCELoss: {}\".format(epoch, total_loss / len(train_loader)))"
   ]
  },
  {
   "cell_type": "markdown",
   "metadata": {},
   "source": [
    "Supposing we have the training method above, we will test that it is working by writing a bit of code in the notebook that executes our training method on the small sample training set that we loaded earlier. The reason for doing this in the notebook is so that we have an opportunity to fix any errors that arise early when they are easier to diagnose."
   ]
  },
  {
   "cell_type": "code",
   "execution_count": 26,
   "metadata": {},
   "outputs": [
    {
     "name": "stdout",
     "output_type": "stream",
     "text": [
      "Epoch: 1, BCELoss: 0.6950879096984863\n",
      "Epoch: 2, BCELoss: 0.6869414329528809\n",
      "Epoch: 3, BCELoss: 0.679847002029419\n",
      "Epoch: 4, BCELoss: 0.6715131640434265\n",
      "Epoch: 5, BCELoss: 0.6604544281959533\n"
     ]
    }
   ],
   "source": [
    "import torch.optim as optim\n",
    "from train.model import LSTMClassifier\n",
    "\n",
    "device = torch.device(\"cuda\" if torch.cuda.is_available() else \"cpu\")\n",
    "model = LSTMClassifier(32, 100, 5000).to(device)\n",
    "optimizer = optim.Adam(model.parameters())\n",
    "loss_fn = torch.nn.BCELoss()\n",
    "\n",
    "train(model, train_sample_dl, 5, optimizer, loss_fn, device)"
   ]
  },
  {
   "cell_type": "markdown",
   "metadata": {},
   "source": [
    "In order to construct a PyTorch model using SageMaker we must provide SageMaker with a training script. We may optionally include a directory which will be copied to the container and from which our training code will be run. When the training container is executed it will check the uploaded directory (if there is one) for a `requirements.txt` file and install any required Python libraries, after which the training script will be run."
   ]
  },
  {
   "cell_type": "markdown",
   "metadata": {},
   "source": [
    "### (TODO) Training the model\n",
    "\n",
    "When a PyTorch model is constructed in SageMaker, an entry point must be specified. This is the Python file which will be executed when the model is trained. Inside of the `train` directory is a file called `train.py` which has been provided and which contains most of the necessary code to train our model. The only thing that is missing is the implementation of the `train()` method which you wrote earlier in this notebook.\n",
    "\n",
    "**TODO**: Copy the `train()` method written above and paste it into the `train/train.py` file where required.\n",
    "\n",
    "The way that SageMaker passes hyperparameters to the training script is by way of arguments. These arguments can then be parsed and used in the training script. To see how this is done take a look at the provided `train/train.py` file."
   ]
  },
  {
   "cell_type": "code",
   "execution_count": 27,
   "metadata": {},
   "outputs": [],
   "source": [
    "from sagemaker.pytorch import PyTorch\n",
    "\n",
    "estimator = PyTorch(entry_point=\"train.py\",\n",
    "                    source_dir=\"train\",\n",
    "                    role=role,\n",
    "                    framework_version='0.4.0',\n",
    "                    train_instance_count=1,\n",
    "                    train_instance_type='ml.p2.xlarge',\n",
    "                    hyperparameters={\n",
    "                        'epochs': 10,\n",
    "                        'hidden_dim': 200,\n",
    "                    })"
   ]
  },
  {
   "cell_type": "code",
   "execution_count": 28,
   "metadata": {},
   "outputs": [
    {
     "name": "stderr",
     "output_type": "stream",
     "text": [
      "'create_image_uri' will be deprecated in favor of 'ImageURIProvider' class in SageMaker Python SDK v2.\n",
      "'s3_input' class will be renamed to 'TrainingInput' in SageMaker Python SDK v2.\n",
      "'create_image_uri' will be deprecated in favor of 'ImageURIProvider' class in SageMaker Python SDK v2.\n"
     ]
    },
    {
     "name": "stdout",
     "output_type": "stream",
     "text": [
      "2020-07-30 20:22:14 Starting - Starting the training job...\n",
      "2020-07-30 20:22:16 Starting - Launching requested ML instances.........\n",
      "2020-07-30 20:23:47 Starting - Preparing the instances for training......\n",
      "2020-07-30 20:25:05 Downloading - Downloading input data......\n",
      "2020-07-30 20:26:10 Training - Training image download completed. Training in progress..\u001b[34mbash: cannot set terminal process group (-1): Inappropriate ioctl for device\u001b[0m\n",
      "\u001b[34mbash: no job control in this shell\u001b[0m\n",
      "\u001b[34m2020-07-30 20:26:11,268 sagemaker-containers INFO     Imported framework sagemaker_pytorch_container.training\u001b[0m\n",
      "\u001b[34m2020-07-30 20:26:11,293 sagemaker_pytorch_container.training INFO     Block until all host DNS lookups succeed.\u001b[0m\n",
      "\u001b[34m2020-07-30 20:26:11,297 sagemaker_pytorch_container.training INFO     Invoking user training script.\u001b[0m\n",
      "\u001b[34m2020-07-30 20:26:11,544 sagemaker-containers INFO     Module train does not provide a setup.py. \u001b[0m\n",
      "\u001b[34mGenerating setup.py\u001b[0m\n",
      "\u001b[34m2020-07-30 20:26:11,544 sagemaker-containers INFO     Generating setup.cfg\u001b[0m\n",
      "\u001b[34m2020-07-30 20:26:11,544 sagemaker-containers INFO     Generating MANIFEST.in\u001b[0m\n",
      "\u001b[34m2020-07-30 20:26:11,545 sagemaker-containers INFO     Installing module with the following command:\u001b[0m\n",
      "\u001b[34m/usr/bin/python -m pip install -U . -r requirements.txt\u001b[0m\n",
      "\u001b[34mProcessing /opt/ml/code\u001b[0m\n",
      "\u001b[34mCollecting pandas (from -r requirements.txt (line 1))\n",
      "  Downloading https://files.pythonhosted.org/packages/74/24/0cdbf8907e1e3bc5a8da03345c23cbed7044330bb8f73bb12e711a640a00/pandas-0.24.2-cp35-cp35m-manylinux1_x86_64.whl (10.0MB)\u001b[0m\n",
      "\u001b[34mCollecting numpy (from -r requirements.txt (line 2))\n",
      "  Downloading https://files.pythonhosted.org/packages/b5/36/88723426b4ff576809fec7d73594fe17a35c27f8d01f93637637a29ae25b/numpy-1.18.5-cp35-cp35m-manylinux1_x86_64.whl (19.9MB)\u001b[0m\n",
      "\u001b[34mCollecting nltk (from -r requirements.txt (line 3))\n",
      "  Downloading https://files.pythonhosted.org/packages/92/75/ce35194d8e3022203cca0d2f896dbb88689f9b3fce8e9f9cff942913519d/nltk-3.5.zip (1.4MB)\u001b[0m\n",
      "\u001b[34mCollecting beautifulsoup4 (from -r requirements.txt (line 4))\n",
      "  Downloading https://files.pythonhosted.org/packages/66/25/ff030e2437265616a1e9b25ccc864e0371a0bc3adb7c5a404fd661c6f4f6/beautifulsoup4-4.9.1-py3-none-any.whl (115kB)\u001b[0m\n",
      "\u001b[34mCollecting html5lib (from -r requirements.txt (line 5))\n",
      "  Downloading https://files.pythonhosted.org/packages/6c/dd/a834df6482147d48e225a49515aabc28974ad5a4ca3215c18a882565b028/html5lib-1.1-py2.py3-none-any.whl (112kB)\u001b[0m\n",
      "\u001b[34mCollecting pytz>=2011k (from pandas->-r requirements.txt (line 1))\u001b[0m\n",
      "\u001b[34m  Downloading https://files.pythonhosted.org/packages/4f/a4/879454d49688e2fad93e59d7d4efda580b783c745fd2ec2a3adf87b0808d/pytz-2020.1-py2.py3-none-any.whl (510kB)\u001b[0m\n",
      "\u001b[34mRequirement already satisfied, skipping upgrade: python-dateutil>=2.5.0 in /usr/local/lib/python3.5/dist-packages (from pandas->-r requirements.txt (line 1)) (2.7.5)\u001b[0m\n",
      "\u001b[34mRequirement already satisfied, skipping upgrade: click in /usr/local/lib/python3.5/dist-packages (from nltk->-r requirements.txt (line 3)) (7.0)\u001b[0m\n",
      "\u001b[34mCollecting joblib (from nltk->-r requirements.txt (line 3))\n",
      "  Downloading https://files.pythonhosted.org/packages/28/5c/cf6a2b65a321c4a209efcdf64c2689efae2cb62661f8f6f4bb28547cf1bf/joblib-0.14.1-py2.py3-none-any.whl (294kB)\u001b[0m\n",
      "\u001b[34mCollecting regex (from nltk->-r requirements.txt (line 3))\u001b[0m\n",
      "\u001b[34m  Downloading https://files.pythonhosted.org/packages/09/c3/ddaa87500f31ed86290e3d014c0302a51fde28d7139eda0b5f33733726db/regex-2020.7.14.tar.gz (690kB)\u001b[0m\n",
      "\u001b[34mCollecting tqdm (from nltk->-r requirements.txt (line 3))\n",
      "  Downloading https://files.pythonhosted.org/packages/af/88/7b0ea5fa8192d1733dea459a9e3059afc87819cb4072c43263f2ec7ab768/tqdm-4.48.0-py2.py3-none-any.whl (67kB)\u001b[0m\n",
      "\u001b[34mCollecting soupsieve>1.2 (from beautifulsoup4->-r requirements.txt (line 4))\n",
      "  Downloading https://files.pythonhosted.org/packages/6f/8f/457f4a5390eeae1cc3aeab89deb7724c965be841ffca6cfca9197482e470/soupsieve-2.0.1-py3-none-any.whl\u001b[0m\n",
      "\u001b[34mCollecting webencodings (from html5lib->-r requirements.txt (line 5))\n",
      "  Downloading https://files.pythonhosted.org/packages/f4/24/2a3e3df732393fed8b3ebf2ec078f05546de641fe1b667ee316ec1dcf3b7/webencodings-0.5.1-py2.py3-none-any.whl\u001b[0m\n",
      "\u001b[34mRequirement already satisfied, skipping upgrade: six>=1.9 in /usr/local/lib/python3.5/dist-packages (from html5lib->-r requirements.txt (line 5)) (1.11.0)\u001b[0m\n",
      "\u001b[34mBuilding wheels for collected packages: nltk, train, regex\n",
      "  Running setup.py bdist_wheel for nltk: started\u001b[0m\n",
      "\u001b[34m  Running setup.py bdist_wheel for nltk: finished with status 'done'\n",
      "  Stored in directory: /root/.cache/pip/wheels/ae/8c/3f/b1fe0ba04555b08b57ab52ab7f86023639a526d8bc8d384306\n",
      "  Running setup.py bdist_wheel for train: started\n",
      "  Running setup.py bdist_wheel for train: finished with status 'done'\n",
      "  Stored in directory: /tmp/pip-ephem-wheel-cache-sv4wbymb/wheels/35/24/16/37574d11bf9bde50616c67372a334f94fa8356bc7164af8ca3\n",
      "  Running setup.py bdist_wheel for regex: started\u001b[0m\n",
      "\u001b[34m  Running setup.py bdist_wheel for regex: finished with status 'done'\n",
      "  Stored in directory: /root/.cache/pip/wheels/53/55/dc/e17fa4568958f4c53be34b65e474a1327b64641f65df379ec3\u001b[0m\n",
      "\u001b[34mSuccessfully built nltk train regex\u001b[0m\n",
      "\u001b[34mInstalling collected packages: pytz, numpy, pandas, joblib, regex, tqdm, nltk, soupsieve, beautifulsoup4, webencodings, html5lib, train\n",
      "  Found existing installation: numpy 1.15.4\n",
      "    Uninstalling numpy-1.15.4:\u001b[0m\n",
      "\u001b[34m      Successfully uninstalled numpy-1.15.4\u001b[0m\n",
      "\u001b[34mSuccessfully installed beautifulsoup4-4.9.1 html5lib-1.1 joblib-0.14.1 nltk-3.5 numpy-1.18.5 pandas-0.24.2 pytz-2020.1 regex-2020.7.14 soupsieve-2.0.1 tqdm-4.48.0 train-1.0.0 webencodings-0.5.1\u001b[0m\n",
      "\u001b[34mYou are using pip version 18.1, however version 20.2 is available.\u001b[0m\n",
      "\u001b[34mYou should consider upgrading via the 'pip install --upgrade pip' command.\u001b[0m\n",
      "\u001b[34m2020-07-30 20:26:34,374 sagemaker-containers INFO     Invoking user script\n",
      "\u001b[0m\n",
      "\u001b[34mTraining Env:\n",
      "\u001b[0m\n",
      "\u001b[34m{\n",
      "    \"input_config_dir\": \"/opt/ml/input/config\",\n",
      "    \"channel_input_dirs\": {\n",
      "        \"training\": \"/opt/ml/input/data/training\"\n",
      "    },\n",
      "    \"hyperparameters\": {\n",
      "        \"epochs\": 10,\n",
      "        \"hidden_dim\": 200\n",
      "    },\n",
      "    \"framework_module\": \"sagemaker_pytorch_container.training:main\",\n",
      "    \"log_level\": 20,\n",
      "    \"resource_config\": {\n",
      "        \"current_host\": \"algo-1\",\n",
      "        \"hosts\": [\n",
      "            \"algo-1\"\n",
      "        ],\n",
      "        \"network_interface_name\": \"eth0\"\n",
      "    },\n",
      "    \"module_name\": \"train\",\n",
      "    \"module_dir\": \"s3://sagemaker-us-east-2-458190472791/sagemaker-pytorch-2020-07-30-20-22-14-128/source/sourcedir.tar.gz\",\n",
      "    \"network_interface_name\": \"eth0\",\n",
      "    \"model_dir\": \"/opt/ml/model\",\n",
      "    \"num_gpus\": 1,\n",
      "    \"input_dir\": \"/opt/ml/input\",\n",
      "    \"user_entry_point\": \"train.py\",\n",
      "    \"hosts\": [\n",
      "        \"algo-1\"\n",
      "    ],\n",
      "    \"output_dir\": \"/opt/ml/output\",\n",
      "    \"job_name\": \"sagemaker-pytorch-2020-07-30-20-22-14-128\",\n",
      "    \"num_cpus\": 4,\n",
      "    \"output_intermediate_dir\": \"/opt/ml/output/intermediate\",\n",
      "    \"input_data_config\": {\n",
      "        \"training\": {\n",
      "            \"RecordWrapperType\": \"None\",\n",
      "            \"TrainingInputMode\": \"File\",\n",
      "            \"S3DistributionType\": \"FullyReplicated\"\n",
      "        }\n",
      "    },\n",
      "    \"output_data_dir\": \"/opt/ml/output/data\",\n",
      "    \"current_host\": \"algo-1\",\n",
      "    \"additional_framework_parameters\": {}\u001b[0m\n",
      "\u001b[34m}\n",
      "\u001b[0m\n",
      "\u001b[34mEnvironment variables:\n",
      "\u001b[0m\n",
      "\u001b[34mSM_USER_ENTRY_POINT=train.py\u001b[0m\n",
      "\u001b[34mSM_RESOURCE_CONFIG={\"current_host\":\"algo-1\",\"hosts\":[\"algo-1\"],\"network_interface_name\":\"eth0\"}\u001b[0m\n",
      "\u001b[34mSM_INPUT_CONFIG_DIR=/opt/ml/input/config\u001b[0m\n",
      "\u001b[34mSM_CHANNELS=[\"training\"]\u001b[0m\n",
      "\u001b[34mSM_NETWORK_INTERFACE_NAME=eth0\u001b[0m\n",
      "\u001b[34mPYTHONPATH=/usr/local/bin:/usr/lib/python35.zip:/usr/lib/python3.5:/usr/lib/python3.5/plat-x86_64-linux-gnu:/usr/lib/python3.5/lib-dynload:/usr/local/lib/python3.5/dist-packages:/usr/lib/python3/dist-packages\u001b[0m\n",
      "\u001b[34mSM_USER_ARGS=[\"--epochs\",\"10\",\"--hidden_dim\",\"200\"]\u001b[0m\n",
      "\u001b[34mSM_TRAINING_ENV={\"additional_framework_parameters\":{},\"channel_input_dirs\":{\"training\":\"/opt/ml/input/data/training\"},\"current_host\":\"algo-1\",\"framework_module\":\"sagemaker_pytorch_container.training:main\",\"hosts\":[\"algo-1\"],\"hyperparameters\":{\"epochs\":10,\"hidden_dim\":200},\"input_config_dir\":\"/opt/ml/input/config\",\"input_data_config\":{\"training\":{\"RecordWrapperType\":\"None\",\"S3DistributionType\":\"FullyReplicated\",\"TrainingInputMode\":\"File\"}},\"input_dir\":\"/opt/ml/input\",\"job_name\":\"sagemaker-pytorch-2020-07-30-20-22-14-128\",\"log_level\":20,\"model_dir\":\"/opt/ml/model\",\"module_dir\":\"s3://sagemaker-us-east-2-458190472791/sagemaker-pytorch-2020-07-30-20-22-14-128/source/sourcedir.tar.gz\",\"module_name\":\"train\",\"network_interface_name\":\"eth0\",\"num_cpus\":4,\"num_gpus\":1,\"output_data_dir\":\"/opt/ml/output/data\",\"output_dir\":\"/opt/ml/output\",\"output_intermediate_dir\":\"/opt/ml/output/intermediate\",\"resource_config\":{\"current_host\":\"algo-1\",\"hosts\":[\"algo-1\"],\"network_interface_name\":\"eth0\"},\"user_entry_point\":\"train.py\"}\u001b[0m\n",
      "\u001b[34mSM_CHANNEL_TRAINING=/opt/ml/input/data/training\u001b[0m\n",
      "\u001b[34mSM_OUTPUT_DIR=/opt/ml/output\u001b[0m\n",
      "\u001b[34mSM_HPS={\"epochs\":10,\"hidden_dim\":200}\u001b[0m\n",
      "\u001b[34mSM_HOSTS=[\"algo-1\"]\u001b[0m\n",
      "\u001b[34mSM_CURRENT_HOST=algo-1\u001b[0m\n",
      "\u001b[34mSM_MODULE_DIR=s3://sagemaker-us-east-2-458190472791/sagemaker-pytorch-2020-07-30-20-22-14-128/source/sourcedir.tar.gz\u001b[0m\n",
      "\u001b[34mSM_OUTPUT_INTERMEDIATE_DIR=/opt/ml/output/intermediate\u001b[0m\n",
      "\u001b[34mSM_NUM_CPUS=4\u001b[0m\n",
      "\u001b[34mSM_HP_EPOCHS=10\u001b[0m\n",
      "\u001b[34mSM_MODEL_DIR=/opt/ml/model\u001b[0m\n",
      "\u001b[34mSM_INPUT_DATA_CONFIG={\"training\":{\"RecordWrapperType\":\"None\",\"S3DistributionType\":\"FullyReplicated\",\"TrainingInputMode\":\"File\"}}\u001b[0m\n",
      "\u001b[34mSM_MODULE_NAME=train\u001b[0m\n",
      "\u001b[34mSM_HP_HIDDEN_DIM=200\u001b[0m\n",
      "\u001b[34mSM_OUTPUT_DATA_DIR=/opt/ml/output/data\u001b[0m\n",
      "\u001b[34mSM_NUM_GPUS=1\u001b[0m\n",
      "\u001b[34mSM_INPUT_DIR=/opt/ml/input\u001b[0m\n",
      "\u001b[34mSM_FRAMEWORK_PARAMS={}\u001b[0m\n",
      "\u001b[34mSM_FRAMEWORK_MODULE=sagemaker_pytorch_container.training:main\u001b[0m\n",
      "\u001b[34mSM_LOG_LEVEL=20\n",
      "\u001b[0m\n",
      "\u001b[34mInvoking script with the following command:\n",
      "\u001b[0m\n",
      "\u001b[34m/usr/bin/python -m train --epochs 10 --hidden_dim 200\n",
      "\n",
      "\u001b[0m\n",
      "\u001b[34mUsing device cuda.\u001b[0m\n",
      "\u001b[34mGet train data loader.\u001b[0m\n",
      "\u001b[34mModel loaded with embedding_dim 32, hidden_dim 200, vocab_size 5000.\u001b[0m\n",
      "\u001b[34mEpoch: 1, BCELoss: 0.6656390294736746\u001b[0m\n",
      "\u001b[34mEpoch: 2, BCELoss: 0.5736477083089401\u001b[0m\n",
      "\u001b[34mEpoch: 3, BCELoss: 0.486809142390076\u001b[0m\n",
      "\u001b[34mEpoch: 4, BCELoss: 0.4415691835539682\u001b[0m\n",
      "\u001b[34mEpoch: 5, BCELoss: 0.4111538407753925\u001b[0m\n",
      "\u001b[34mEpoch: 6, BCELoss: 0.3597743207094621\u001b[0m\n",
      "\u001b[34mEpoch: 7, BCELoss: 0.33190421243103185\u001b[0m\n",
      "\u001b[34mEpoch: 8, BCELoss: 0.3151251831833197\u001b[0m\n",
      "\u001b[34mEpoch: 9, BCELoss: 0.3077781017945737\u001b[0m\n",
      "\n",
      "2020-07-30 20:29:44 Uploading - Uploading generated training model\n",
      "2020-07-30 20:29:44 Completed - Training job completed\n",
      "\u001b[34mEpoch: 10, BCELoss: 0.2835810905208393\u001b[0m\n",
      "\u001b[34m2020-07-30 20:29:33,034 sagemaker-containers INFO     Reporting training SUCCESS\u001b[0m\n",
      "Training seconds: 279\n",
      "Billable seconds: 279\n"
     ]
    }
   ],
   "source": [
    "estimator.fit({'training': input_data})"
   ]
  },
  {
   "cell_type": "markdown",
   "metadata": {},
   "source": [
    "## Step 5: Testing the model\n",
    "\n",
    "As mentioned at the top of this notebook, we will be testing this model by first deploying it and then sending the testing data to the deployed endpoint. We will do this so that we can make sure that the deployed model is working correctly.\n",
    "\n",
    "## Step 6: Deploy the model for testing\n",
    "\n",
    "Now that we have trained our model, we would like to test it to see how it performs. Currently our model takes input of the form `review_length, review[500]` where `review[500]` is a sequence of `500` integers which describe the words present in the review, encoded using `word_dict`. Fortunately for us, SageMaker provides built-in inference code for models with simple inputs such as this.\n",
    "\n",
    "There is one thing that we need to provide, however, and that is a function which loads the saved model. This function must be called `model_fn()` and takes as its only parameter a path to the directory where the model artifacts are stored. This function must also be present in the python file which we specified as the entry point. In our case the model loading function has been provided and so no changes need to be made.\n",
    "\n",
    "**NOTE**: When the built-in inference code is run it must import the `model_fn()` method from the `train.py` file. This is why the training code is wrapped in a main guard ( ie, `if __name__ == '__main__':` )\n",
    "\n",
    "Since we don't need to change anything in the code that was uploaded during training, we can simply deploy the current model as-is.\n",
    "\n",
    "**NOTE:** When deploying a model you are asking SageMaker to launch an compute instance that will wait for data to be sent to it. As a result, this compute instance will continue to run until *you* shut it down. This is important to know since the cost of a deployed endpoint depends on how long it has been running for.\n",
    "\n",
    "In other words **If you are no longer using a deployed endpoint, shut it down!**\n",
    "\n",
    "**TODO:** Deploy the trained model."
   ]
  },
  {
   "cell_type": "code",
   "execution_count": 29,
   "metadata": {},
   "outputs": [
    {
     "name": "stderr",
     "output_type": "stream",
     "text": [
      "Parameter image will be renamed to image_uri in SageMaker Python SDK v2.\n",
      "'create_image_uri' will be deprecated in favor of 'ImageURIProvider' class in SageMaker Python SDK v2.\n"
     ]
    },
    {
     "name": "stdout",
     "output_type": "stream",
     "text": [
      "-----------------!"
     ]
    }
   ],
   "source": [
    "# TODO: Deploy the trained model\n",
    "predictor = estimator.deploy(initial_instance_count=1, instance_type='ml.p2.xlarge')"
   ]
  },
  {
   "cell_type": "markdown",
   "metadata": {},
   "source": [
    "## Step 7 - Use the model for testing\n",
    "\n",
    "Once deployed, we can read in the test data and send it off to our deployed model to get some results. Once we collect all of the results we can determine how accurate our model is."
   ]
  },
  {
   "cell_type": "code",
   "execution_count": 30,
   "metadata": {},
   "outputs": [],
   "source": [
    "test_X = pd.concat([pd.DataFrame(test_X_len), pd.DataFrame(test_X)], axis=1)"
   ]
  },
  {
   "cell_type": "code",
   "execution_count": 31,
   "metadata": {},
   "outputs": [],
   "source": [
    "# We split the data into chunks and send each chunk seperately, accumulating the results.\n",
    "\n",
    "def predict(data, rows=512):\n",
    "    split_array = np.array_split(data, int(data.shape[0] / float(rows) + 1))\n",
    "    predictions = np.array([])\n",
    "    for array in split_array:\n",
    "        predictions = np.append(predictions, predictor.predict(array))\n",
    "    \n",
    "    return predictions"
   ]
  },
  {
   "cell_type": "code",
   "execution_count": 32,
   "metadata": {},
   "outputs": [],
   "source": [
    "predictions = predict(test_X.values)\n",
    "predictions = [round(num) for num in predictions]"
   ]
  },
  {
   "cell_type": "code",
   "execution_count": 33,
   "metadata": {},
   "outputs": [
    {
     "data": {
      "text/plain": [
       "0.842"
      ]
     },
     "execution_count": 33,
     "metadata": {},
     "output_type": "execute_result"
    }
   ],
   "source": [
    "from sklearn.metrics import accuracy_score\n",
    "accuracy_score(test_y, predictions)"
   ]
  },
  {
   "cell_type": "markdown",
   "metadata": {},
   "source": [
    "**Question:** How does this model compare to the XGBoost model you created earlier? Why might these two models perform differently on this dataset? Which do *you* think is better for sentiment analysis?"
   ]
  },
  {
   "cell_type": "markdown",
   "metadata": {},
   "source": [
    "**Answer:**\n",
    "Acuracy is similar to that of XGBoost. I wont choose any over any."
   ]
  },
  {
   "cell_type": "markdown",
   "metadata": {},
   "source": [
    "### (TODO) More testing\n",
    "\n",
    "We now have a trained model which has been deployed and which we can send processed reviews to and which returns the predicted sentiment. However, ultimately we would like to be able to send our model an unprocessed review. That is, we would like to send the review itself as a string. For example, suppose we wish to send the following review to our model."
   ]
  },
  {
   "cell_type": "code",
   "execution_count": 34,
   "metadata": {},
   "outputs": [],
   "source": [
    "test_review = 'The simplest pleasures in life are the best, and this film is one of them. Combining a rather basic storyline of love and adventure this movie transcends the usual weekend fair with wit and unmitigated charm.'"
   ]
  },
  {
   "cell_type": "markdown",
   "metadata": {},
   "source": [
    "The question we now need to answer is, how do we send this review to our model?\n",
    "\n",
    "Recall in the first section of this notebook we did a bunch of data processing to the IMDb dataset. In particular, we did two specific things to the provided reviews.\n",
    " - Removed any html tags and stemmed the input\n",
    " - Encoded the review as a sequence of integers using `word_dict`\n",
    " \n",
    "In order process the review we will need to repeat these two steps.\n",
    "\n",
    "**TODO**: Using the `review_to_words` and `convert_and_pad` methods from section one, convert `test_review` into a numpy array `test_data` suitable to send to our model. Remember that our model expects input of the form `review_length, review[500]`."
   ]
  },
  {
   "cell_type": "code",
   "execution_count": 35,
   "metadata": {},
   "outputs": [],
   "source": [
    "# TODO: Convert test_review into a form usable by the model and save the results in test_data\n",
    "test_data = review_to_words(test_review)\n",
    "test_data = [np.array(convert_and_pad(word_dict, test_data)[0])]"
   ]
  },
  {
   "cell_type": "markdown",
   "metadata": {},
   "source": [
    "Now that we have processed the review, we can send the resulting array to our model to predict the sentiment of the review."
   ]
  },
  {
   "cell_type": "code",
   "execution_count": 36,
   "metadata": {},
   "outputs": [
    {
     "data": {
      "text/plain": [
       "array(0.5743577, dtype=float32)"
      ]
     },
     "execution_count": 36,
     "metadata": {},
     "output_type": "execute_result"
    }
   ],
   "source": [
    "predictor.predict(test_data)"
   ]
  },
  {
   "cell_type": "markdown",
   "metadata": {},
   "source": [
    "Since the return value of our model is close to `1`, we can be certain that the review we submitted is positive."
   ]
  },
  {
   "cell_type": "markdown",
   "metadata": {},
   "source": [
    "### Delete the endpoint\n",
    "\n",
    "Of course, just like in the XGBoost notebook, once we've deployed an endpoint it continues to run until we tell it to shut down. Since we are done using our endpoint for now, we can delete it."
   ]
  },
  {
   "cell_type": "code",
   "execution_count": 37,
   "metadata": {},
   "outputs": [
    {
     "name": "stderr",
     "output_type": "stream",
     "text": [
      "estimator.delete_endpoint() will be deprecated in SageMaker Python SDK v2. Please use the delete_endpoint() function on your predictor instead.\n"
     ]
    }
   ],
   "source": [
    "estimator.delete_endpoint()"
   ]
  },
  {
   "cell_type": "markdown",
   "metadata": {},
   "source": [
    "## Step 6 (again) - Deploy the model for the web app\n",
    "\n",
    "Now that we know that our model is working, it's time to create some custom inference code so that we can send the model a review which has not been processed and have it determine the sentiment of the review.\n",
    "\n",
    "As we saw above, by default the estimator which we created, when deployed, will use the entry script and directory which we provided when creating the model. However, since we now wish to accept a string as input and our model expects a processed review, we need to write some custom inference code.\n",
    "\n",
    "We will store the code that we write in the `serve` directory. Provided in this directory is the `model.py` file that we used to construct our model, a `utils.py` file which contains the `review_to_words` and `convert_and_pad` pre-processing functions which we used during the initial data processing, and `predict.py`, the file which will contain our custom inference code. Note also that `requirements.txt` is present which will tell SageMaker what Python libraries are required by our custom inference code.\n",
    "\n",
    "When deploying a PyTorch model in SageMaker, you are expected to provide four functions which the SageMaker inference container will use.\n",
    " - `model_fn`: This function is the same function that we used in the training script and it tells SageMaker how to load our model.\n",
    " - `input_fn`: This function receives the raw serialized input that has been sent to the model's endpoint and its job is to de-serialize and make the input available for the inference code.\n",
    " - `output_fn`: This function takes the output of the inference code and its job is to serialize this output and return it to the caller of the model's endpoint.\n",
    " - `predict_fn`: The heart of the inference script, this is where the actual prediction is done and is the function which you will need to complete.\n",
    "\n",
    "For the simple website that we are constructing during this project, the `input_fn` and `output_fn` methods are relatively straightforward. We only require being able to accept a string as input and we expect to return a single value as output. You might imagine though that in a more complex application the input or output may be image data or some other binary data which would require some effort to serialize.\n",
    "\n",
    "### (TODO) Writing inference code\n",
    "\n",
    "Before writing our custom inference code, we will begin by taking a look at the code which has been provided."
   ]
  },
  {
   "cell_type": "code",
   "execution_count": 38,
   "metadata": {},
   "outputs": [
    {
     "name": "stdout",
     "output_type": "stream",
     "text": [
      "\u001b[34mimport\u001b[39;49;00m \u001b[04m\u001b[36margparse\u001b[39;49;00m\r\n",
      "\u001b[34mimport\u001b[39;49;00m \u001b[04m\u001b[36mjson\u001b[39;49;00m\r\n",
      "\u001b[34mimport\u001b[39;49;00m \u001b[04m\u001b[36mos\u001b[39;49;00m\r\n",
      "\u001b[34mimport\u001b[39;49;00m \u001b[04m\u001b[36mpickle\u001b[39;49;00m\r\n",
      "\u001b[34mimport\u001b[39;49;00m \u001b[04m\u001b[36msys\u001b[39;49;00m\r\n",
      "\u001b[34mimport\u001b[39;49;00m \u001b[04m\u001b[36msagemaker_containers\u001b[39;49;00m\r\n",
      "\u001b[34mimport\u001b[39;49;00m \u001b[04m\u001b[36mpandas\u001b[39;49;00m \u001b[34mas\u001b[39;49;00m \u001b[04m\u001b[36mpd\u001b[39;49;00m\r\n",
      "\u001b[34mimport\u001b[39;49;00m \u001b[04m\u001b[36mnumpy\u001b[39;49;00m \u001b[34mas\u001b[39;49;00m \u001b[04m\u001b[36mnp\u001b[39;49;00m\r\n",
      "\u001b[34mimport\u001b[39;49;00m \u001b[04m\u001b[36mtorch\u001b[39;49;00m\r\n",
      "\u001b[34mimport\u001b[39;49;00m \u001b[04m\u001b[36mtorch\u001b[39;49;00m\u001b[04m\u001b[36m.\u001b[39;49;00m\u001b[04m\u001b[36mnn\u001b[39;49;00m \u001b[34mas\u001b[39;49;00m \u001b[04m\u001b[36mnn\u001b[39;49;00m\r\n",
      "\u001b[34mimport\u001b[39;49;00m \u001b[04m\u001b[36mtorch\u001b[39;49;00m\u001b[04m\u001b[36m.\u001b[39;49;00m\u001b[04m\u001b[36moptim\u001b[39;49;00m \u001b[34mas\u001b[39;49;00m \u001b[04m\u001b[36moptim\u001b[39;49;00m\r\n",
      "\u001b[34mimport\u001b[39;49;00m \u001b[04m\u001b[36mtorch\u001b[39;49;00m\u001b[04m\u001b[36m.\u001b[39;49;00m\u001b[04m\u001b[36mutils\u001b[39;49;00m\u001b[04m\u001b[36m.\u001b[39;49;00m\u001b[04m\u001b[36mdata\u001b[39;49;00m\r\n",
      "\r\n",
      "\u001b[34mfrom\u001b[39;49;00m \u001b[04m\u001b[36mmodel\u001b[39;49;00m \u001b[34mimport\u001b[39;49;00m LSTMClassifier\r\n",
      "\r\n",
      "\u001b[34mfrom\u001b[39;49;00m \u001b[04m\u001b[36mutils\u001b[39;49;00m \u001b[34mimport\u001b[39;49;00m review_to_words, convert_and_pad\r\n",
      "\r\n",
      "\u001b[34mdef\u001b[39;49;00m \u001b[32mmodel_fn\u001b[39;49;00m(model_dir):\r\n",
      "    \u001b[33m\"\"\"Load the PyTorch model from the `model_dir` directory.\"\"\"\u001b[39;49;00m\r\n",
      "    \u001b[36mprint\u001b[39;49;00m(\u001b[33m\"\u001b[39;49;00m\u001b[33mLoading model.\u001b[39;49;00m\u001b[33m\"\u001b[39;49;00m)\r\n",
      "\r\n",
      "    \u001b[37m# First, load the parameters used to create the model.\u001b[39;49;00m\r\n",
      "    model_info = {}\r\n",
      "    model_info_path = os.path.join(model_dir, \u001b[33m'\u001b[39;49;00m\u001b[33mmodel_info.pth\u001b[39;49;00m\u001b[33m'\u001b[39;49;00m)\r\n",
      "    \u001b[34mwith\u001b[39;49;00m \u001b[36mopen\u001b[39;49;00m(model_info_path, \u001b[33m'\u001b[39;49;00m\u001b[33mrb\u001b[39;49;00m\u001b[33m'\u001b[39;49;00m) \u001b[34mas\u001b[39;49;00m f:\r\n",
      "        model_info = torch.load(f)\r\n",
      "\r\n",
      "    \u001b[36mprint\u001b[39;49;00m(\u001b[33m\"\u001b[39;49;00m\u001b[33mmodel_info: \u001b[39;49;00m\u001b[33m{}\u001b[39;49;00m\u001b[33m\"\u001b[39;49;00m.format(model_info))\r\n",
      "\r\n",
      "    \u001b[37m# Determine the device and construct the model.\u001b[39;49;00m\r\n",
      "    device = torch.device(\u001b[33m\"\u001b[39;49;00m\u001b[33mcuda\u001b[39;49;00m\u001b[33m\"\u001b[39;49;00m \u001b[34mif\u001b[39;49;00m torch.cuda.is_available() \u001b[34melse\u001b[39;49;00m \u001b[33m\"\u001b[39;49;00m\u001b[33mcpu\u001b[39;49;00m\u001b[33m\"\u001b[39;49;00m)\r\n",
      "    model = LSTMClassifier(model_info[\u001b[33m'\u001b[39;49;00m\u001b[33membedding_dim\u001b[39;49;00m\u001b[33m'\u001b[39;49;00m], model_info[\u001b[33m'\u001b[39;49;00m\u001b[33mhidden_dim\u001b[39;49;00m\u001b[33m'\u001b[39;49;00m], model_info[\u001b[33m'\u001b[39;49;00m\u001b[33mvocab_size\u001b[39;49;00m\u001b[33m'\u001b[39;49;00m])\r\n",
      "\r\n",
      "    \u001b[37m# Load the store model parameters.\u001b[39;49;00m\r\n",
      "    model_path = os.path.join(model_dir, \u001b[33m'\u001b[39;49;00m\u001b[33mmodel.pth\u001b[39;49;00m\u001b[33m'\u001b[39;49;00m)\r\n",
      "    \u001b[34mwith\u001b[39;49;00m \u001b[36mopen\u001b[39;49;00m(model_path, \u001b[33m'\u001b[39;49;00m\u001b[33mrb\u001b[39;49;00m\u001b[33m'\u001b[39;49;00m) \u001b[34mas\u001b[39;49;00m f:\r\n",
      "        model.load_state_dict(torch.load(f))\r\n",
      "\r\n",
      "    \u001b[37m# Load the saved word_dict.\u001b[39;49;00m\r\n",
      "    word_dict_path = os.path.join(model_dir, \u001b[33m'\u001b[39;49;00m\u001b[33mword_dict.pkl\u001b[39;49;00m\u001b[33m'\u001b[39;49;00m)\r\n",
      "    \u001b[34mwith\u001b[39;49;00m \u001b[36mopen\u001b[39;49;00m(word_dict_path, \u001b[33m'\u001b[39;49;00m\u001b[33mrb\u001b[39;49;00m\u001b[33m'\u001b[39;49;00m) \u001b[34mas\u001b[39;49;00m f:\r\n",
      "        model.word_dict = pickle.load(f)\r\n",
      "\r\n",
      "    model.to(device).eval()\r\n",
      "\r\n",
      "    \u001b[36mprint\u001b[39;49;00m(\u001b[33m\"\u001b[39;49;00m\u001b[33mDone loading model.\u001b[39;49;00m\u001b[33m\"\u001b[39;49;00m)\r\n",
      "    \u001b[34mreturn\u001b[39;49;00m model\r\n",
      "\r\n",
      "\u001b[34mdef\u001b[39;49;00m \u001b[32minput_fn\u001b[39;49;00m(serialized_input_data, content_type):\r\n",
      "    \u001b[36mprint\u001b[39;49;00m(\u001b[33m'\u001b[39;49;00m\u001b[33mDeserializing the input data.\u001b[39;49;00m\u001b[33m'\u001b[39;49;00m)\r\n",
      "    \u001b[34mif\u001b[39;49;00m content_type == \u001b[33m'\u001b[39;49;00m\u001b[33mtext/plain\u001b[39;49;00m\u001b[33m'\u001b[39;49;00m:\r\n",
      "        data = serialized_input_data.decode(\u001b[33m'\u001b[39;49;00m\u001b[33mutf-8\u001b[39;49;00m\u001b[33m'\u001b[39;49;00m)\r\n",
      "        \u001b[34mreturn\u001b[39;49;00m data\r\n",
      "    \u001b[34mraise\u001b[39;49;00m \u001b[36mException\u001b[39;49;00m(\u001b[33m'\u001b[39;49;00m\u001b[33mRequested unsupported ContentType in content_type: \u001b[39;49;00m\u001b[33m'\u001b[39;49;00m + content_type)\r\n",
      "\r\n",
      "\u001b[34mdef\u001b[39;49;00m \u001b[32moutput_fn\u001b[39;49;00m(prediction_output, accept):\r\n",
      "    \u001b[36mprint\u001b[39;49;00m(\u001b[33m'\u001b[39;49;00m\u001b[33mSerializing the generated output.\u001b[39;49;00m\u001b[33m'\u001b[39;49;00m)\r\n",
      "    \u001b[34mreturn\u001b[39;49;00m \u001b[36mstr\u001b[39;49;00m(prediction_output)\r\n",
      "\r\n",
      "\u001b[34mdef\u001b[39;49;00m \u001b[32mpredict_fn\u001b[39;49;00m(input_data, model):\r\n",
      "    \u001b[36mprint\u001b[39;49;00m(\u001b[33m'\u001b[39;49;00m\u001b[33mInferring sentiment of input data.\u001b[39;49;00m\u001b[33m'\u001b[39;49;00m)\r\n",
      "\r\n",
      "    device = torch.device(\u001b[33m\"\u001b[39;49;00m\u001b[33mcuda\u001b[39;49;00m\u001b[33m\"\u001b[39;49;00m \u001b[34mif\u001b[39;49;00m torch.cuda.is_available() \u001b[34melse\u001b[39;49;00m \u001b[33m\"\u001b[39;49;00m\u001b[33mcpu\u001b[39;49;00m\u001b[33m\"\u001b[39;49;00m)\r\n",
      "    \r\n",
      "    \u001b[34mif\u001b[39;49;00m model.word_dict \u001b[35mis\u001b[39;49;00m \u001b[34mNone\u001b[39;49;00m:\r\n",
      "        \u001b[34mraise\u001b[39;49;00m \u001b[36mException\u001b[39;49;00m(\u001b[33m'\u001b[39;49;00m\u001b[33mModel has not been loaded properly, no word_dict.\u001b[39;49;00m\u001b[33m'\u001b[39;49;00m)\r\n",
      "    \r\n",
      "    \u001b[37m# TODO: Process input_data so that it is ready to be sent to our model.\u001b[39;49;00m\r\n",
      "    \u001b[37m#       You should produce two variables:\u001b[39;49;00m\r\n",
      "    \u001b[37m#         data_X   - A sequence of length 500 which represents the converted review\u001b[39;49;00m\r\n",
      "    \u001b[37m#         data_len - The length of the review\u001b[39;49;00m\r\n",
      "     \u001b[37m#data_X = None\u001b[39;49;00m\r\n",
      "    \u001b[37m#data_len = None\u001b[39;49;00m\r\n",
      "    \r\n",
      "    \r\n",
      "    words = review_to_words(input_data)\r\n",
      "    data_X, data_len = convert_and_pad(model.word_dict, words)\r\n",
      "\r\n",
      "    \u001b[37m# Using data_X and data_len we construct an appropriate input tensor. Remember\u001b[39;49;00m\r\n",
      "    \u001b[37m# that our model expects input data of the form 'len, review[500]'.\u001b[39;49;00m\r\n",
      "    \r\n",
      "    \r\n",
      "    data_pack = np.hstack((data_len, data_X))\r\n",
      "    data_pack = data_pack.reshape(\u001b[34m1\u001b[39;49;00m, -\u001b[34m1\u001b[39;49;00m)\r\n",
      "    \r\n",
      "    data = torch.from_numpy(data_pack)\r\n",
      "    data = data.to(device)\r\n",
      "    \r\n",
      "\r\n",
      "    \u001b[37m# Make sure to put the model into evaluation mode\u001b[39;49;00m\r\n",
      "    model.eval()\r\n",
      "\r\n",
      "    \u001b[37m# TODO: Compute the result of applying the model to the input data. The variable `result` should\u001b[39;49;00m\r\n",
      "    \u001b[37m#       be a numpy array which contains a single integer which is either 1 or 0\u001b[39;49;00m\r\n",
      "\r\n",
      "    \u001b[34mwith\u001b[39;49;00m torch.no_grad():\r\n",
      "        output = model.forward(data)\r\n",
      "\r\n",
      "    output = output.cpu()\r\n",
      "    result = np.round(output.numpy())\r\n",
      "\r\n",
      "    \u001b[34mreturn\u001b[39;49;00m result\r\n"
     ]
    }
   ],
   "source": [
    "!pygmentize serve/predict.py"
   ]
  },
  {
   "cell_type": "markdown",
   "metadata": {},
   "source": [
    "As mentioned earlier, the `model_fn` method is the same as the one provided in the training code and the `input_fn` and `output_fn` methods are very simple and your task will be to complete the `predict_fn` method. Make sure that you save the completed file as `predict.py` in the `serve` directory.\n",
    "\n",
    "**TODO**: Complete the `predict_fn()` method in the `serve/predict.py` file."
   ]
  },
  {
   "cell_type": "markdown",
   "metadata": {},
   "source": [
    "### Deploying the model\n",
    "\n",
    "Now that the custom inference code has been written, we will create and deploy our model. To begin with, we need to construct a new PyTorchModel object which points to the model artifacts created during training and also points to the inference code that we wish to use. Then we can call the deploy method to launch the deployment container.\n",
    "\n",
    "**NOTE**: The default behaviour for a deployed PyTorch model is to assume that any input passed to the predictor is a `numpy` array. In our case we want to send a string so we need to construct a simple wrapper around the `RealTimePredictor` class to accomodate simple strings. In a more complicated situation you may want to provide a serialization object, for example if you wanted to sent image data."
   ]
  },
  {
   "cell_type": "code",
   "execution_count": 39,
   "metadata": {},
   "outputs": [
    {
     "name": "stderr",
     "output_type": "stream",
     "text": [
      "Parameter image will be renamed to image_uri in SageMaker Python SDK v2.\n",
      "'create_image_uri' will be deprecated in favor of 'ImageURIProvider' class in SageMaker Python SDK v2.\n"
     ]
    },
    {
     "name": "stdout",
     "output_type": "stream",
     "text": [
      "---------------!"
     ]
    }
   ],
   "source": [
    "from sagemaker.predictor import RealTimePredictor\n",
    "from sagemaker.pytorch import PyTorchModel\n",
    "\n",
    "class StringPredictor(RealTimePredictor):\n",
    "    def __init__(self, endpoint_name, sagemaker_session):\n",
    "        super(StringPredictor, self).__init__(endpoint_name, sagemaker_session, content_type='text/plain')\n",
    "\n",
    "model = PyTorchModel(model_data=estimator.model_data,\n",
    "                     role = role,\n",
    "                     framework_version='0.4.0',\n",
    "                     entry_point='predict.py',\n",
    "                     source_dir='serve',\n",
    "                     predictor_cls=StringPredictor)\n",
    "predictor = model.deploy(initial_instance_count=1, instance_type='ml.m4.xlarge')"
   ]
  },
  {
   "cell_type": "markdown",
   "metadata": {},
   "source": [
    "### Testing the model\n",
    "\n",
    "Now that we have deployed our model with the custom inference code, we should test to see if everything is working. Here we test our model by loading the first `250` positive and negative reviews and send them to the endpoint, then collect the results. The reason for only sending some of the data is that the amount of time it takes for our model to process the input and then perform inference is quite long and so testing the entire data set would be prohibitive."
   ]
  },
  {
   "cell_type": "code",
   "execution_count": 44,
   "metadata": {},
   "outputs": [],
   "source": [
    "import glob\n",
    "\n",
    "def test_reviews(data_dir='../data/aclImdb', stop=250):\n",
    "    \n",
    "    results = []\n",
    "    ground = []\n",
    "    \n",
    "    # We make sure to test both positive and negative reviews    \n",
    "    for sentiment in ['pos', 'neg']:\n",
    "        \n",
    "        path = os.path.join(data_dir, 'test', sentiment, '*.txt')\n",
    "        files = glob.glob(path)\n",
    "        \n",
    "        files_read = 0\n",
    "        \n",
    "        print('Starting ', sentiment, ' files')\n",
    "        \n",
    "        # Iterate through the files and send them to the predictor\n",
    "        for f in files:\n",
    "            with open(f) as review:\n",
    "                # First, we store the ground truth (was the review positive or negative)\n",
    "                if sentiment == 'pos':\n",
    "                    ground.append(1)\n",
    "                else:\n",
    "                    ground.append(0)\n",
    "                # Read in the review and convert to 'utf-8' for transmission via HTTP\n",
    "                review_input = review.read().encode('utf-8')\n",
    "                # Send the review to the predictor and store the results\n",
    "                rlt = predictor.predict(review_input)\n",
    "                rtn = 1 if(b'1.0' == rlt) else 0\n",
    "                results.append(rtn)\n",
    "                \n",
    "            # Sending reviews to our endpoint one at a time takes a while so we\n",
    "            # only send a small number of reviews\n",
    "            files_read += 1\n",
    "            if files_read == stop:\n",
    "                break\n",
    "            \n",
    "    return ground, results"
   ]
  },
  {
   "cell_type": "code",
   "execution_count": 45,
   "metadata": {},
   "outputs": [
    {
     "name": "stdout",
     "output_type": "stream",
     "text": [
      "Starting  pos  files\n",
      "Starting  neg  files\n"
     ]
    }
   ],
   "source": [
    "ground, results = test_reviews()"
   ]
  },
  {
   "cell_type": "code",
   "execution_count": 46,
   "metadata": {},
   "outputs": [
    {
     "data": {
      "text/plain": [
       "0.864"
      ]
     },
     "execution_count": 46,
     "metadata": {},
     "output_type": "execute_result"
    }
   ],
   "source": [
    "from sklearn.metrics import accuracy_score\n",
    "accuracy_score(ground, results)"
   ]
  },
  {
   "cell_type": "markdown",
   "metadata": {},
   "source": [
    "As an additional test, we can try sending the `test_review` that we looked at earlier."
   ]
  },
  {
   "cell_type": "code",
   "execution_count": 47,
   "metadata": {},
   "outputs": [
    {
     "data": {
      "text/plain": [
       "b'1.0'"
      ]
     },
     "execution_count": 47,
     "metadata": {},
     "output_type": "execute_result"
    }
   ],
   "source": [
    "predictor.predict(test_review)"
   ]
  },
  {
   "cell_type": "markdown",
   "metadata": {},
   "source": [
    "Now that we know our endpoint is working as expected, we can set up the web page that will interact with it. If you don't have time to finish the project now, make sure to skip down to the end of this notebook and shut down your endpoint. You can deploy it again when you come back."
   ]
  },
  {
   "cell_type": "markdown",
   "metadata": {},
   "source": [
    "## Step 7 (again): Use the model for the web app\n",
    "\n",
    "> **TODO:** This entire section and the next contain tasks for you to complete, mostly using the AWS console.\n",
    "\n",
    "So far we have been accessing our model endpoint by constructing a predictor object which uses the endpoint and then just using the predictor object to perform inference. What if we wanted to create a web app which accessed our model? The way things are set up currently makes that not possible since in order to access a SageMaker endpoint the app would first have to authenticate with AWS using an IAM role which included access to SageMaker endpoints. However, there is an easier way! We just need to use some additional AWS services.\n",
    "\n",
    "<img src=\"Web App Diagram.svg\">\n",
    "\n",
    "The diagram above gives an overview of how the various services will work together. On the far right is the model which we trained above and which is deployed using SageMaker. On the far left is our web app that collects a user's movie review, sends it off and expects a positive or negative sentiment in return.\n",
    "\n",
    "In the middle is where some of the magic happens. We will construct a Lambda function, which you can think of as a straightforward Python function that can be executed whenever a specified event occurs. We will give this function permission to send and recieve data from a SageMaker endpoint.\n",
    "\n",
    "Lastly, the method we will use to execute the Lambda function is a new endpoint that we will create using API Gateway. This endpoint will be a url that listens for data to be sent to it. Once it gets some data it will pass that data on to the Lambda function and then return whatever the Lambda function returns. Essentially it will act as an interface that lets our web app communicate with the Lambda function.\n",
    "\n",
    "### Setting up a Lambda function\n",
    "\n",
    "The first thing we are going to do is set up a Lambda function. This Lambda function will be executed whenever our public API has data sent to it. When it is executed it will receive the data, perform any sort of processing that is required, send the data (the review) to the SageMaker endpoint we've created and then return the result.\n",
    "\n",
    "#### Part A: Create an IAM Role for the Lambda function\n",
    "\n",
    "Since we want the Lambda function to call a SageMaker endpoint, we need to make sure that it has permission to do so. To do this, we will construct a role that we can later give the Lambda function.\n",
    "\n",
    "Using the AWS Console, navigate to the **IAM** page and click on **Roles**. Then, click on **Create role**. Make sure that the **AWS service** is the type of trusted entity selected and choose **Lambda** as the service that will use this role, then click **Next: Permissions**.\n",
    "\n",
    "In the search box type `sagemaker` and select the check box next to the **AmazonSageMakerFullAccess** policy. Then, click on **Next: Review**.\n",
    "\n",
    "Lastly, give this role a name. Make sure you use a name that you will remember later on, for example `LambdaSageMakerRole`. Then, click on **Create role**.\n",
    "\n",
    "#### Part B: Create a Lambda function\n",
    "\n",
    "Now it is time to actually create the Lambda function.\n",
    "\n",
    "Using the AWS Console, navigate to the AWS Lambda page and click on **Create a function**. When you get to the next page, make sure that **Author from scratch** is selected. Now, name your Lambda function, using a name that you will remember later on, for example `sentiment_analysis_func`. Make sure that the **Python 3.6** runtime is selected and then choose the role that you created in the previous part. Then, click on **Create Function**.\n",
    "\n",
    "On the next page you will see some information about the Lambda function you've just created. If you scroll down you should see an editor in which you can write the code that will be executed when your Lambda function is triggered. In our example, we will use the code below. \n",
    "\n",
    "```python\n",
    "# We need to use the low-level library to interact with SageMaker since the SageMaker API\n",
    "# is not available natively through Lambda.\n",
    "import boto3\n",
    "\n",
    "def lambda_handler(event, context):\n",
    "\n",
    "    # The SageMaker runtime is what allows us to invoke the endpoint that we've created.\n",
    "    runtime = boto3.Session().client('sagemaker-runtime')\n",
    "\n",
    "    # Now we use the SageMaker runtime to invoke our endpoint, sending the review we were given\n",
    "    response = runtime.invoke_endpoint(EndpointName = '**ENDPOINT NAME HERE**',    # The name of the endpoint we created\n",
    "                                       ContentType = 'text/plain',                 # The data format that is expected\n",
    "                                       Body = event['body'])                       # The actual review\n",
    "\n",
    "    # The response is an HTTP response whose body contains the result of our inference\n",
    "    result = response['Body'].read().decode('utf-8')\n",
    "\n",
    "    return {\n",
    "        'statusCode' : 200,\n",
    "        'headers' : { 'Content-Type' : 'text/plain', 'Access-Control-Allow-Origin' : '*' },\n",
    "        'body' : result\n",
    "    }\n",
    "```\n",
    "\n",
    "Once you have copy and pasted the code above into the Lambda code editor, replace the `**ENDPOINT NAME HERE**` portion with the name of the endpoint that we deployed earlier. You can determine the name of the endpoint using the code cell below."
   ]
  },
  {
   "cell_type": "code",
   "execution_count": 48,
   "metadata": {},
   "outputs": [
    {
     "data": {
      "text/plain": [
       "'sagemaker-pytorch-2020-07-30-20-38-43-137'"
      ]
     },
     "execution_count": 48,
     "metadata": {},
     "output_type": "execute_result"
    }
   ],
   "source": [
    "predictor.endpoint"
   ]
  },
  {
   "cell_type": "markdown",
   "metadata": {},
   "source": [
    "Once you have added the endpoint name to the Lambda function, click on **Save**. Your Lambda function is now up and running. Next we need to create a way for our web app to execute the Lambda function.\n",
    "\n",
    "### Setting up API Gateway\n",
    "\n",
    "Now that our Lambda function is set up, it is time to create a new API using API Gateway that will trigger the Lambda function we have just created.\n",
    "\n",
    "Using AWS Console, navigate to **Amazon API Gateway** and then click on **Get started**.\n",
    "\n",
    "On the next page, make sure that **New API** is selected and give the new api a name, for example, `sentiment_analysis_api`. Then, click on **Create API**.\n",
    "\n",
    "Now we have created an API, however it doesn't currently do anything. What we want it to do is to trigger the Lambda function that we created earlier.\n",
    "\n",
    "Select the **Actions** dropdown menu and click **Create Method**. A new blank method will be created, select its dropdown menu and select **POST**, then click on the check mark beside it.\n",
    "\n",
    "For the integration point, make sure that **Lambda Function** is selected and click on the **Use Lambda Proxy integration**. This option makes sure that the data that is sent to the API is then sent directly to the Lambda function with no processing. It also means that the return value must be a proper response object as it will also not be processed by API Gateway.\n",
    "\n",
    "Type the name of the Lambda function you created earlier into the **Lambda Function** text entry box and then click on **Save**. Click on **OK** in the pop-up box that then appears, giving permission to API Gateway to invoke the Lambda function you created.\n",
    "\n",
    "The last step in creating the API Gateway is to select the **Actions** dropdown and click on **Deploy API**. You will need to create a new Deployment stage and name it anything you like, for example `prod`.\n",
    "\n",
    "You have now successfully set up a public API to access your SageMaker model. Make sure to copy or write down the URL provided to invoke your newly created public API as this will be needed in the next step. This URL can be found at the top of the page, highlighted in blue next to the text **Invoke URL**."
   ]
  },
  {
   "cell_type": "code",
   "execution_count": 1,
   "metadata": {},
   "outputs": [],
   "source": [
    "#https://xm00yvi3rb.execute-api.us-east-2.amazonaws.com/prod"
   ]
  },
  {
   "cell_type": "code",
   "execution_count": null,
   "metadata": {},
   "outputs": [],
   "source": []
  },
  {
   "cell_type": "markdown",
   "metadata": {},
   "source": [
    "## Step 4: Deploying our web app\n",
    "\n",
    "Now that we have a publicly available API, we can start using it in a web app. For our purposes, we have provided a simple static html file which can make use of the public api you created earlier.\n",
    "\n",
    "In the `website` folder there should be a file called `index.html`. Download the file to your computer and open that file up in a text editor of your choice. There should be a line which contains **\\*\\*REPLACE WITH PUBLIC API URL\\*\\***. Replace this string with the url that you wrote down in the last step and then save the file.\n",
    "\n",
    "Now, if you open `index.html` on your local computer, your browser will behave as a local web server and you can use the provided site to interact with your SageMaker model.\n",
    "\n",
    "If you'd like to go further, you can host this html file anywhere you'd like, for example using github or hosting a static site on Amazon's S3. Once you have done this you can share the link with anyone you'd like and have them play with it too!\n",
    "\n",
    "> **Important Note** In order for the web app to communicate with the SageMaker endpoint, the endpoint has to actually be deployed and running. This means that you are paying for it. Make sure that the endpoint is running when you want to use the web app but that you shut it down when you don't need it, otherwise you will end up with a surprisingly large AWS bill.\n",
    "\n",
    "**TODO:** Make sure that you include the edited `index.html` file in your project submission."
   ]
  },
  {
   "cell_type": "markdown",
   "metadata": {},
   "source": [
    "Now that your web app is working, trying playing around with it and see how well it works.\n",
    "\n",
    "**Question**: Give an example of a review that you entered into your web app. What was the predicted sentiment of your example review?"
   ]
  },
  {
   "cell_type": "markdown",
   "metadata": {},
   "source": [
    "**Answer:**\n",
    "the tv was bad. i hate it\n",
    "the sentiment was negative."
   ]
  },
  {
   "cell_type": "markdown",
   "metadata": {},
   "source": [
    "### Delete the endpoint\n",
    "\n",
    "Remember to always shut down your endpoint if you are no longer using it. You are charged for the length of time that the endpoint is running so if you forget and leave it on you could end up with an unexpectedly large bill."
   ]
  },
  {
   "cell_type": "code",
   "execution_count": null,
   "metadata": {},
   "outputs": [],
   "source": [
    "predictor.delete_endpoint()"
   ]
  },
  {
   "cell_type": "code",
   "execution_count": null,
   "metadata": {},
   "outputs": [],
   "source": []
  }
 ],
 "metadata": {
  "kernelspec": {
   "display_name": "conda_pytorch_p36",
   "language": "python",
   "name": "conda_pytorch_p36"
  },
  "language_info": {
   "codemirror_mode": {
    "name": "ipython",
    "version": 3
   },
   "file_extension": ".py",
   "mimetype": "text/x-python",
   "name": "python",
   "nbconvert_exporter": "python",
   "pygments_lexer": "ipython3",
   "version": "3.6.10"
  }
 },
 "nbformat": 4,
 "nbformat_minor": 2
}
